{
 "cells": [
  {
   "cell_type": "markdown",
   "metadata": {},
   "source": [
    "# Face Recognition for the Happy House\n",
    "\n",
    "Welcome to the first assignment of week 4! Here you will build a face recognition system. Many of the ideas presented here are from [FaceNet](https://arxiv.org/pdf/1503.03832.pdf). In lecture, we also talked about [DeepFace](https://research.fb.com/wp-content/uploads/2016/11/deepface-closing-the-gap-to-human-level-performance-in-face-verification.pdf). \n",
    "\n",
    "Face recognition problems commonly fall into two categories: \n",
    "\n",
    "- **Face Verification** - \"is this the claimed person?\". For example, at some airports, you can pass through customs by letting a system scan your passport and then verifying that you (the person carrying the passport) are the correct person. A mobile phone that unlocks using your face is also using face verification. This is a 1:1 matching problem. \n",
    "- **Face Recognition** - \"who is this person?\". For example, the video lecture showed a face recognition video (https://www.youtube.com/watch?v=wr4rx0Spihs) of Baidu employees entering the office without needing to otherwise identify themselves. This is a 1:K matching problem. \n",
    "\n",
    "FaceNet learns a neural network that encodes a face image into a vector of 128 numbers. By comparing two such vectors, you can then determine if two pictures are of the same person.\n",
    "    \n",
    "**In this assignment, you will:**\n",
    "- Implement the triplet loss function\n",
    "- Use a pretrained model to map face images into 128-dimensional encodings\n",
    "- Use these encodings to perform face verification and face recognition\n",
    "\n",
    "In this exercise, we will be using a pre-trained model which represents ConvNet activations using a \"channels first\" convention, as opposed to the \"channels last\" convention used in lecture and previous programming assignments. In other words, a batch of images will be of shape $(m, n_C, n_H, n_W)$ instead of $(m, n_H, n_W, n_C)$. Both of these conventions have a reasonable amount of traction among open-source implementations; there isn't a uniform standard yet within the deep learning community. \n",
    "\n",
    "Let's load the required packages. \n"
   ]
  },
  {
   "cell_type": "code",
   "execution_count": 1,
   "metadata": {},
   "outputs": [
    {
     "name": "stderr",
     "output_type": "stream",
     "text": [
      "Using TensorFlow backend.\n"
     ]
    }
   ],
   "source": [
    "from keras.models import Sequential\n",
    "from keras.layers import Conv2D, ZeroPadding2D, Activation, Input, concatenate\n",
    "from keras.models import Model\n",
    "from keras.layers.normalization import BatchNormalization\n",
    "from keras.layers.pooling import MaxPooling2D, AveragePooling2D\n",
    "from keras.layers.merge import Concatenate\n",
    "from keras.layers.core import Lambda, Flatten, Dense\n",
    "from keras.initializers import glorot_uniform\n",
    "from keras.engine.topology import Layer\n",
    "from keras import backend as K\n",
    "K.set_image_data_format('channels_first')\n",
    "import cv2\n",
    "import os\n",
    "import numpy as np\n",
    "from numpy import genfromtxt\n",
    "import pandas as pd\n",
    "import tensorflow as tf\n",
    "from fr_utils import *\n",
    "from inception_blocks_v2 import *\n",
    "\n",
    "%matplotlib inline\n",
    "%load_ext autoreload\n",
    "%autoreload 2\n",
    "\n",
    "np.set_printoptions(threshold=np.nan)"
   ]
  },
  {
   "cell_type": "markdown",
   "metadata": {},
   "source": [
    "## 0 - Naive Face Verification\n",
    "\n",
    "In Face Verification, you're given two images and you have to tell if they are of the same person. The simplest way to do this is to compare the two images pixel-by-pixel. If the distance between the raw images are less than a chosen threshold, it may be the same person! \n",
    "\n",
    "<img src=\"images/pixel_comparison.png\" style=\"width:380px;height:150px;\">\n",
    "<caption><center> <u> <font color='purple'> **Figure 1** </u></center></caption>"
   ]
  },
  {
   "cell_type": "markdown",
   "metadata": {
    "collapsed": true
   },
   "source": [
    "Of course, this algorithm performs really poorly, since the pixel values change dramatically due to variations in lighting, orientation of the person's face, even minor changes in head position, and so on. \n",
    "\n",
    "You'll see that rather than using the raw image, you can learn an encoding $f(img)$ so that element-wise comparisons of this encoding gives more accurate judgements as to whether two pictures are of the same person."
   ]
  },
  {
   "cell_type": "markdown",
   "metadata": {},
   "source": [
    "## 1 - Encoding face images into a 128-dimensional vector \n",
    "\n",
    "### 1.1 - Using an ConvNet  to compute encodings\n",
    "\n",
    "The FaceNet model takes a lot of data and a long time to train. So following common practice in applied deep learning settings, let's just load weights that someone else has already trained. The network architecture follows the Inception model from [Szegedy *et al.*](https://arxiv.org/abs/1409.4842). We have provided an inception network implementation. You can look in the file `inception_blocks.py` to see how it is implemented (do so by going to \"File->Open...\" at the top of the Jupyter notebook).  \n"
   ]
  },
  {
   "cell_type": "markdown",
   "metadata": {},
   "source": [
    "The key things you need to know are:\n",
    "\n",
    "- This network uses 96x96 dimensional RGB images as its input. Specifically, inputs a face image (or batch of $m$ face images) as a tensor of shape $(m, n_C, n_H, n_W) = (m, 3, 96, 96)$ \n",
    "- It outputs a matrix of shape $(m, 128)$ that encodes each input face image into a 128-dimensional vector\n",
    "\n",
    "Run the cell below to create the model for face images."
   ]
  },
  {
   "cell_type": "code",
   "execution_count": 2,
   "metadata": {
    "collapsed": true
   },
   "outputs": [],
   "source": [
    "FRmodel = faceRecoModel(input_shape=(3, 96, 96))"
   ]
  },
  {
   "cell_type": "code",
   "execution_count": 3,
   "metadata": {},
   "outputs": [
    {
     "name": "stdout",
     "output_type": "stream",
     "text": [
      "Total Params: 3743280\n"
     ]
    }
   ],
   "source": [
    "print(\"Total Params:\", FRmodel.count_params())"
   ]
  },
  {
   "cell_type": "markdown",
   "metadata": {},
   "source": [
    "** Expected Output **\n",
    "<table>\n",
    "<center>\n",
    "Total Params: 3743280\n",
    "</center>\n",
    "</table>\n"
   ]
  },
  {
   "cell_type": "markdown",
   "metadata": {},
   "source": [
    "By using a 128-neuron fully connected layer as its last layer, the model ensures that the output is an encoding vector of size 128. You then use the encodings the compare two face images as follows:\n",
    "\n",
    "<img src=\"images/distance_kiank.png\" style=\"width:680px;height:250px;\">\n",
    "<caption><center> <u> <font color='purple'> **Figure 2**: <br> </u> <font color='purple'> By computing a distance between two encodings and thresholding, you can determine if the two pictures represent the same person</center></caption>\n",
    "\n",
    "So, an encoding is a good one if: \n",
    "- The encodings of two images of the same person are quite similar to each other \n",
    "- The encodings of two images of different persons are very different\n",
    "\n",
    "The triplet loss function formalizes this, and tries to \"push\" the encodings of two images of the same person (Anchor and Positive) closer together, while \"pulling\" the encodings of two images of different persons (Anchor, Negative) further apart. \n",
    "\n",
    "<img src=\"images/triplet_comparison.png\" style=\"width:280px;height:150px;\">\n",
    "<br>\n",
    "<caption><center> <u> <font color='purple'> **Figure 3**: <br> </u> <font color='purple'> In the next part, we will call the pictures from left to right: Anchor (A), Positive (P), Negative (N)  </center></caption>"
   ]
  },
  {
   "cell_type": "markdown",
   "metadata": {},
   "source": [
    "\n",
    "\n",
    "### 1.2 - The Triplet Loss\n",
    "\n",
    "For an image $x$, we denote its encoding $f(x)$, where $f$ is the function computed by the neural network.\n",
    "\n",
    "<img src=\"images/f_x.png\" style=\"width:380px;height:150px;\">\n",
    "\n",
    "<!--\n",
    "We will also add a normalization step at the end of our model so that $\\mid \\mid f(x) \\mid \\mid_2 = 1$ (means the vector of encoding should be of norm 1).\n",
    "!-->\n",
    "\n",
    "Training will use triplets of images $(A, P, N)$:  \n",
    "\n",
    "- A is an \"Anchor\" image--a picture of a person. \n",
    "- P is a \"Positive\" image--a picture of the same person as the Anchor image.\n",
    "- N is a \"Negative\" image--a picture of a different person than the Anchor image.\n",
    "\n",
    "These triplets are picked from our training dataset. We will write $(A^{(i)}, P^{(i)}, N^{(i)})$ to denote the $i$-th training example. \n",
    "\n",
    "You'd like to make sure that an image $A^{(i)}$ of an individual is closer to the Positive $P^{(i)}$ than to the Negative image $N^{(i)}$) by at least a margin $\\alpha$:\n",
    "\n",
    "$$\\mid \\mid f(A^{(i)}) - f(P^{(i)}) \\mid \\mid_2^2 + \\alpha < \\mid \\mid f(A^{(i)}) - f(N^{(i)}) \\mid \\mid_2^2$$\n",
    "\n",
    "You would thus like to minimize the following \"triplet cost\":\n",
    "\n",
    "$$\\mathcal{J} = \\sum^{m}_{i=1} \\large[ \\small \\underbrace{\\mid \\mid f(A^{(i)}) - f(P^{(i)}) \\mid \\mid_2^2}_\\text{(1)} - \\underbrace{\\mid \\mid f(A^{(i)}) - f(N^{(i)}) \\mid \\mid_2^2}_\\text{(2)} + \\alpha \\large ] \\small_+ \\tag{3}$$\n",
    "\n",
    "Here, we are using the notation \"$[z]_+$\" to denote $max(z,0)$.  \n",
    "\n",
    "Notes:\n",
    "- The term (1) is the squared distance between the anchor \"A\" and the positive \"P\" for a given triplet; you want this to be small. \n",
    "- The term (2) is the squared distance between the anchor \"A\" and the negative \"N\" for a given triplet, you want this to be relatively large, so it thus makes sense to have a minus sign preceding it. \n",
    "- $\\alpha$ is called the margin. It is a hyperparameter that you should pick manually. We will use $\\alpha = 0.2$. \n",
    "\n",
    "Most implementations also normalize the encoding vectors  to have norm equal one (i.e., $\\mid \\mid f(img)\\mid \\mid_2$=1); you won't have to worry about that here.\n",
    "\n",
    "**Exercise**: Implement the triplet loss as defined by formula (3). Here are the 4 steps:\n",
    "1. Compute the distance between the encodings of \"anchor\" and \"positive\": $\\mid \\mid f(A^{(i)}) - f(P^{(i)}) \\mid \\mid_2^2$\n",
    "2. Compute the distance between the encodings of \"anchor\" and \"negative\": $\\mid \\mid f(A^{(i)}) - f(N^{(i)}) \\mid \\mid_2^2$\n",
    "3. Compute the formula per training example: $ \\mid \\mid f(A^{(i)}) - f(P^{(i)}) \\mid - \\mid \\mid f(A^{(i)}) - f(N^{(i)}) \\mid \\mid_2^2 + \\alpha$\n",
    "3. Compute the full formula by taking the max with zero and summing over the training examples:\n",
    "$$\\mathcal{J} = \\sum^{m}_{i=1} \\large[ \\small \\mid \\mid f(A^{(i)}) - f(P^{(i)}) \\mid \\mid_2^2 - \\mid \\mid f(A^{(i)}) - f(N^{(i)}) \\mid \\mid_2^2+ \\alpha \\large ] \\small_+ \\tag{3}$$\n",
    "\n",
    "Useful functions: `tf.reduce_sum()`, `tf.square()`, `tf.subtract()`, `tf.add()`, `tf.maximum()`.\n",
    "For steps 1 and 2, you will need to sum over the entries of $\\mid \\mid f(A^{(i)}) - f(P^{(i)}) \\mid \\mid_2^2$ and $\\mid \\mid f(A^{(i)}) - f(N^{(i)}) \\mid \\mid_2^2$ while for step 4 you will need to sum over the training examples."
   ]
  },
  {
   "cell_type": "code",
   "execution_count": 26,
   "metadata": {
    "collapsed": true
   },
   "outputs": [],
   "source": [
    "# GRADED FUNCTION: triplet_loss\n",
    "\n",
    "def triplet_loss(y_true, y_pred, alpha = 0.2):\n",
    "    \"\"\"\n",
    "    Implementation of the triplet loss as defined by formula (3)\n",
    "    \n",
    "    Arguments:\n",
    "    y_true -- true labels, required when you define a loss in Keras, you don't need it in this function.\n",
    "    y_pred -- python list containing three objects:\n",
    "            anchor -- the encodings for the anchor images, of shape (None, 128)\n",
    "            positive -- the encodings for the positive images, of shape (None, 128)\n",
    "            negative -- the encodings for the negative images, of shape (None, 128)\n",
    "    \n",
    "    Returns:\n",
    "    loss -- real number, value of the loss\n",
    "    \"\"\"\n",
    "    \n",
    "    anchor, positive, negative = y_pred[0], y_pred[1], y_pred[2]\n",
    "    \n",
    "    ### START CODE HERE ### (≈ 4 lines)\n",
    "    # Step 1: Compute the (encoding) distance between the anchor and the positive, you will need to sum over axis=-1\n",
    "    pos_dist = tf.reduce_sum(tf.square(anchor - positive), axis=-1)\n",
    "    # Step 2: Compute the (encoding) distance between the anchor and the negative, you will need to sum over axis=-1\n",
    "    neg_dist = tf.reduce_sum(tf.square(anchor - negative), axis=-1)\n",
    "    # Step 3: subtract the two previous distances and add alpha.\n",
    "    basic_loss = pos_dist - neg_dist + alpha\n",
    "    # Step 4: Take the maximum of basic_loss and 0.0. Sum over the training examples.\n",
    "    loss = tf.reduce_sum(tf.maximum(basic_loss, 0.0))\n",
    "    ### END CODE HERE ###\n",
    "    \n",
    "    return loss"
   ]
  },
  {
   "cell_type": "code",
   "execution_count": 27,
   "metadata": {},
   "outputs": [
    {
     "name": "stdout",
     "output_type": "stream",
     "text": [
      "loss = 528.143\n"
     ]
    }
   ],
   "source": [
    "with tf.Session() as test:\n",
    "    tf.set_random_seed(1)\n",
    "    y_true = (None, None, None)\n",
    "    y_pred = (tf.random_normal([3, 128], mean=6, stddev=0.1, seed = 1),\n",
    "              tf.random_normal([3, 128], mean=1, stddev=1, seed = 1),\n",
    "              tf.random_normal([3, 128], mean=3, stddev=4, seed = 1))\n",
    "    loss = triplet_loss(y_true, y_pred)\n",
    "    \n",
    "    print(\"loss = \" + str(loss.eval()))"
   ]
  },
  {
   "cell_type": "markdown",
   "metadata": {},
   "source": [
    "**Expected Output**:\n",
    "\n",
    "<table>\n",
    "    <tr>\n",
    "        <td>\n",
    "            **loss**\n",
    "        </td>\n",
    "        <td>\n",
    "           528.143\n",
    "        </td>\n",
    "    </tr>\n",
    "\n",
    "</table>"
   ]
  },
  {
   "cell_type": "markdown",
   "metadata": {},
   "source": [
    "## 2 - Loading the trained model\n",
    "\n",
    "FaceNet is trained by minimizing the triplet loss. But since training requires a lot of data and a lot of computation, we won't train it from scratch here. Instead, we load a previously trained model. Load a model using the following cell; this might take a couple of minutes to run. "
   ]
  },
  {
   "cell_type": "code",
   "execution_count": 8,
   "metadata": {
    "collapsed": true
   },
   "outputs": [],
   "source": [
    "FRmodel.compile(optimizer = 'adam', loss = triplet_loss, metrics = ['accuracy'])\n",
    "load_weights_from_FaceNet(FRmodel)"
   ]
  },
  {
   "cell_type": "markdown",
   "metadata": {},
   "source": [
    "Here're some examples of distances between the encodings between three individuals:\n",
    "\n",
    "<img src=\"images/distance_matrix.png\" style=\"width:380px;height:200px;\">\n",
    "<br>\n",
    "<caption><center> <u> <font color='purple'> **Figure 4**:</u> <br>  <font color='purple'> Example of distance outputs between three individuals' encodings</center></caption>\n",
    "\n",
    "Let's now use this model to perform face verification and face recognition! "
   ]
  },
  {
   "cell_type": "markdown",
   "metadata": {},
   "source": [
    "## 3 - Applying the model"
   ]
  },
  {
   "cell_type": "markdown",
   "metadata": {},
   "source": [
    "Back to the Happy House! Residents are living blissfully since you implemented happiness recognition for the house in an earlier assignment.  \n",
    "\n",
    "However, several issues keep coming up: The Happy House became so happy that every happy person in the neighborhood is coming to hang out in your living room. It is getting really crowded, which is having a negative impact on the residents of the house. All these random happy people are also eating all your food. \n",
    "\n",
    "So, you decide to change the door entry policy, and not just let random happy people enter anymore, even if they are happy! Instead, you'd like to build a **Face verification** system so as to only let people from a specified list come in. To get admitted, each person has to swipe an ID card (identification card) to identify themselves at the door. The face recognition system then checks that they are who they claim to be. "
   ]
  },
  {
   "cell_type": "markdown",
   "metadata": {},
   "source": [
    "### 3.1 - Face Verification\n",
    "\n",
    "Let's build a database containing one encoding vector for each person allowed to enter the happy house. To generate the encoding we use `img_to_encoding(image_path, model)` which basically runs the forward propagation of the model on the specified image. \n",
    "\n",
    "Run the following code to build the database (represented as a python dictionary). This database maps each person's name to a 128-dimensional encoding of their face."
   ]
  },
  {
   "cell_type": "code",
   "execution_count": 9,
   "metadata": {
    "collapsed": true
   },
   "outputs": [],
   "source": [
    "database = {}\n",
    "database[\"danielle\"] = img_to_encoding(\"images/danielle.png\", FRmodel)\n",
    "database[\"younes\"] = img_to_encoding(\"images/younes.jpg\", FRmodel)\n",
    "database[\"tian\"] = img_to_encoding(\"images/tian.jpg\", FRmodel)\n",
    "database[\"andrew\"] = img_to_encoding(\"images/andrew.jpg\", FRmodel)\n",
    "database[\"kian\"] = img_to_encoding(\"images/kian.jpg\", FRmodel)\n",
    "database[\"dan\"] = img_to_encoding(\"images/dan.jpg\", FRmodel)\n",
    "database[\"sebastiano\"] = img_to_encoding(\"images/sebastiano.jpg\", FRmodel)\n",
    "database[\"bertrand\"] = img_to_encoding(\"images/bertrand.jpg\", FRmodel)\n",
    "database[\"kevin\"] = img_to_encoding(\"images/kevin.jpg\", FRmodel)\n",
    "database[\"felix\"] = img_to_encoding(\"images/felix.jpg\", FRmodel)\n",
    "database[\"benoit\"] = img_to_encoding(\"images/benoit.jpg\", FRmodel)\n",
    "database[\"arnaud\"] = img_to_encoding(\"images/arnaud.jpg\", FRmodel)"
   ]
  },
  {
   "cell_type": "code",
   "execution_count": 10,
   "metadata": {},
   "outputs": [
    {
     "data": {
      "text/plain": [
       "{'andrew': array([[ 0.16161957, -0.06403976,  0.00219857, -0.04197879,  0.0934692 ,\n",
       "          0.20562132,  0.12494122,  0.02680003, -0.12763411, -0.11262181,\n",
       "         -0.03107649,  0.04363776,  0.14626062,  0.0384545 ,  0.07879486,\n",
       "         -0.1128317 ,  0.01420804, -0.02750778, -0.0632643 ,  0.13397545,\n",
       "          0.07688542,  0.05936697,  0.00945646,  0.15419535, -0.08248103,\n",
       "         -0.07293278, -0.14824663, -0.15512455, -0.00425247,  0.07445042,\n",
       "         -0.03990025,  0.03954417, -0.14082803,  0.07435866,  0.02989097,\n",
       "          0.02714478,  0.01490989,  0.09542265, -0.03989137, -0.02652633,\n",
       "          0.08977512,  0.03180735, -0.10132371, -0.07919452, -0.15734208,\n",
       "          0.01482356,  0.03443378,  0.03917416, -0.08184701,  0.04209472,\n",
       "         -0.0391972 , -0.11930563,  0.08438726,  0.07760663,  0.08840936,\n",
       "         -0.01585774, -0.01170488,  0.17660998, -0.04050165, -0.08612563,\n",
       "         -0.0346524 ,  0.15780036,  0.0752027 , -0.17770022,  0.02524516,\n",
       "          0.02246974,  0.11478778,  0.03914229, -0.09476997, -0.12463199,\n",
       "          0.03759939,  0.05503497, -0.00029502, -0.00599162,  0.01094354,\n",
       "          0.09305068, -0.04536211, -0.10035574,  0.15438537,  0.11397272,\n",
       "          0.04002561,  0.01436813, -0.01748638, -0.08823781,  0.0320037 ,\n",
       "         -0.00023021,  0.10030454,  0.01394315, -0.07903005,  0.03293097,\n",
       "          0.15368396, -0.11213669,  0.07401499,  0.06123361, -0.1783725 ,\n",
       "         -0.07884614,  0.04645953, -0.0002417 ,  0.03527128,  0.02592311,\n",
       "          0.1134145 ,  0.07026257, -0.05445415,  0.09657893, -0.17342308,\n",
       "          0.06129872, -0.07760925,  0.00467737, -0.10431042,  0.03944216,\n",
       "          0.10737555,  0.07386845, -0.06278981, -0.04545467, -0.06690469,\n",
       "          0.1286502 , -0.18798153, -0.01798188, -0.16806398,  0.05734038,\n",
       "         -0.07086246, -0.08988193, -0.01063302,  0.02298436, -0.03099936,\n",
       "          0.11156229, -0.12110747, -0.09365972]], dtype=float32),\n",
       " 'arnaud': array([[ 0.06380596,  0.03605966, -0.04408306, -0.08379935,  0.17852271,\n",
       "          0.11843574,  0.00078076, -0.02578928, -0.13217728, -0.107962  ,\n",
       "          0.00752777,  0.05471089,  0.10628716,  0.06269632,  0.01166593,\n",
       "          0.00176354,  0.06674285, -0.07018088, -0.07004614,  0.23918612,\n",
       "          0.08886271, -0.01450193,  0.093986  ,  0.05893304, -0.04271188,\n",
       "          0.01663625, -0.07951697, -0.0911359 ,  0.113839  ,  0.02067116,\n",
       "         -0.00303203,  0.02166795, -0.02292055,  0.05334233, -0.02524124,\n",
       "          0.08893308,  0.0341517 ,  0.21019013, -0.00597704, -0.02109788,\n",
       "          0.04615298,  0.09228749, -0.04341515, -0.08820996, -0.13334644,\n",
       "          0.09230306,  0.13363111,  0.02085443, -0.12605165,  0.01349071,\n",
       "         -0.1460945 , -0.0380402 , -0.01041063,  0.04618076,  0.07979078,\n",
       "         -0.01015991, -0.01825141,  0.20138478, -0.11876829, -0.06863357,\n",
       "         -0.09456466,  0.10992678,  0.18022855, -0.18529972,  0.1014348 ,\n",
       "          0.05829389,  0.02559826,  0.10641454, -0.06816593, -0.04392495,\n",
       "          0.05098409,  0.05504589, -0.01608294,  0.0109812 ,  0.10871303,\n",
       "          0.08338595, -0.01590674,  0.03274242,  0.09028545, -0.01123902,\n",
       "         -0.04153428,  0.09203625, -0.02676166, -0.01736838, -0.00967172,\n",
       "          0.01957372,  0.03403174,  0.12355267, -0.01767573,  0.02142083,\n",
       "          0.15948164, -0.12013772,  0.02199866,  0.1090705 ,  0.00896383,\n",
       "         -0.13480164,  0.02066222,  0.07809276, -0.00491242, -0.01490545,\n",
       "         -0.04072323, -0.03531971, -0.09675601,  0.11956204, -0.18689413,\n",
       "          0.17103426, -0.04700129,  0.03454637,  0.04129978, -0.08249249,\n",
       "          0.03954127,  0.12565404, -0.04749863,  0.10681187,  0.0033706 ,\n",
       "          0.05375176, -0.24487108, -0.06679599, -0.09457956,  0.10007961,\n",
       "         -0.09144492,  0.02510547, -0.00988146,  0.05474532, -0.06818303,\n",
       "          0.13828033, -0.10308862, -0.10977543]], dtype=float32),\n",
       " 'benoit': array([[ 0.09138112,  0.04696418,  0.07817798, -0.02752259,  0.15152363,\n",
       "          0.20292358,  0.10207082, -0.02964678, -0.07542378, -0.04394204,\n",
       "         -0.0532941 ,  0.03768596,  0.1107545 ,  0.05794148,  0.10918823,\n",
       "         -0.08758836,  0.01961732, -0.01174839, -0.10770068,  0.13443762,\n",
       "          0.04709814,  0.04187677,  0.02644768,  0.10733981, -0.05574676,\n",
       "         -0.13601246, -0.22294119, -0.02923982,  0.04267757,  0.06008421,\n",
       "         -0.00577906,  0.05324736, -0.07956579,  0.09179035,  0.03268316,\n",
       "          0.07006264,  0.05600682,  0.075955  , -0.04462264, -0.0571641 ,\n",
       "          0.06697004,  0.02138723, -0.03332564, -0.20281197, -0.12767754,\n",
       "          0.04845438,  0.02092422,  0.09034028, -0.06701303,  0.08109293,\n",
       "         -0.04613735, -0.03535921,  0.0417392 ,  0.05135859,  0.10416587,\n",
       "         -0.0030844 , -0.03273373,  0.11059926, -0.10268607, -0.0333692 ,\n",
       "         -0.06734352,  0.1931621 ,  0.04672804, -0.22233243,  0.05416849,\n",
       "          0.10401858,  0.05099984,  0.06684986, -0.20318499, -0.02601806,\n",
       "          0.07596055,  0.07257477, -0.02688748,  0.04045601,  0.04817893,\n",
       "          0.14016305,  0.02310862, -0.0907461 ,  0.17274278,  0.00820578,\n",
       "          0.02471131,  0.04621285,  0.00503242,  0.01521408,  0.06486256,\n",
       "         -0.02190562,  0.0218119 ,  0.07359344, -0.01630545,  0.15432972,\n",
       "          0.14922704, -0.11346586,  0.10441624,  0.13558318, -0.13532741,\n",
       "         -0.09337987, -0.00036267,  0.00348997,  0.01731155,  0.02588212,\n",
       "          0.13397788,  0.04421295, -0.10336358,  0.03230375, -0.14150313,\n",
       "          0.1319157 , -0.05596789, -0.05691854, -0.00527777,  0.05249297,\n",
       "          0.06862679,  0.07242195, -0.00842034,  0.03394065, -0.01895496,\n",
       "          0.08070713, -0.14245494,  0.06136282, -0.14334472,  0.13016687,\n",
       "         -0.01962348, -0.06502791, -0.01145815,  0.02470483, -0.03893319,\n",
       "          0.16451231, -0.02820786, -0.12754735]], dtype=float32),\n",
       " 'bertrand': array([[ 0.04935199,  0.06870202, -0.08286337, -0.08990378,  0.16536626,\n",
       "          0.19233064,  0.0907656 , -0.05676514, -0.00930559, -0.02580949,\n",
       "          0.08240965,  0.0964938 ,  0.11061475,  0.00210032, -0.03110649,\n",
       "         -0.04556665, -0.04636361,  0.01423545, -0.13289487,  0.16207053,\n",
       "          0.08895296,  0.01258828, -0.0148702 ,  0.08416989, -0.06589856,\n",
       "         -0.03098625, -0.09329542, -0.0478908 ,  0.13329817,  0.09342527,\n",
       "          0.00179928, -0.00820667, -0.07278296,  0.03241198,  0.02834501,\n",
       "          0.1062366 , -0.01885444,  0.06372277, -0.02453382, -0.01728116,\n",
       "          0.07169165,  0.03296264, -0.04458556,  0.03123517, -0.16813742,\n",
       "         -0.01846268,  0.08474002,  0.09882905, -0.09138817,  0.02293112,\n",
       "         -0.13887706, -0.00562994, -0.10769302,  0.00867522,  0.0954072 ,\n",
       "          0.03500758, -0.16270128,  0.22801162, -0.19050415, -0.00886815,\n",
       "         -0.14576064,  0.04389042,  0.30075526, -0.15291548,  0.08024985,\n",
       "          0.01390659,  0.01225388,  0.06342449, -0.12082776,  0.01480515,\n",
       "          0.10131052,  0.09588917, -0.00128625,  0.02677646,  0.04360115,\n",
       "          0.07329775, -0.01967038,  0.03234805,  0.05908823, -0.06393338,\n",
       "          0.01664319,  0.09369469, -0.00431238,  0.02431144, -0.06011657,\n",
       "          0.03551049,  0.07074748,  0.08092675,  0.03753784,  0.08698015,\n",
       "          0.1707973 , -0.17927377, -0.0318238 ,  0.07592892,  0.00066133,\n",
       "         -0.15728664, -0.0552846 , -0.01239878,  0.01204481,  0.00618634,\n",
       "          0.02604352,  0.00076145, -0.07682653, -0.00237791, -0.16761929,\n",
       "          0.21178128, -0.03437928,  0.014566  ,  0.01785346, -0.00061455,\n",
       "          0.06737823,  0.0732621 , -0.04390738,  0.10217156,  0.0231017 ,\n",
       "          0.06363337, -0.11409061, -0.00095749, -0.02959248,  0.12253692,\n",
       "         -0.01061672, -0.0785967 ,  0.00658104,  0.08986945, -0.09844604,\n",
       "          0.1549865 , -0.05629572, -0.0566501 ]], dtype=float32),\n",
       " 'dan': array([[ 0.08884072,  0.04849249, -0.11330393, -0.08328333,  0.17275174,\n",
       "          0.18696773,  0.09610673,  0.01796924, -0.04048165,  0.00248967,\n",
       "          0.04759657,  0.05629292,  0.13674907,  0.02725841,  0.06061855,\n",
       "         -0.04875666,  0.01508354, -0.03046886, -0.09682511,  0.19037998,\n",
       "          0.05902637, -0.00089815,  0.07986946,  0.02066112, -0.08831065,\n",
       "         -0.08354539, -0.14377509, -0.09744459,  0.11334991,  0.0498631 ,\n",
       "          0.02447576,  0.04048631, -0.04470862,  0.04714143, -0.01814332,\n",
       "          0.10636053,  0.01294607,  0.13822944, -0.03557182, -0.00075583,\n",
       "          0.03924898,  0.05310407, -0.14050925, -0.06130187, -0.20677936,\n",
       "          0.02117149,  0.04102456,  0.0915459 , -0.06508851,  0.06016628,\n",
       "         -0.15874992,  0.00645716, -0.08546603,  0.02105007,  0.01619931,\n",
       "          0.00778077, -0.06575209,  0.17243698, -0.16889028,  0.0218535 ,\n",
       "         -0.15637118,  0.07453414,  0.22960864, -0.24183536,  0.08114012,\n",
       "          0.003583  ,  0.0392532 ,  0.12183226, -0.11778143, -0.02086271,\n",
       "          0.10596561,  0.12353701, -0.03605828,  0.04600063,  0.02305176,\n",
       "          0.08169248, -0.00696566, -0.01215151,  0.06626373, -0.04056614,\n",
       "         -0.0535191 ,  0.03525577, -0.05569479,  0.02199836, -0.00419579,\n",
       "          0.0423948 ,  0.04873969,  0.05729795,  0.04397524,  0.03313524,\n",
       "          0.1723268 , -0.15647154, -0.00266144,  0.08161642,  0.0237943 ,\n",
       "         -0.17831437, -0.02346974, -0.00275129, -0.02620773,  0.02913586,\n",
       "          0.02358868, -0.03979297, -0.09198571,  0.02636276, -0.17965536,\n",
       "          0.18890114, -0.0427945 , -0.01726797,  0.04897004,  0.02125238,\n",
       "          0.02442508,  0.088469  , -0.01254101,  0.06883107,  0.01778153,\n",
       "          0.07194442, -0.09984174, -0.02493612, -0.03057237,  0.15130392,\n",
       "         -0.04078525, -0.06067501,  0.00609106,  0.14329569, -0.06738696,\n",
       "          0.10148456, -0.06974508, -0.05717191]], dtype=float32),\n",
       " 'danielle': array([[ 0.11276133,  0.03207601,  0.13590078,  0.11822379,  0.07636504,\n",
       "          0.13431978,  0.14880915, -0.13990873, -0.01258973, -0.06264802,\n",
       "         -0.06895615,  0.05656987, -0.00625059,  0.00522547,  0.07190287,\n",
       "         -0.05568053,  0.04310033,  0.04391421, -0.04496383, -0.0464243 ,\n",
       "         -0.00843207,  0.12305687, -0.0955635 ,  0.17989582,  0.01794844,\n",
       "         -0.10260746, -0.14342976, -0.03599926, -0.04165843,  0.13982902,\n",
       "         -0.04188614,  0.11941336, -0.12171154,  0.05106764,  0.08596217,\n",
       "         -0.05465613,  0.08568984, -0.06256222,  0.00192188, -0.03967048,\n",
       "          0.1094245 ,  0.00864273,  0.06470723, -0.19549362, -0.03102044,\n",
       "          0.05460501,  0.00480903, -0.02807491, -0.02172411, -0.03455152,\n",
       "          0.150454  , -0.07591686,  0.16888484,  0.01827822,  0.10440756,\n",
       "          0.02885913, -0.00706925,  0.07838197,  0.01713117,  0.01476892,\n",
       "          0.01493397,  0.11768679, -0.09003265, -0.18028447,  0.06014766,\n",
       "          0.08900282,  0.06730765, -0.0721844 , -0.17830266, -0.01774505,\n",
       "          0.01251065,  0.04428384,  0.00113512, -0.01007593,  0.00903066,\n",
       "          0.14183906,  0.02696196, -0.09450618,  0.05239265,  0.00276199,\n",
       "          0.10742998,  0.10096071,  0.02834628, -0.02422235,  0.09584816,\n",
       "         -0.04698139,  0.00972352, -0.05569498, -0.18729015,  0.13399333,\n",
       "          0.0195455 , -0.04999194,  0.08253612,  0.05580702, -0.17049019,\n",
       "          0.06091601,  0.05819915, -0.06772915,  0.14484575,  0.06185556,\n",
       "          0.1364086 ,  0.06831186, -0.01017165,  0.06564528, -0.10523929,\n",
       "         -0.04865944,  0.00053396, -0.06757927, -0.1512183 ,  0.10154685,\n",
       "          0.08557729, -0.01880001,  0.04089973, -0.09515373, -0.04399641,\n",
       "          0.03859749, -0.17101029,  0.10744184, -0.19870925, -0.00651667,\n",
       "          0.02781366, -0.02077368, -0.01132978, -0.08182196,  0.06889162,\n",
       "          0.16284062, -0.05861037, -0.14208524]], dtype=float32),\n",
       " 'felix': array([[ 0.11622253,  0.05889591, -0.09427685, -0.00476558,  0.03857673,\n",
       "          0.14689924, -0.00471444,  0.00732533, -0.09765843, -0.05306599,\n",
       "         -0.0057687 ,  0.00591146,  0.15212946, -0.08579654,  0.07500063,\n",
       "         -0.00806534,  0.00495222, -0.14086066, -0.08720998,  0.24884768,\n",
       "          0.02121912, -0.08161679,  0.06588979,  0.05986398, -0.01971767,\n",
       "         -0.02412553, -0.12446945, -0.16188608, -0.04391796,  0.03384925,\n",
       "          0.05166191,  0.11812692, -0.02924104,  0.14195852, -0.05967032,\n",
       "          0.08219665,  0.08391488,  0.1466313 , -0.00480083, -0.05972215,\n",
       "          0.0380581 , -0.13011484,  0.02447139, -0.03549951, -0.08646352,\n",
       "          0.0165296 ,  0.1472664 ,  0.07215632, -0.09255993,  0.17015485,\n",
       "         -0.02825855, -0.08642442, -0.00246197,  0.07154976,  0.12941019,\n",
       "         -0.06782171, -0.08182345,  0.02644072,  0.0214378 , -0.16306403,\n",
       "         -0.11539717,  0.03579829,  0.07354289, -0.21018578, -0.00996616,\n",
       "          0.04085099,  0.06573207,  0.05195983, -0.10961456, -0.14438848,\n",
       "         -0.03510065,  0.04030319, -0.07073379,  0.05594714,  0.10857834,\n",
       "         -0.00324224,  0.03462255, -0.00465612,  0.10884669,  0.22095618,\n",
       "          0.01413426, -0.06054313, -0.05115335, -0.05067062,  0.01140937,\n",
       "          0.06827456, -0.01118993,  0.02469054,  0.0882215 ,  0.06610616,\n",
       "          0.07083417, -0.14686456,  0.00122951,  0.06732079, -0.14542876,\n",
       "         -0.03759427,  0.03007513,  0.04500215, -0.01966634, -0.0928221 ,\n",
       "         -0.01232153, -0.00660604, -0.05757223,  0.13724941, -0.16955677,\n",
       "          0.11160023, -0.13249183,  0.14430639, -0.00733204,  0.01516275,\n",
       "          0.00644364,  0.16522762, -0.10523275,  0.02332336, -0.04134578,\n",
       "          0.00511695, -0.10788472, -0.07292531, -0.0474214 ,  0.13715243,\n",
       "          0.00793034,  0.03819747,  0.12188419,  0.14598991, -0.00798886,\n",
       "         -0.04157808,  0.0348671 , -0.07762834]], dtype=float32),\n",
       " 'kevin': array([[ 0.03684539,  0.12681672, -0.10959164, -0.04965025,  0.03811887,\n",
       "          0.12313815, -0.00375668, -0.07470247, -0.18654151, -0.00404444,\n",
       "         -0.05888232, -0.06218336,  0.10242436,  0.07310119,  0.12366931,\n",
       "         -0.12366801,  0.02646069, -0.1464138 ,  0.10590441,  0.13037051,\n",
       "         -0.12646909, -0.03865543,  0.01705004, -0.05370512,  0.00546394,\n",
       "          0.00546216, -0.11814005, -0.06193213, -0.01150877,  0.02713021,\n",
       "          0.01754604,  0.01879681, -0.05101493, -0.02820218,  0.04190529,\n",
       "          0.11671813,  0.06282427,  0.05031374,  0.02018389, -0.05752018,\n",
       "          0.05065164, -0.04190241, -0.00858928, -0.06069315, -0.13078642,\n",
       "          0.25279507,  0.13028432,  0.09420457, -0.13388444,  0.00047855,\n",
       "         -0.11274541,  0.01636049,  0.11688343,  0.00340502,  0.06001987,\n",
       "         -0.02317915, -0.06356563,  0.07639419,  0.02683919, -0.09306948,\n",
       "         -0.07718772,  0.17514172,  0.06600649, -0.15401268,  0.03479981,\n",
       "          0.13672915,  0.09160049,  0.08777431, -0.04858495, -0.14742588,\n",
       "          0.05041127,  0.02923843, -0.01500479, -0.00428034,  0.141417  ,\n",
       "          0.09571733, -0.07243931, -0.07091027,  0.14521898,  0.12779425,\n",
       "         -0.00636787, -0.04732252, -0.06788797, -0.00763008,  0.01653756,\n",
       "          0.01454417, -0.03838176, -0.01500741,  0.02388447,  0.03780735,\n",
       "          0.07439985, -0.0211372 ,  0.1353052 ,  0.0328734 , -0.12627839,\n",
       "         -0.14500608,  0.12044366,  0.06415507,  0.02036818, -0.11608714,\n",
       "         -0.00616277,  0.11155719,  0.03320524, -0.01702294, -0.25919893,\n",
       "          0.15720852, -0.04865451,  0.10269775, -0.03685869,  0.10347608,\n",
       "          0.17300479,  0.01056708, -0.058699  , -0.04193159, -0.12167712,\n",
       "          0.00724753, -0.19199067, -0.04325876, -0.03660792,  0.02712518,\n",
       "         -0.02487553, -0.10690384,  0.02271062,  0.0420205 , -0.0205562 ,\n",
       "          0.05036162, -0.03665104, -0.05863716]], dtype=float32),\n",
       " 'kian': array([[  4.19471227e-02,   3.65617499e-02,   1.19852118e-01,\n",
       "          -4.78673391e-02,   6.26111850e-02,   5.72630838e-02,\n",
       "          -4.48873825e-02,  -1.85840353e-02,  -9.97507870e-02,\n",
       "          -1.02316931e-01,   3.45106758e-02,  -1.32393921e-02,\n",
       "           6.96124434e-02,   1.15544230e-01,   1.72803819e-01,\n",
       "          -9.22762975e-02,   9.22607109e-02,  -1.03182420e-01,\n",
       "           7.99791329e-03,   1.74746618e-01,  -4.63652844e-03,\n",
       "           4.69837226e-02,  -3.56401596e-03,   1.22068964e-01,\n",
       "           1.91890961e-03,   1.96846686e-02,  -1.08924285e-01,\n",
       "          -1.68594494e-02,   5.38625792e-02,  -2.70868614e-02,\n",
       "           3.93150374e-02,  -5.62251173e-02,   1.25096012e-02,\n",
       "           5.91992773e-02,   1.33194150e-02,   1.47579119e-01,\n",
       "           8.59814435e-02,   1.48474246e-01,   1.59505978e-02,\n",
       "          -5.20919682e-03,   6.14260659e-02,   8.35488141e-02,\n",
       "          -6.50908053e-02,  -1.73659205e-01,  -5.78955188e-02,\n",
       "           1.27905443e-01,   8.25883076e-02,  -1.31760268e-02,\n",
       "          -1.08786359e-01,  -1.17277885e-02,  -1.88838497e-01,\n",
       "          -1.93178430e-02,   7.64925256e-02,   5.50220273e-02,\n",
       "           5.87457530e-02,   3.95489344e-03,  -8.62405375e-02,\n",
       "           1.06646895e-01,  -1.10335708e-01,  -5.78495227e-02,\n",
       "          -8.54443014e-02,   1.36003733e-01,   2.87437849e-02,\n",
       "          -1.24702230e-01,  -1.10344356e-02,   1.82760850e-01,\n",
       "           1.33821636e-01,   9.51673388e-02,  -4.91638854e-02,\n",
       "          -1.06023692e-01,   8.66436362e-02,  -1.48008671e-02,\n",
       "          -2.32082158e-02,  -2.05274089e-04,   1.93776488e-01,\n",
       "           7.45438635e-02,  -8.88429061e-02,  -4.52157855e-02,\n",
       "           1.58017367e-01,   5.38159646e-02,  -5.61325029e-02,\n",
       "           1.22688308e-01,  -1.41891474e-02,  -5.56195788e-02,\n",
       "           5.40005565e-02,   3.74515653e-02,   2.45521776e-02,\n",
       "           5.29980287e-02,  -4.54905033e-02,   6.51611164e-02,\n",
       "           1.54256999e-01,  -7.26912916e-02,   1.51271150e-01,\n",
       "           1.41135573e-01,  -8.67228210e-02,  -1.50711834e-01,\n",
       "          -7.05170957e-03,  -2.40273494e-02,   1.08666243e-02,\n",
       "          -7.96991438e-02,  -7.06567019e-02,  -8.99934955e-03,\n",
       "          -6.32314608e-02,   1.43033999e-03,  -1.85191602e-01,\n",
       "           2.13536605e-01,   1.29535096e-02,  -4.67401221e-02,\n",
       "           2.80870479e-02,  -4.83680889e-02,   9.38914120e-02,\n",
       "           5.41921556e-02,  -6.83232695e-02,   2.81100720e-02,\n",
       "          -3.11770979e-02,   2.53495369e-02,  -2.38552764e-01,\n",
       "          -1.13765493e-01,  -1.16228640e-01,   2.42849104e-02,\n",
       "          -3.90366986e-02,   4.58658626e-03,  -5.39525039e-02,\n",
       "           8.49700049e-02,  -2.16507968e-02,   1.30522192e-01,\n",
       "           1.35623096e-02,  -7.63894767e-02]], dtype=float32),\n",
       " 'sebastiano': array([[ 0.07990431, -0.03436681,  0.02041389, -0.06888398,  0.12063486,\n",
       "          0.1646807 ,  0.09939215,  0.04224489, -0.08898445, -0.07832366,\n",
       "         -0.02520914,  0.08236459,  0.11272882,  0.02570828,  0.07668205,\n",
       "         -0.11445116, -0.02270844, -0.09189194, -0.09002521,  0.18331765,\n",
       "          0.04010906, -0.00781947,  0.04635103,  0.14435425, -0.09316675,\n",
       "         -0.08383696, -0.13694228, -0.07778354,  0.01514401,  0.00543395,\n",
       "         -0.01280923, -0.05270272, -0.08373717,  0.08894628, -0.03843024,\n",
       "          0.08347749, -0.01029666,  0.11736316, -0.09603295,  0.01799391,\n",
       "          0.0758549 ,  0.04532909, -0.1122905 , -0.11110468, -0.13081491,\n",
       "          0.03176816,  0.04267518,  0.04875853, -0.07656086,  0.11342823,\n",
       "         -0.12480105, -0.08733705, -0.01068165,  0.04822249,  0.10039062,\n",
       "          0.00723449, -0.08255039,  0.21377373, -0.12681808, -0.01506723,\n",
       "         -0.07587513,  0.17330849,  0.14126849, -0.17778727,  0.04945176,\n",
       "          0.05047442,  0.06633759,  0.07502075, -0.13603646, -0.06365474,\n",
       "          0.06789169,  0.08293916, -0.02130047,  0.08120289,  0.07420284,\n",
       "          0.12102581,  0.00601538, -0.05205724,  0.16568491,  0.03403462,\n",
       "         -0.04686219,  0.00119572, -0.02136477, -0.02677814, -0.0227332 ,\n",
       "         -0.00114264,  0.07867101,  0.06602234, -0.00724819,  0.06188173,\n",
       "          0.17373733, -0.13997518,  0.10197645,  0.09572645, -0.07870489,\n",
       "         -0.10510671,  0.00557642, -0.05856404,  0.02605763,  0.01394866,\n",
       "          0.03059511, -0.00163135, -0.11799143,  0.03138412, -0.17348267,\n",
       "          0.15645961, -0.09021056, -0.02120751, -0.04988068,  0.00307907,\n",
       "          0.10041364,  0.11358997, -0.00184211,  0.03195425, -0.02983734,\n",
       "          0.12040448, -0.12845862,  0.00207065, -0.09958547,  0.14218822,\n",
       "         -0.06066884, -0.0507792 , -0.0424294 ,  0.0812631 , -0.08700983,\n",
       "          0.14365253, -0.09703895, -0.10874633]], dtype=float32),\n",
       " 'tian': array([[ 0.09602574,  0.05026161,  0.10661282,  0.11637859,  0.13730544,\n",
       "          0.18687628,  0.13980158, -0.10983118,  0.01835015, -0.06333961,\n",
       "         -0.06147089,  0.05496347,  0.02799668,  0.0009263 ,  0.11221858,\n",
       "         -0.05192795,  0.05258864,  0.07087589, -0.10972961,  0.01514657,\n",
       "          0.01200433,  0.05329734,  0.04005748,  0.18915841,  0.04145939,\n",
       "         -0.20928082, -0.16869229, -0.06036232, -0.0423517 ,  0.07824262,\n",
       "          0.07138228,  0.13125676, -0.09781486,  0.12874083,  0.03722989,\n",
       "         -0.01082433,  0.10047895,  0.00800445, -0.04152648, -0.03065532,\n",
       "          0.13605219,  0.0128938 ,  0.05760213, -0.19195025, -0.12237725,\n",
       "         -0.07873396,  0.00380636,  0.02028103,  0.02223304,  0.06474384,\n",
       "          0.10941634, -0.14064559,  0.08936302,  0.00388688,  0.07314924,\n",
       "          0.04556359, -0.02430222,  0.11343715,  0.00779207, -0.0096479 ,\n",
       "         -0.08630821,  0.12208208, -0.05156691, -0.31452513,  0.1064966 ,\n",
       "          0.09643649,  0.05130572, -0.07409883, -0.26777121,  0.0554115 ,\n",
       "         -0.00147745,  0.11800247, -0.01156745,  0.06501941, -0.0060108 ,\n",
       "          0.08505099,  0.07932612, -0.08163948,  0.04494506, -0.03011997,\n",
       "          0.01525375,  0.06678151,  0.0180073 , -0.02012631,  0.07194188,\n",
       "         -0.03790627,  0.00289924, -0.01860561, -0.13076556,  0.10577561,\n",
       "          0.07499497, -0.11745214,  0.09151425,  0.00840704, -0.06819627,\n",
       "          0.02451957, -0.01500001, -0.0058919 ,  0.05808669,  0.09107711,\n",
       "          0.07078546,  0.00117594, -0.0459669 ,  0.126818  , -0.06487878,\n",
       "         -0.00370752, -0.02379099, -0.09162681, -0.07825025,  0.06853013,\n",
       "         -0.0096298 ,  0.0681878 ,  0.07526728, -0.00059981, -0.01838225,\n",
       "         -0.00074829, -0.0848584 ,  0.10574315, -0.12667143,  0.10527004,\n",
       "          0.05536483,  0.02209307, -0.04728014,  0.01509125,  0.01982027,\n",
       "          0.10371235, -0.06818304, -0.12703939]], dtype=float32),\n",
       " 'younes': array([[-0.00536547,  0.10707173, -0.05579745, -0.00783404,  0.03306303,\n",
       "          0.20831881,  0.01753368, -0.14050184, -0.14236119,  0.01994666,\n",
       "          0.0661    ,  0.05021476,  0.02068481, -0.01211461,  0.00839559,\n",
       "         -0.01016269, -0.07483808,  0.00506703,  0.08464309,  0.01047647,\n",
       "          0.0095583 , -0.01897628, -0.03062612,  0.04946719,  0.01425039,\n",
       "          0.07284919, -0.06418166, -0.12570029,  0.10314406,  0.08676449,\n",
       "          0.00799391,  0.04464115, -0.10163816, -0.0525847 ,  0.04717313,\n",
       "          0.09407798, -0.06908535, -0.02395975,  0.10435989,  0.05535839,\n",
       "          0.03081177, -0.04691283, -0.10287747, -0.07098537, -0.05784216,\n",
       "          0.08238143,  0.13188152, -0.01536409, -0.2216789 , -0.13129652,\n",
       "         -0.06706835,  0.03428444,  0.07450952, -0.0473308 , -0.01422368,\n",
       "          0.09665235, -0.02548652,  0.22325669, -0.15064207,  0.06302722,\n",
       "         -0.07858288,  0.13773924,  0.25992334, -0.1889918 ,  0.17022461,\n",
       "          0.11796357,  0.04061639, -0.00489273, -0.13368772,  0.02856738,\n",
       "          0.00943202,  0.08620457, -0.06933695,  0.02394386,  0.09111334,\n",
       "          0.05198745, -0.03305839, -0.05773583,  0.01178568,  0.00408989,\n",
       "         -0.04101047,  0.03748403, -0.0411429 , -0.03225788, -0.12634249,\n",
       "          0.02017014,  0.01812686, -0.06409669, -0.08329156,  0.00967304,\n",
       "          0.09271561, -0.03690378,  0.05420875,  0.14626084,  0.00714273,\n",
       "         -0.03886028,  0.04838387,  0.00845995,  0.08503027,  0.0557401 ,\n",
       "          0.00307458, -0.00333757, -0.13104202, -0.0109067 , -0.09210291,\n",
       "          0.20180336,  0.06990682, -0.00094979, -0.07270149, -0.01309579,\n",
       "          0.06291893,  0.02151182,  0.05580239, -0.0844205 ,  0.04016327,\n",
       "          0.06564298, -0.19792624,  0.04553115,  0.03711032,  0.07176329,\n",
       "         -0.00849455, -0.20322749, -0.01146863, -0.05334952, -0.02619913,\n",
       "          0.27094895, -0.06688472, -0.05451416]], dtype=float32)}"
      ]
     },
     "execution_count": 10,
     "metadata": {},
     "output_type": "execute_result"
    }
   ],
   "source": [
    "database"
   ]
  },
  {
   "cell_type": "markdown",
   "metadata": {},
   "source": [
    "Now, when someone shows up at your front door and swipes their ID card (thus giving you their name), you can look up their encoding in the database, and use it to check if the person standing at the front door matches the name on the ID.\n",
    "\n",
    "**Exercise**: Implement the verify() function which checks if the front-door camera picture (`image_path`) is actually the person called \"identity\". You will have to go through the following steps:\n",
    "1. Compute the encoding of the image from image_path\n",
    "2. Compute the distance about this encoding and the encoding of the identity image stored in the database\n",
    "3. Open the door if the distance is less than 0.7, else do not open.\n",
    "\n",
    "As presented above, you should use the L2 distance (np.linalg.norm). (Note: In this implementation, compare the L2 distance, not the square of the L2 distance, to the threshold 0.7.) "
   ]
  },
  {
   "cell_type": "code",
   "execution_count": 13,
   "metadata": {
    "collapsed": true
   },
   "outputs": [],
   "source": [
    "# GRADED FUNCTION: verify\n",
    "\n",
    "def verify(image_path, identity, database, model):\n",
    "    \"\"\"\n",
    "    Function that verifies if the person on the \"image_path\" image is \"identity\".\n",
    "    \n",
    "    Arguments:\n",
    "    image_path -- path to an image\n",
    "    identity -- string, name of the person you'd like to verify the identity. Has to be a resident of the Happy house.\n",
    "    database -- python dictionary mapping names of allowed people's names (strings) to their encodings (vectors).\n",
    "    model -- your Inception model instance in Keras\n",
    "    \n",
    "    Returns:\n",
    "    dist -- distance between the image_path and the image of \"identity\" in the database.\n",
    "    door_open -- True, if the door should open. False otherwise.\n",
    "    \"\"\"\n",
    "    \n",
    "    ### START CODE HERE ###\n",
    "    \n",
    "    # Step 1: Compute the encoding for the image. Use img_to_encoding() see example above. (≈ 1 line)\n",
    "    encoding = img_to_encoding(image_path, model)\n",
    "    \n",
    "    # Step 2: Compute distance with identity's image (≈ 1 line)\n",
    "    dist = np.linalg.norm(encoding - database[identity])\n",
    "    \n",
    "    # Step 3: Open the door if dist < 0.7, else don't open (≈ 3 lines)\n",
    "    if dist < 0.7:\n",
    "        print(\"It's \" + str(identity) + \", welcome home!\")\n",
    "        door_open = True\n",
    "    else:\n",
    "        print(\"It's not \" + str(identity) + \", please go away\")\n",
    "        door_open = False\n",
    "        \n",
    "    ### END CODE HERE ###\n",
    "        \n",
    "    return dist, door_open"
   ]
  },
  {
   "cell_type": "markdown",
   "metadata": {},
   "source": [
    "Younes is trying to enter the Happy House and the camera takes a picture of him (\"images/camera_0.jpg\"). Let's run your verification algorithm on this picture:\n",
    "\n",
    "<img src=\"images/camera_0.jpg\" style=\"width:100px;height:100px;\">"
   ]
  },
  {
   "cell_type": "code",
   "execution_count": 14,
   "metadata": {},
   "outputs": [
    {
     "name": "stdout",
     "output_type": "stream",
     "text": [
      "It's younes, welcome home!\n"
     ]
    },
    {
     "data": {
      "text/plain": [
       "(0.65939283, True)"
      ]
     },
     "execution_count": 14,
     "metadata": {},
     "output_type": "execute_result"
    }
   ],
   "source": [
    "verify(\"images/camera_0.jpg\", \"younes\", database, FRmodel)"
   ]
  },
  {
   "cell_type": "markdown",
   "metadata": {
    "collapsed": true
   },
   "source": [
    "**Expected Output**:\n",
    "\n",
    "<table>\n",
    "    <tr>\n",
    "        <td>\n",
    "            **It's younes, welcome home!**\n",
    "        </td>\n",
    "        <td>\n",
    "           (0.65939283, True)\n",
    "        </td>\n",
    "    </tr>\n",
    "\n",
    "</table>"
   ]
  },
  {
   "cell_type": "markdown",
   "metadata": {
    "collapsed": true
   },
   "source": [
    "Benoit, who broke the aquarium last weekend, has been banned from the house and removed from the database. He stole Kian's ID card and came back to the house to try to present himself as Kian. The front-door camera took a picture of Benoit (\"images/camera_2.jpg). Let's run the verification algorithm to check if benoit can enter.\n",
    "<img src=\"images/camera_2.jpg\" style=\"width:100px;height:100px;\">"
   ]
  },
  {
   "cell_type": "code",
   "execution_count": 15,
   "metadata": {},
   "outputs": [
    {
     "name": "stdout",
     "output_type": "stream",
     "text": [
      "It's not kian, please go away\n"
     ]
    },
    {
     "data": {
      "text/plain": [
       "(0.86224014, False)"
      ]
     },
     "execution_count": 15,
     "metadata": {},
     "output_type": "execute_result"
    }
   ],
   "source": [
    "verify(\"images/camera_2.jpg\", \"kian\", database, FRmodel)"
   ]
  },
  {
   "cell_type": "markdown",
   "metadata": {},
   "source": [
    "**Expected Output**:\n",
    "\n",
    "<table>\n",
    "    <tr>\n",
    "        <td>\n",
    "            **It's not kian, please go away**\n",
    "        </td>\n",
    "        <td>\n",
    "           (0.86224014, False)\n",
    "        </td>\n",
    "    </tr>\n",
    "\n",
    "</table>"
   ]
  },
  {
   "cell_type": "markdown",
   "metadata": {},
   "source": [
    "### 3.2 - Face Recognition\n",
    "\n",
    "Your face verification system is mostly working well. But since Kian got his ID card stolen, when he came back to the house that evening he couldn't get in! \n",
    "\n",
    "To reduce such shenanigans, you'd like to change your face verification system to a face recognition system. This way, no one has to carry an ID card anymore. An authorized person can just walk up to the house, and the front door will unlock for them! \n",
    "\n",
    "You'll implement a face recognition system that takes as input an image, and figures out if it is one of the authorized persons (and if so, who). Unlike the previous face verification system, we will no longer get a person's name as another input. \n",
    "\n",
    "**Exercise**: Implement `who_is_it()`. You will have to go through the following steps:\n",
    "1. Compute the target encoding of the image from image_path\n",
    "2. Find the encoding from the database that has smallest distance with the target encoding. \n",
    "    - Initialize the `min_dist` variable to a large enough number (100). It will help you keep track of what is the closest encoding to the input's encoding.\n",
    "    - Loop over the database dictionary's names and encodings. To loop use `for (name, db_enc) in database.items()`.\n",
    "        - Compute L2 distance between the target \"encoding\" and the current \"encoding\" from the database.\n",
    "        - If this distance is less than the min_dist, then set min_dist to dist, and identity to name."
   ]
  },
  {
   "cell_type": "code",
   "execution_count": 16,
   "metadata": {
    "collapsed": true
   },
   "outputs": [],
   "source": [
    "# GRADED FUNCTION: who_is_it\n",
    "\n",
    "def who_is_it(image_path, database, model):\n",
    "    \"\"\"\n",
    "    Implements face recognition for the happy house by finding who is the person on the image_path image.\n",
    "    \n",
    "    Arguments:\n",
    "    image_path -- path to an image\n",
    "    database -- database containing image encodings along with the name of the person on the image\n",
    "    model -- your Inception model instance in Keras\n",
    "    \n",
    "    Returns:\n",
    "    min_dist -- the minimum distance between image_path encoding and the encodings from the database\n",
    "    identity -- string, the name prediction for the person on image_path\n",
    "    \"\"\"\n",
    "    \n",
    "    ### START CODE HERE ### \n",
    "    \n",
    "    ## Step 1: Compute the target \"encoding\" for the image. Use img_to_encoding() see example above. ## (≈ 1 line)\n",
    "    encoding = img_to_encoding(image_path, model)\n",
    "    \n",
    "    ## Step 2: Find the closest encoding ##\n",
    "    \n",
    "    # Initialize \"min_dist\" to a large value, say 100 (≈1 line)\n",
    "    min_dist = 100\n",
    "    \n",
    "    # Loop over the database dictionary's names and encodings.\n",
    "    for (name, db_enc) in database.items():\n",
    "        \n",
    "        # Compute L2 distance between the target \"encoding\" and the current \"emb\" from the database. (≈ 1 line)\n",
    "        dist = np.linalg.norm(encoding - db_enc)\n",
    "\n",
    "        # If this distance is less than the min_dist, then set min_dist to dist, and identity to name. (≈ 3 lines)\n",
    "        if dist < min_dist:\n",
    "            min_dist = dist\n",
    "            identity = name\n",
    "\n",
    "    ### END CODE HERE ###\n",
    "    \n",
    "    if min_dist > 0.7:\n",
    "        print(\"Not in the database.\")\n",
    "    else:\n",
    "        print (\"it's \" + str(identity) + \", the distance is \" + str(min_dist))\n",
    "        \n",
    "    return min_dist, identity"
   ]
  },
  {
   "cell_type": "markdown",
   "metadata": {},
   "source": [
    "Younes is at the front-door and the camera takes a picture of him (\"images/camera_0.jpg\"). Let's see if your who_it_is() algorithm identifies Younes. "
   ]
  },
  {
   "cell_type": "code",
   "execution_count": 17,
   "metadata": {
    "scrolled": false
   },
   "outputs": [
    {
     "name": "stdout",
     "output_type": "stream",
     "text": [
      "it's younes, the distance is 0.659393\n"
     ]
    },
    {
     "data": {
      "text/plain": [
       "(0.65939283, 'younes')"
      ]
     },
     "execution_count": 17,
     "metadata": {},
     "output_type": "execute_result"
    }
   ],
   "source": [
    "who_is_it(\"images/camera_0.jpg\", database, FRmodel)"
   ]
  },
  {
   "cell_type": "markdown",
   "metadata": {},
   "source": [
    "**Expected Output**:\n",
    "\n",
    "<table>\n",
    "    <tr>\n",
    "        <td>\n",
    "            **it's younes, the distance is 0.659393**\n",
    "        </td>\n",
    "        <td>\n",
    "           (0.65939283, 'younes')\n",
    "        </td>\n",
    "    </tr>\n",
    "\n",
    "</table>"
   ]
  },
  {
   "cell_type": "markdown",
   "metadata": {},
   "source": [
    "You can change \"`camera_0.jpg`\" (picture of younes) to \"`camera_1.jpg`\" (picture of bertrand) and see the result."
   ]
  },
  {
   "cell_type": "markdown",
   "metadata": {},
   "source": [
    "Your Happy House is running well. It only lets in authorized persons, and people don't need to carry an ID card around anymore! \n",
    "\n",
    "You've now seen how a state-of-the-art face recognition system works.\n",
    "\n",
    "Although we won't implement it here, here're some ways to further improve the algorithm:\n",
    "- Put more images of each person (under different lighting conditions, taken on different days, etc.) into the database. Then given a new image, compare the new face to multiple pictures of the person. This would increae accuracy.\n",
    "- Crop the images to just contain the face, and less of the \"border\" region around the face. This preprocessing removes some of the irrelevant pixels around the face, and also makes the algorithm more robust.\n"
   ]
  },
  {
   "cell_type": "markdown",
   "metadata": {},
   "source": [
    "<font color='blue'>\n",
    "**What you should remember**:\n",
    "- Face verification solves an easier 1:1 matching problem; face recognition addresses a harder 1:K matching problem. \n",
    "- The triplet loss is an effective loss function for training a neural network to learn an encoding of a face image.\n",
    "- The same encoding can be used for verification and recognition. Measuring distances between two images' encodings allows you to determine whether they are pictures of the same person. "
   ]
  },
  {
   "cell_type": "markdown",
   "metadata": {},
   "source": [
    "Congrats on finishing this assignment! \n"
   ]
  },
  {
   "cell_type": "markdown",
   "metadata": {},
   "source": [
    "### References:\n",
    "\n",
    "- Florian Schroff, Dmitry Kalenichenko, James Philbin (2015). [FaceNet: A Unified Embedding for Face Recognition and Clustering](https://arxiv.org/pdf/1503.03832.pdf)\n",
    "- Yaniv Taigman, Ming Yang, Marc'Aurelio Ranzato, Lior Wolf (2014). [DeepFace: Closing the gap to human-level performance in face verification](https://research.fb.com/wp-content/uploads/2016/11/deepface-closing-the-gap-to-human-level-performance-in-face-verification.pdf) \n",
    "- The pretrained model we use is inspired by Victor Sy Wang's implementation and was loaded using his code: https://github.com/iwantooxxoox/Keras-OpenFace.\n",
    "- Our implementation also took a lot of inspiration from the official FaceNet github repository: https://github.com/davidsandberg/facenet \n"
   ]
  }
 ],
 "metadata": {
  "coursera": {
   "course_slug": "convolutional-neural-networks",
   "graded_item_id": "IaknP",
   "launcher_item_id": "5UMr4"
  },
  "kernelspec": {
   "display_name": "Python 3",
   "language": "python",
   "name": "python3"
  },
  "language_info": {
   "codemirror_mode": {
    "name": "ipython",
    "version": 3
   },
   "file_extension": ".py",
   "mimetype": "text/x-python",
   "name": "python",
   "nbconvert_exporter": "python",
   "pygments_lexer": "ipython3",
   "version": "3.6.0"
  }
 },
 "nbformat": 4,
 "nbformat_minor": 2
}
