{
 "cells": [
  {
   "cell_type": "markdown",
   "metadata": {},
   "source": [
    "# Univariate Linear Regression"
   ]
  },
  {
   "cell_type": "code",
   "execution_count": 1,
   "metadata": {
    "collapsed": true
   },
   "outputs": [],
   "source": [
    "# Import libraries\n",
    "get_ipython().magic('matplotlib inline')\n",
    "import numpy as np\n",
    "import pandas as pd\n",
    "from matplotlib import cm\n",
    "import matplotlib.pyplot as plt\n",
    "from mpl_toolkits.mplot3d import axes3d, Axes3D\n",
    "from numpy.linalg import inv\n",
    "import itertools\n",
    "from scipy.optimize import fmin_cg\n",
    "import matplotlib.pyplot as plt"
   ]
  },
  {
   "cell_type": "code",
   "execution_count": 2,
   "metadata": {},
   "outputs": [
    {
     "data": {
      "text/html": [
       "<div>\n",
       "<style>\n",
       "    .dataframe thead tr:only-child th {\n",
       "        text-align: right;\n",
       "    }\n",
       "\n",
       "    .dataframe thead th {\n",
       "        text-align: left;\n",
       "    }\n",
       "\n",
       "    .dataframe tbody tr th {\n",
       "        vertical-align: top;\n",
       "    }\n",
       "</style>\n",
       "<table border=\"1\" class=\"dataframe\">\n",
       "  <thead>\n",
       "    <tr style=\"text-align: right;\">\n",
       "      <th></th>\n",
       "      <th>Population</th>\n",
       "      <th>Profit</th>\n",
       "    </tr>\n",
       "  </thead>\n",
       "  <tbody>\n",
       "    <tr>\n",
       "      <th>0</th>\n",
       "      <td>6.1101</td>\n",
       "      <td>17.5920</td>\n",
       "    </tr>\n",
       "    <tr>\n",
       "      <th>1</th>\n",
       "      <td>5.5277</td>\n",
       "      <td>9.1302</td>\n",
       "    </tr>\n",
       "    <tr>\n",
       "      <th>2</th>\n",
       "      <td>8.5186</td>\n",
       "      <td>13.6620</td>\n",
       "    </tr>\n",
       "    <tr>\n",
       "      <th>3</th>\n",
       "      <td>7.0032</td>\n",
       "      <td>11.8540</td>\n",
       "    </tr>\n",
       "    <tr>\n",
       "      <th>4</th>\n",
       "      <td>5.8598</td>\n",
       "      <td>6.8233</td>\n",
       "    </tr>\n",
       "  </tbody>\n",
       "</table>\n",
       "</div>"
      ],
      "text/plain": [
       "   Population   Profit\n",
       "0      6.1101  17.5920\n",
       "1      5.5277   9.1302\n",
       "2      8.5186  13.6620\n",
       "3      7.0032  11.8540\n",
       "4      5.8598   6.8233"
      ]
     },
     "execution_count": 2,
     "metadata": {},
     "output_type": "execute_result"
    }
   ],
   "source": [
    "#Linear regression with one variable\n",
    "df = pd.read_csv('/Users/wiseer85/Documents/Data Science/ML Exercises/data/ex1data1.txt', names = ['Population','Profit'])\n",
    "df.head()"
   ]
  },
  {
   "cell_type": "code",
   "execution_count": 3,
   "metadata": {},
   "outputs": [
    {
     "data": {
      "text/plain": [
       "<matplotlib.text.Text at 0x10dd12898>"
      ]
     },
     "execution_count": 3,
     "metadata": {},
     "output_type": "execute_result"
    },
    {
     "data": {
      "image/png": "[encoded data removed]",
      "text/plain": [
       "<matplotlib.figure.Figure at 0x10dc71668>"
      ]
     },
     "metadata": {},
     "output_type": "display_data"
    }
   ],
   "source": [
    "#Plot the data with scaled units\n",
    "plt.scatter(df['Population'], df['Profit'])\n",
    "plt.xlabel('Population/(10,000)')\n",
    "plt.ylabel('Profit/(10,000)')"
   ]
  },
  {
   "cell_type": "code",
   "execution_count": 4,
   "metadata": {},
   "outputs": [],
   "source": [
    "#Create \"X\" matrix and \"y\" vector\n",
    "x = df.as_matrix(columns = ['Population'])\n",
    "y = df.as_matrix(columns = ['Profit'])\n",
    "\n",
    "#Number of examples\n",
    "m = x.shape[0]\n",
    "\n",
    "#Number of features + 1\n",
    "n = x.shape[1] + 1\n",
    "\n",
    "#Initialize fitting parameters\n",
    "theta_initial = np.zeros(n)"
   ]
  },
  {
   "cell_type": "code",
   "execution_count": 5,
   "metadata": {
    "collapsed": true
   },
   "outputs": [],
   "source": [
    "# Normalize data\n",
    "def normalize_data(x):\n",
    "    # normalizaing such that data has mean 0 and std of 1\n",
    "    mu = x.mean()\n",
    "    sigma = x.std()\n",
    "    x = (x - mu) / sigma\n",
    "    return (x, mu, sigma)\n",
    "\n",
    "def add_column_ones(x):\n",
    "    x = np.append(np.ones((x.shape[0], 1)), x, axis = 1)\n",
    "    return x\n",
    "\n",
    "#Function that we want minimized\n",
    "def cost_function(theta, x, y):\n",
    "    theta = theta.reshape((len(theta), 1))\n",
    "    pred = np.dot(x, theta)\n",
    "    J = np.mean((pred - y) ** 2) / 2\n",
    "    return J\n",
    "\n",
    "#Gradient of costFunction\n",
    "def gradient(theta, x, y):\n",
    "    theta = theta.reshape((len(theta), 1))\n",
    "    pred = np.dot(x, theta)\n",
    "    grad = np.dot(x.T, pred - y) / m\n",
    "    return grad.flatten()\n",
    "\n",
    "#Prediction for data x using parameters theta\n",
    "def prediction(theta, x, mu = 0, sigma = 1):\n",
    "    theta = theta.reshape((len(theta), 1))\n",
    "    x = x.reshape(len(x), 1)\n",
    "    x = (x - mu) / sigma\n",
    "    x = add_column_ones(x)\n",
    "    pred = np.dot(x, theta)\n",
    "    return pred"
   ]
  },
  {
   "cell_type": "code",
   "execution_count": 6,
   "metadata": {},
   "outputs": [
    {
     "data": {
      "image/png": "[encoded data removed]",
      "text/plain": [
       "<matplotlib.figure.Figure at 0x1045ba9e8>"
      ]
     },
     "metadata": {},
     "output_type": "display_data"
    }
   ],
   "source": [
    "#Normalize data and plot it\n",
    "X, mu, sigma = normalize_data(x)\n",
    "plt.scatter(X,y)\n",
    "plt.title('Normalized Data')\n",
    "X = add_column_ones(X)"
   ]
  },
  {
   "cell_type": "code",
   "execution_count": 7,
   "metadata": {},
   "outputs": [
    {
     "name": "stdout",
     "output_type": "stream",
     "text": [
      "Optimization terminated successfully.\n",
      "         Current function value: 4.476971\n",
      "         Iterations: 2\n",
      "         Function evaluations: 4\n",
      "         Gradient evaluations: 4\n",
      "The fitting parameters that minimize the costFunction are Theta = (5.839135,4.593041).\n"
     ]
    },
    {
     "data": {
      "image/png": "[encoded data removed]",
      "text/plain": [
       "<matplotlib.figure.Figure at 0x11102ce10>"
      ]
     },
     "metadata": {},
     "output_type": "display_data"
    }
   ],
   "source": [
    "#Perform the minimization of the cost function with the use of its gradient\n",
    "theta, thetas = fmin_cg(cost_function, theta_initial, fprime = gradient, \n",
    "                         args = (X, y), retall = 1, disp = 1)\n",
    "\n",
    "# Calculate the evolution of the costFunction with every iteration\n",
    "J = np.zeros(len(thetas))\n",
    "for i, theta in enumerate(thetas):\n",
    "    J[i] = cost_function(theta, X, y)\n",
    "    \n",
    "plt.plot(range(J.size), J)\n",
    "plt.xlabel('Iterations')\n",
    "plt.ylabel('Cost Function')\n",
    "print('The fitting parameters that minimize the costFunction are Theta = (%f,%f).' %(theta[0],theta[1]))"
   ]
  },
  {
   "cell_type": "code",
   "execution_count": 8,
   "metadata": {},
   "outputs": [
    {
     "name": "stdout",
     "output_type": "stream",
     "text": [
      "This curve achieves a cost function of J = 4.476971\n"
     ]
    },
    {
     "data": {
      "image/png": "[encoded data removed]",
      "text/plain": [
       "<matplotlib.figure.Figure at 0x110ee8908>"
      ]
     },
     "metadata": {},
     "output_type": "display_data"
    }
   ],
   "source": [
    "# Plot the regression line on top of scatter plot\n",
    "population = np.linspace(5,25,100)\n",
    "pred = prediction(theta, population, mu, sigma)\n",
    "\n",
    "plt.scatter(df['Population'], df['Profit'])\n",
    "plt.plot(population, pred, 'r')\n",
    "plt.xlabel('Population/(10,000)')\n",
    "plt.ylabel('Profit/(10,000)')\n",
    "\n",
    "print('This curve achieves a cost function of J = %f' % J[-1])"
   ]
  },
  {
   "cell_type": "code",
   "execution_count": null,
   "metadata": {
    "collapsed": true
   },
   "outputs": [],
   "source": []
  }
 ],
 "metadata": {
  "kernelspec": {
   "display_name": "Python 3",
   "language": "python",
   "name": "python3"
  },
  "language_info": {
   "codemirror_mode": {
    "name": "ipython",
    "version": 3
   },
   "file_extension": ".py",
   "mimetype": "text/x-python",
   "name": "python",
   "nbconvert_exporter": "python",
   "pygments_lexer": "ipython3",
   "version": "3.6.2"
  }
 },
 "nbformat": 4,
 "nbformat_minor": 2
}
