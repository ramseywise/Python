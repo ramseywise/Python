{
 "cells": [
  {
   "cell_type": "markdown",
   "metadata": {},
   "source": [
    "## Setup"
   ]
  },
  {
   "cell_type": "code",
   "execution_count": 1,
   "metadata": {
    "collapsed": true
   },
   "outputs": [],
   "source": [
    "import pandas as pd  #fundamental package for data analysis\n",
    "import numpy as np   #fundamental package for scientific computing\n",
    "from scipy.stats import chi2_contingency #package for chi2 test\n",
    "from scipy.special import expit #Vectorized sigmoid function\n",
    "from sklearn.linear_model import LogisticRegression\n",
    "from sklearn.metrics import classification_report\n",
    "from sklearn.model_selection import train_test_split # package to split the data in a training and crossvalidation set\n",
    "from sklearn.model_selection import GridSearchCV # package to search and find the best hyperparameters on the model\n",
    "from sklearn.preprocessing import MinMaxScaler\n",
    "import matplotlib.pyplot as plt  # Data visualization\n",
    "get_ipython().magic('matplotlib inline')"
   ]
  },
  {
   "cell_type": "code",
   "execution_count": 2,
   "metadata": {
    "collapsed": true
   },
   "outputs": [],
   "source": [
    "# Read in data\n",
    "df = pd.read_csv(\"/Users/wiseer85/Desktop/train_data.csv_fixed\")"
   ]
  },
  {
   "cell_type": "code",
   "execution_count": 3,
   "metadata": {},
   "outputs": [
    {
     "data": {
      "text/plain": [
       "user_id     0\n",
       "channel     0\n",
       "age         0\n",
       "os          0\n",
       "gender      0\n",
       "country     0\n",
       "customer    0\n",
       "dtype: int64"
      ]
     },
     "execution_count": 3,
     "metadata": {},
     "output_type": "execute_result"
    }
   ],
   "source": [
    "# Clean data of \"nan\" values\n",
    "df.isnull().sum() "
   ]
  },
  {
   "cell_type": "code",
   "execution_count": 4,
   "metadata": {},
   "outputs": [
    {
     "data": {
      "text/html": [
       "<div>\n",
       "<style>\n",
       "    .dataframe thead tr:only-child th {\n",
       "        text-align: right;\n",
       "    }\n",
       "\n",
       "    .dataframe thead th {\n",
       "        text-align: left;\n",
       "    }\n",
       "\n",
       "    .dataframe tbody tr th {\n",
       "        vertical-align: top;\n",
       "    }\n",
       "</style>\n",
       "<table border=\"1\" class=\"dataframe\">\n",
       "  <thead>\n",
       "    <tr style=\"text-align: right;\">\n",
       "      <th></th>\n",
       "      <th>user_id</th>\n",
       "      <th>channel</th>\n",
       "      <th>age</th>\n",
       "      <th>os</th>\n",
       "      <th>gender</th>\n",
       "      <th>country</th>\n",
       "      <th>customer</th>\n",
       "    </tr>\n",
       "  </thead>\n",
       "  <tbody>\n",
       "    <tr>\n",
       "      <th>0</th>\n",
       "      <td>100000</td>\n",
       "      <td>00 Organic</td>\n",
       "      <td>20</td>\n",
       "      <td>ios</td>\n",
       "      <td>female</td>\n",
       "      <td>GB</td>\n",
       "      <td>0</td>\n",
       "    </tr>\n",
       "    <tr>\n",
       "      <th>1</th>\n",
       "      <td>100001</td>\n",
       "      <td>00 Organic</td>\n",
       "      <td>30</td>\n",
       "      <td>ios</td>\n",
       "      <td>female</td>\n",
       "      <td>US</td>\n",
       "      <td>1</td>\n",
       "    </tr>\n",
       "    <tr>\n",
       "      <th>2</th>\n",
       "      <td>100002</td>\n",
       "      <td>31 OUTBRAIN</td>\n",
       "      <td>35</td>\n",
       "      <td>ios</td>\n",
       "      <td>female</td>\n",
       "      <td>DE</td>\n",
       "      <td>0</td>\n",
       "    </tr>\n",
       "    <tr>\n",
       "      <th>3</th>\n",
       "      <td>100003</td>\n",
       "      <td>00 Organic</td>\n",
       "      <td>26</td>\n",
       "      <td>android</td>\n",
       "      <td>female</td>\n",
       "      <td>US</td>\n",
       "      <td>0</td>\n",
       "    </tr>\n",
       "    <tr>\n",
       "      <th>4</th>\n",
       "      <td>100004</td>\n",
       "      <td>32 Taboola</td>\n",
       "      <td>55</td>\n",
       "      <td>ios</td>\n",
       "      <td>female</td>\n",
       "      <td>US</td>\n",
       "      <td>1</td>\n",
       "    </tr>\n",
       "  </tbody>\n",
       "</table>\n",
       "</div>"
      ],
      "text/plain": [
       "   user_id      channel  age       os  gender country  customer\n",
       "0   100000   00 Organic   20      ios  female      GB         0\n",
       "1   100001   00 Organic   30      ios  female      US         1\n",
       "2   100002  31 OUTBRAIN   35      ios  female      DE         0\n",
       "3   100003   00 Organic   26  android  female      US         0\n",
       "4   100004   32 Taboola   55      ios  female      US         1"
      ]
     },
     "execution_count": 4,
     "metadata": {},
     "output_type": "execute_result"
    }
   ],
   "source": [
    "# Show first five rows\n",
    "df.head() "
   ]
  },
  {
   "cell_type": "code",
   "execution_count": 5,
   "metadata": {},
   "outputs": [
    {
     "name": "stdout",
     "output_type": "stream",
     "text": [
      "<class 'pandas.core.frame.DataFrame'>\n",
      "RangeIndex: 82908 entries, 0 to 82907\n",
      "Data columns (total 7 columns):\n",
      "user_id     82908 non-null int64\n",
      "channel     82908 non-null object\n",
      "age         82908 non-null int64\n",
      "os          82908 non-null object\n",
      "gender      82908 non-null object\n",
      "country     82908 non-null object\n",
      "customer    82908 non-null int64\n",
      "dtypes: int64(3), object(4)\n",
      "memory usage: 4.4+ MB\n"
     ]
    }
   ],
   "source": [
    "# Attribute summary\n",
    "df.info() "
   ]
  },
  {
   "cell_type": "code",
   "execution_count": 6,
   "metadata": {},
   "outputs": [
    {
     "data": {
      "text/html": [
       "<div>\n",
       "<style>\n",
       "    .dataframe thead tr:only-child th {\n",
       "        text-align: right;\n",
       "    }\n",
       "\n",
       "    .dataframe thead th {\n",
       "        text-align: left;\n",
       "    }\n",
       "\n",
       "    .dataframe tbody tr th {\n",
       "        vertical-align: top;\n",
       "    }\n",
       "</style>\n",
       "<table border=\"1\" class=\"dataframe\">\n",
       "  <thead>\n",
       "    <tr style=\"text-align: right;\">\n",
       "      <th></th>\n",
       "      <th>user_id</th>\n",
       "      <th>age</th>\n",
       "      <th>customer</th>\n",
       "    </tr>\n",
       "  </thead>\n",
       "  <tbody>\n",
       "    <tr>\n",
       "      <th>count</th>\n",
       "      <td>82908.000000</td>\n",
       "      <td>82908.000000</td>\n",
       "      <td>82908.000000</td>\n",
       "    </tr>\n",
       "    <tr>\n",
       "      <th>mean</th>\n",
       "      <td>141453.500000</td>\n",
       "      <td>31.151734</td>\n",
       "      <td>0.297848</td>\n",
       "    </tr>\n",
       "    <tr>\n",
       "      <th>std</th>\n",
       "      <td>23933.622396</td>\n",
       "      <td>11.596902</td>\n",
       "      <td>0.457315</td>\n",
       "    </tr>\n",
       "    <tr>\n",
       "      <th>min</th>\n",
       "      <td>100000.000000</td>\n",
       "      <td>12.000000</td>\n",
       "      <td>0.000000</td>\n",
       "    </tr>\n",
       "    <tr>\n",
       "      <th>25%</th>\n",
       "      <td>120726.750000</td>\n",
       "      <td>22.000000</td>\n",
       "      <td>0.000000</td>\n",
       "    </tr>\n",
       "    <tr>\n",
       "      <th>50%</th>\n",
       "      <td>141453.500000</td>\n",
       "      <td>29.000000</td>\n",
       "      <td>0.000000</td>\n",
       "    </tr>\n",
       "    <tr>\n",
       "      <th>75%</th>\n",
       "      <td>162180.250000</td>\n",
       "      <td>38.000000</td>\n",
       "      <td>1.000000</td>\n",
       "    </tr>\n",
       "    <tr>\n",
       "      <th>max</th>\n",
       "      <td>182907.000000</td>\n",
       "      <td>96.000000</td>\n",
       "      <td>1.000000</td>\n",
       "    </tr>\n",
       "  </tbody>\n",
       "</table>\n",
       "</div>"
      ],
      "text/plain": [
       "             user_id           age      customer\n",
       "count   82908.000000  82908.000000  82908.000000\n",
       "mean   141453.500000     31.151734      0.297848\n",
       "std     23933.622396     11.596902      0.457315\n",
       "min    100000.000000     12.000000      0.000000\n",
       "25%    120726.750000     22.000000      0.000000\n",
       "50%    141453.500000     29.000000      0.000000\n",
       "75%    162180.250000     38.000000      1.000000\n",
       "max    182907.000000     96.000000      1.000000"
      ]
     },
     "execution_count": 6,
     "metadata": {},
     "output_type": "execute_result"
    }
   ],
   "source": [
    "# Numerical attributes summary statistics\n",
    "df.describe() "
   ]
  },
  {
   "cell_type": "markdown",
   "metadata": {},
   "source": [
    "## Data Description and Visualization"
   ]
  },
  {
   "cell_type": "code",
   "execution_count": 7,
   "metadata": {},
   "outputs": [
    {
     "data": {
      "text/plain": [
       "(array([0, 1]), <a list of 2 Text xticklabel objects>)"
      ]
     },
     "execution_count": 7,
     "metadata": {},
     "output_type": "execute_result"
    },
    {
     "data": {
      "image/png": "[encoded data removed]",
      "text/plain": [
       "<matplotlib.figure.Figure at 0x11b858f98>"
      ]
     },
     "metadata": {},
     "output_type": "display_data"
    }
   ],
   "source": [
    "# Plot customer counts (ie. Dependent Variable)\n",
    "plt.plot()\n",
    "df['customer'].value_counts().plot(kind='bar', title='Customer Count (=1)')\n",
    "plt.xticks(rotation=0)"
   ]
  },
  {
   "cell_type": "markdown",
   "metadata": {},
   "source": [
    "30% of all subscribers in the data are customers (n≈25,000). In the following sections,  I explore attributes in the data and calculate the conversion rate from subscriber to customer for each attribute. "
   ]
  },
  {
   "cell_type": "code",
   "execution_count": 8,
   "metadata": {},
   "outputs": [
    {
     "data": {
      "text/plain": [
       "<matplotlib.axes._subplots.AxesSubplot at 0x118457908>"
      ]
     },
     "execution_count": 8,
     "metadata": {},
     "output_type": "execute_result"
    },
    {
     "data": {
      "image/png": "[encoded data removed]",
      "text/plain": [
       "<matplotlib.figure.Figure at 0x11b851208>"
      ]
     },
     "metadata": {},
     "output_type": "display_data"
    }
   ],
   "source": [
    "# Plot age counts\n",
    "plt.plot()\n",
    "df['age'].value_counts().plot(kind='bar', title='Customers Counts by Age')"
   ]
  },
  {
   "cell_type": "code",
   "execution_count": 9,
   "metadata": {},
   "outputs": [
    {
     "data": {
      "text/plain": [
       "<matplotlib.axes._subplots.AxesSubplot at 0x11c3167b8>"
      ]
     },
     "execution_count": 9,
     "metadata": {},
     "output_type": "execute_result"
    },
    {
     "data": {
      "image/png": "[encoded data removed]",
      "text/plain": [
       "<matplotlib.figure.Figure at 0x11bc1fe48>"
      ]
     },
     "metadata": {},
     "output_type": "display_data"
    }
   ],
   "source": [
    "# Calculate conversion rate by age\n",
    "p = df.pivot_table(index='age', values='customer', aggfunc={'customer': ['count', 'mean']}).reset_index()\n",
    "\n",
    "# Plot conversion rates by age\n",
    "plt.plot()\n",
    "p['mean'].plot(kind='bar', title='Conversion Rates by Age')"
   ]
  },
  {
   "cell_type": "markdown",
   "metadata": {},
   "source": [
    "Customers range from 12-96 years of age, although the majority are between ages 20-40. The sample drops below n=250 after age 65. Furthermore, the relationship between frequency counts and conversion rates is inverse. While young people are more likely to be customers, there is a stronger conversion rate amongst older demographics."
   ]
  },
  {
   "cell_type": "code",
   "execution_count": 10,
   "metadata": {},
   "outputs": [
    {
     "data": {
      "text/html": [
       "<div>\n",
       "<style>\n",
       "    .dataframe thead tr:only-child th {\n",
       "        text-align: right;\n",
       "    }\n",
       "\n",
       "    .dataframe thead th {\n",
       "        text-align: left;\n",
       "    }\n",
       "\n",
       "    .dataframe tbody tr th {\n",
       "        vertical-align: top;\n",
       "    }\n",
       "</style>\n",
       "<table border=\"1\" class=\"dataframe\">\n",
       "  <thead>\n",
       "    <tr style=\"text-align: right;\">\n",
       "      <th></th>\n",
       "      <th>gender</th>\n",
       "      <th>count</th>\n",
       "      <th>%</th>\n",
       "      <th>conversion rate</th>\n",
       "    </tr>\n",
       "  </thead>\n",
       "  <tbody>\n",
       "    <tr>\n",
       "      <th>1</th>\n",
       "      <td>male</td>\n",
       "      <td>25877</td>\n",
       "      <td>0.312117</td>\n",
       "      <td>0.311</td>\n",
       "    </tr>\n",
       "    <tr>\n",
       "      <th>0</th>\n",
       "      <td>female</td>\n",
       "      <td>57031</td>\n",
       "      <td>0.687883</td>\n",
       "      <td>0.292</td>\n",
       "    </tr>\n",
       "  </tbody>\n",
       "</table>\n",
       "</div>"
      ],
      "text/plain": [
       "   gender  count         %  conversion rate\n",
       "1    male  25877  0.312117            0.311\n",
       "0  female  57031  0.687883            0.292"
      ]
     },
     "metadata": {},
     "output_type": "display_data"
    },
    {
     "data": {
      "image/png": "[encoded data removed]",
      "text/plain": [
       "<matplotlib.figure.Figure at 0x1200e3908>"
      ]
     },
     "metadata": {},
     "output_type": "display_data"
    }
   ],
   "source": [
    "# Plot gender counts\n",
    "plt.plot()\n",
    "df['gender'].value_counts().plot(kind='bar', title='Customer Counts by Gender')\n",
    "plt.xticks(rotation=0)\n",
    "\n",
    "# Calculate conversion rate by gender\n",
    "p = df.pivot_table(index='gender', values='customer', aggfunc={'customer': ['count', 'mean']}).reset_index()\n",
    "p['gen_con'] = p['count'] / p['count'].sum()    \n",
    "\n",
    "# Create pivot table with counts\n",
    "p = p[['gender', 'count', 'gen_con', 'mean']]\n",
    "p.rename(index=str, columns={'mean': 'conversion rate', 'gen_con': '%'}, inplace=True)\n",
    "display(p.round({'gen_con': 3, 'conversion rate': 3}).sort_values(by='conversion rate', ascending=False))"
   ]
  },
  {
   "cell_type": "markdown",
   "metadata": {},
   "source": [
    "Compared to men, women are more than twice as likely to be customers (70% of all customers), although the conversion rate for men and women is the same (30%). Sampling techniques may be considered in modeling."
   ]
  },
  {
   "cell_type": "code",
   "execution_count": 11,
   "metadata": {},
   "outputs": [
    {
     "name": "stdout",
     "output_type": "stream",
     "text": [
      "(0.0, 1.0, 0, array([ 0.41306026,  0.58693974]))\n"
     ]
    },
    {
     "data": {
      "text/html": [
       "<div>\n",
       "<style>\n",
       "    .dataframe thead tr:only-child th {\n",
       "        text-align: right;\n",
       "    }\n",
       "\n",
       "    .dataframe thead th {\n",
       "        text-align: left;\n",
       "    }\n",
       "\n",
       "    .dataframe tbody tr th {\n",
       "        vertical-align: top;\n",
       "    }\n",
       "</style>\n",
       "<table border=\"1\" class=\"dataframe\">\n",
       "  <thead>\n",
       "    <tr style=\"text-align: right;\">\n",
       "      <th></th>\n",
       "      <th>os</th>\n",
       "      <th>count</th>\n",
       "      <th>%</th>\n",
       "      <th>conversion rate</th>\n",
       "    </tr>\n",
       "  </thead>\n",
       "  <tbody>\n",
       "    <tr>\n",
       "      <th>1</th>\n",
       "      <td>ios</td>\n",
       "      <td>48662</td>\n",
       "      <td>0.58694</td>\n",
       "      <td>0.314</td>\n",
       "    </tr>\n",
       "    <tr>\n",
       "      <th>0</th>\n",
       "      <td>android</td>\n",
       "      <td>34246</td>\n",
       "      <td>0.41306</td>\n",
       "      <td>0.276</td>\n",
       "    </tr>\n",
       "  </tbody>\n",
       "</table>\n",
       "</div>"
      ],
      "text/plain": [
       "        os  count        %  conversion rate\n",
       "1      ios  48662  0.58694            0.314\n",
       "0  android  34246  0.41306            0.276"
      ]
     },
     "metadata": {},
     "output_type": "display_data"
    },
    {
     "data": {
      "image/png": "[encoded data removed]",
      "text/plain": [
       "<matplotlib.figure.Figure at 0x120242400>"
      ]
     },
     "metadata": {},
     "output_type": "display_data"
    }
   ],
   "source": [
    "# Plot os counts\n",
    "plt.plot()\n",
    "df['os'].value_counts().plot(kind='bar', title='Customer Counts by Operating System')\n",
    "plt.xticks(rotation=0)\n",
    "\n",
    "# Calculate conversion rate by os\n",
    "p = df.pivot_table(index='os', values='customer', aggfunc={'customer': ['count', 'mean']}).reset_index()\n",
    "p['os_con'] = p['count'] / p['count'].sum()    \n",
    "\n",
    "# Chi2 test for independence\n",
    "print(chi2_contingency(p['os_con']))\n",
    "\n",
    "# Create pivot table with counts\n",
    "p = p[['os', 'count', 'os_con', 'mean']]\n",
    "p.rename(index=str, columns={'mean': 'conversion rate', 'os_con': '%'}, inplace=True)\n",
    "display(p.round({'os_con': 3, 'conversion rate': 3}).sort_values(by='conversion rate', ascending=False))"
   ]
  },
  {
   "cell_type": "markdown",
   "metadata": {},
   "source": [
    "Although customers are slightly higher ios users, the conversion rate is roughly the same. This attribute may have less to relevance regarding conversion, but it might be a good control variable for the model."
   ]
  },
  {
   "cell_type": "code",
   "execution_count": 12,
   "metadata": {},
   "outputs": [
    {
     "data": {
      "text/html": [
       "<div>\n",
       "<style>\n",
       "    .dataframe thead tr:only-child th {\n",
       "        text-align: right;\n",
       "    }\n",
       "\n",
       "    .dataframe thead th {\n",
       "        text-align: left;\n",
       "    }\n",
       "\n",
       "    .dataframe tbody tr th {\n",
       "        vertical-align: top;\n",
       "    }\n",
       "</style>\n",
       "<table border=\"1\" class=\"dataframe\">\n",
       "  <thead>\n",
       "    <tr style=\"text-align: right;\">\n",
       "      <th></th>\n",
       "      <th>channel</th>\n",
       "      <th>count</th>\n",
       "      <th>%</th>\n",
       "      <th>conversion rate</th>\n",
       "    </tr>\n",
       "  </thead>\n",
       "  <tbody>\n",
       "    <tr>\n",
       "      <th>6</th>\n",
       "      <td>32 Taboola</td>\n",
       "      <td>2789</td>\n",
       "      <td>0.033640</td>\n",
       "      <td>0.457</td>\n",
       "    </tr>\n",
       "    <tr>\n",
       "      <th>5</th>\n",
       "      <td>31 OUTBRAIN</td>\n",
       "      <td>6237</td>\n",
       "      <td>0.075228</td>\n",
       "      <td>0.426</td>\n",
       "    </tr>\n",
       "    <tr>\n",
       "      <th>11</th>\n",
       "      <td>69 Others</td>\n",
       "      <td>876</td>\n",
       "      <td>0.010566</td>\n",
       "      <td>0.352</td>\n",
       "    </tr>\n",
       "    <tr>\n",
       "      <th>12</th>\n",
       "      <td>95 LAT</td>\n",
       "      <td>7043</td>\n",
       "      <td>0.084950</td>\n",
       "      <td>0.333</td>\n",
       "    </tr>\n",
       "    <tr>\n",
       "      <th>0</th>\n",
       "      <td>00 Organic</td>\n",
       "      <td>21795</td>\n",
       "      <td>0.262882</td>\n",
       "      <td>0.302</td>\n",
       "    </tr>\n",
       "    <tr>\n",
       "      <th>2</th>\n",
       "      <td>12 PINTEREST</td>\n",
       "      <td>13564</td>\n",
       "      <td>0.163603</td>\n",
       "      <td>0.297</td>\n",
       "    </tr>\n",
       "    <tr>\n",
       "      <th>9</th>\n",
       "      <td>61 Web/Content</td>\n",
       "      <td>390</td>\n",
       "      <td>0.004704</td>\n",
       "      <td>0.295</td>\n",
       "    </tr>\n",
       "    <tr>\n",
       "      <th>3</th>\n",
       "      <td>21 ASA</td>\n",
       "      <td>2108</td>\n",
       "      <td>0.025426</td>\n",
       "      <td>0.278</td>\n",
       "    </tr>\n",
       "    <tr>\n",
       "      <th>8</th>\n",
       "      <td>42 Adcolony</td>\n",
       "      <td>4806</td>\n",
       "      <td>0.057968</td>\n",
       "      <td>0.269</td>\n",
       "    </tr>\n",
       "    <tr>\n",
       "      <th>1</th>\n",
       "      <td>11 FB</td>\n",
       "      <td>8857</td>\n",
       "      <td>0.106829</td>\n",
       "      <td>0.250</td>\n",
       "    </tr>\n",
       "    <tr>\n",
       "      <th>10</th>\n",
       "      <td>62 Social Media</td>\n",
       "      <td>550</td>\n",
       "      <td>0.006634</td>\n",
       "      <td>0.247</td>\n",
       "    </tr>\n",
       "    <tr>\n",
       "      <th>4</th>\n",
       "      <td>22 Adwords (Search)</td>\n",
       "      <td>7371</td>\n",
       "      <td>0.088906</td>\n",
       "      <td>0.228</td>\n",
       "    </tr>\n",
       "    <tr>\n",
       "      <th>7</th>\n",
       "      <td>41 Youtube</td>\n",
       "      <td>6522</td>\n",
       "      <td>0.078666</td>\n",
       "      <td>0.227</td>\n",
       "    </tr>\n",
       "  </tbody>\n",
       "</table>\n",
       "</div>"
      ],
      "text/plain": [
       "                channel  count         %  conversion rate\n",
       "6            32 Taboola   2789  0.033640            0.457\n",
       "5           31 OUTBRAIN   6237  0.075228            0.426\n",
       "11            69 Others    876  0.010566            0.352\n",
       "12               95 LAT   7043  0.084950            0.333\n",
       "0            00 Organic  21795  0.262882            0.302\n",
       "2          12 PINTEREST  13564  0.163603            0.297\n",
       "9        61 Web/Content    390  0.004704            0.295\n",
       "3                21 ASA   2108  0.025426            0.278\n",
       "8           42 Adcolony   4806  0.057968            0.269\n",
       "1                 11 FB   8857  0.106829            0.250\n",
       "10      62 Social Media    550  0.006634            0.247\n",
       "4   22 Adwords (Search)   7371  0.088906            0.228\n",
       "7            41 Youtube   6522  0.078666            0.227"
      ]
     },
     "metadata": {},
     "output_type": "display_data"
    },
    {
     "data": {
      "image/png": "[encoded data removed]",
      "text/plain": [
       "<matplotlib.figure.Figure at 0x1200a8630>"
      ]
     },
     "metadata": {},
     "output_type": "display_data"
    }
   ],
   "source": [
    "# Plot channel counts\n",
    "plt.plot()\n",
    "df['channel'].value_counts().plot(kind='bar', title='Customer Counts by Channel')\n",
    "\n",
    "# Calculate conversion rate by channel\n",
    "p = df.pivot_table(index='channel', values='customer', aggfunc={'customer': ['count', 'mean']}).reset_index()\n",
    "p['chan_con'] = p['count'] / p['count'].sum()    \n",
    "\n",
    "# Create pivot table with counts \n",
    "p = p[['channel', 'count', 'chan_con', 'mean']]\n",
    "p.rename(index=str, columns={'mean': 'conversion rate', 'chan_con': '%'}, inplace=True)\n",
    "display(p.round({'chan_con': 3, 'conversion rate': 3}).sort_values(by='conversion rate', ascending=False))"
   ]
  },
  {
   "cell_type": "markdown",
   "metadata": {},
   "source": [
    "Organic and Pinterest alone account for almost half of the customers in the sample (42%). While these channels have fairly good conversion rates (30%), Taboola and Outbrain demonstrate much higher conversion rates (45%). It would be interesting to look at these cases more closely, especially Outbrain as it makes up a fairly large portion of the customer base (7%). Conversely, Facebook makes up a decent portion of the customer base (10%), but has a slighly smaller conversion rate (25%)."
   ]
  },
  {
   "cell_type": "code",
   "execution_count": 13,
   "metadata": {},
   "outputs": [
    {
     "data": {
      "text/html": [
       "<div>\n",
       "<style>\n",
       "    .dataframe thead tr:only-child th {\n",
       "        text-align: right;\n",
       "    }\n",
       "\n",
       "    .dataframe thead th {\n",
       "        text-align: left;\n",
       "    }\n",
       "\n",
       "    .dataframe tbody tr th {\n",
       "        vertical-align: top;\n",
       "    }\n",
       "</style>\n",
       "<table border=\"1\" class=\"dataframe\">\n",
       "  <thead>\n",
       "    <tr style=\"text-align: right;\">\n",
       "      <th></th>\n",
       "      <th>country</th>\n",
       "      <th>count</th>\n",
       "      <th>%</th>\n",
       "      <th>conversion rate</th>\n",
       "    </tr>\n",
       "  </thead>\n",
       "  <tbody>\n",
       "    <tr>\n",
       "      <th>4</th>\n",
       "      <td>FR</td>\n",
       "      <td>2170</td>\n",
       "      <td>0.026174</td>\n",
       "      <td>0.374</td>\n",
       "    </tr>\n",
       "    <tr>\n",
       "      <th>0</th>\n",
       "      <td>AU</td>\n",
       "      <td>3398</td>\n",
       "      <td>0.040985</td>\n",
       "      <td>0.313</td>\n",
       "    </tr>\n",
       "    <tr>\n",
       "      <th>7</th>\n",
       "      <td>US</td>\n",
       "      <td>50855</td>\n",
       "      <td>0.613391</td>\n",
       "      <td>0.308</td>\n",
       "    </tr>\n",
       "    <tr>\n",
       "      <th>5</th>\n",
       "      <td>GB</td>\n",
       "      <td>9226</td>\n",
       "      <td>0.111280</td>\n",
       "      <td>0.296</td>\n",
       "    </tr>\n",
       "    <tr>\n",
       "      <th>2</th>\n",
       "      <td>DE</td>\n",
       "      <td>2849</td>\n",
       "      <td>0.034363</td>\n",
       "      <td>0.293</td>\n",
       "    </tr>\n",
       "    <tr>\n",
       "      <th>1</th>\n",
       "      <td>CA</td>\n",
       "      <td>4483</td>\n",
       "      <td>0.054072</td>\n",
       "      <td>0.284</td>\n",
       "    </tr>\n",
       "    <tr>\n",
       "      <th>3</th>\n",
       "      <td>ES</td>\n",
       "      <td>4172</td>\n",
       "      <td>0.050321</td>\n",
       "      <td>0.267</td>\n",
       "    </tr>\n",
       "    <tr>\n",
       "      <th>6</th>\n",
       "      <td>MX</td>\n",
       "      <td>5755</td>\n",
       "      <td>0.069414</td>\n",
       "      <td>0.207</td>\n",
       "    </tr>\n",
       "  </tbody>\n",
       "</table>\n",
       "</div>"
      ],
      "text/plain": [
       "  country  count         %  conversion rate\n",
       "4      FR   2170  0.026174            0.374\n",
       "0      AU   3398  0.040985            0.313\n",
       "7      US  50855  0.613391            0.308\n",
       "5      GB   9226  0.111280            0.296\n",
       "2      DE   2849  0.034363            0.293\n",
       "1      CA   4483  0.054072            0.284\n",
       "3      ES   4172  0.050321            0.267\n",
       "6      MX   5755  0.069414            0.207"
      ]
     },
     "metadata": {},
     "output_type": "display_data"
    },
    {
     "data": {
      "image/png": "[encoded data removed]",
      "text/plain": [
       "<matplotlib.figure.Figure at 0x1204ee080>"
      ]
     },
     "metadata": {},
     "output_type": "display_data"
    }
   ],
   "source": [
    "# Plot country counts\n",
    "plt.plot()\n",
    "df['country'].value_counts().plot(kind='bar', title='Customers Counts by Country')\n",
    "plt.xticks(rotation=0)\n",
    "\n",
    "# Calculate conversion rate by country\n",
    "p = df.pivot_table(index='country', values='customer', aggfunc={'customer': ['count', 'mean']}).reset_index()\n",
    "p['cnt_con'] = p['count'] / p['count'].sum()    \n",
    "\n",
    "# Create pivot table with counts\n",
    "p = p[['country', 'count', 'cnt_con', 'mean']]\n",
    "p.rename(index=str, columns={'mean': 'conversion rate', 'cnt_con': '%'}, inplace=True)\n",
    "display(p.round({'cnt_con': 3, 'conversion rate': 3}).sort_values(by='conversion rate', ascending=False))"
   ]
  },
  {
   "cell_type": "markdown",
   "metadata": {},
   "source": [
    "60% of all customers are from the US. When looking at the conversion rates, most countries are relatively equal, with slightly lower rates for Spain and Mexico. While country of origin may not likely explain convergence, it's a good control variable for the model."
   ]
  },
  {
   "cell_type": "markdown",
   "metadata": {},
   "source": [
    "## Data Cleaning"
   ]
  },
  {
   "cell_type": "code",
   "execution_count": 14,
   "metadata": {
    "collapsed": true
   },
   "outputs": [],
   "source": [
    "def cleaning(df):\n",
    "    # Remove irrelevant attributes\n",
    "    df = df.drop('user_id', axis = 1) \n",
    "    \n",
    "    # Min-max scale age \n",
    "    scaler = MinMaxScaler()\n",
    "    df['age'] = scaler.fit_transform(pd.DataFrame(df['age']))\n",
    "   \n",
    "    # Loop attributes to create dummy variables\n",
    "    for i in df.columns: \n",
    "        if df[i].dtype == \"O\":\n",
    "            df = pd.concat([df, pd.get_dummies(df[i], prefix = i)], axis=1)\n",
    "            del df[i] #delete the original object column\n",
    "    \n",
    "    # Identify X and y \n",
    "    if 'customer' in df.columns: \n",
    "        y = df[\"customer\"]\n",
    "        X = df.drop([\"customer\"], axis = 1)\n",
    "        return X, y\n",
    "    else:\n",
    "        return df"
   ]
  },
  {
   "cell_type": "code",
   "execution_count": 15,
   "metadata": {
    "collapsed": true
   },
   "outputs": [],
   "source": [
    "# Create X,y\n",
    "X, y = cleaning(df)"
   ]
  },
  {
   "cell_type": "code",
   "execution_count": 16,
   "metadata": {},
   "outputs": [
    {
     "name": "stdout",
     "output_type": "stream",
     "text": [
      "<class 'pandas.core.frame.DataFrame'>\n",
      "RangeIndex: 82908 entries, 0 to 82907\n",
      "Data columns (total 26 columns):\n",
      "age                            82908 non-null float64\n",
      "channel_00 Organic             82908 non-null uint8\n",
      "channel_11 FB                  82908 non-null uint8\n",
      "channel_12 PINTEREST           82908 non-null uint8\n",
      "channel_21 ASA                 82908 non-null uint8\n",
      "channel_22 Adwords (Search)    82908 non-null uint8\n",
      "channel_31 OUTBRAIN            82908 non-null uint8\n",
      "channel_32 Taboola             82908 non-null uint8\n",
      "channel_41 Youtube             82908 non-null uint8\n",
      "channel_42 Adcolony            82908 non-null uint8\n",
      "channel_61 Web/Content         82908 non-null uint8\n",
      "channel_62 Social Media        82908 non-null uint8\n",
      "channel_69 Others              82908 non-null uint8\n",
      "channel_95 LAT                 82908 non-null uint8\n",
      "os_android                     82908 non-null uint8\n",
      "os_ios                         82908 non-null uint8\n",
      "gender_female                  82908 non-null uint8\n",
      "gender_male                    82908 non-null uint8\n",
      "country_AU                     82908 non-null uint8\n",
      "country_CA                     82908 non-null uint8\n",
      "country_DE                     82908 non-null uint8\n",
      "country_ES                     82908 non-null uint8\n",
      "country_FR                     82908 non-null uint8\n",
      "country_GB                     82908 non-null uint8\n",
      "country_MX                     82908 non-null uint8\n",
      "country_US                     82908 non-null uint8\n",
      "dtypes: float64(1), uint8(25)\n",
      "memory usage: 2.6 MB\n"
     ]
    }
   ],
   "source": [
    "X.info()"
   ]
  },
  {
   "cell_type": "code",
   "execution_count": 17,
   "metadata": {
    "collapsed": true
   },
   "outputs": [],
   "source": [
    "# Split data\n",
    "X_train, X_test, y_train, y_test = train_test_split(X, y, test_size=0.3, random_state=0)"
   ]
  },
  {
   "cell_type": "markdown",
   "metadata": {},
   "source": [
    "## Model Parameter Optimization"
   ]
  },
  {
   "cell_type": "markdown",
   "metadata": {},
   "source": [
    "Because the DV is binary, we use a sigmoidal logistic function for modeling purposes, although several classifiers could be used for further model fit comparison (Random Forest, MLP, GradientBoosting)."
   ]
  },
  {
   "cell_type": "code",
   "execution_count": 18,
   "metadata": {},
   "outputs": [
    {
     "data": {
      "text/plain": [
       "GridSearchCV(cv=None, error_score='raise',\n",
       "       estimator=LogisticRegression(C=1.0, class_weight=None, dual=False, fit_intercept=True,\n",
       "          intercept_scaling=1, max_iter=100, multi_class='ovr', n_jobs=1,\n",
       "          penalty='l2', random_state=None, solver='liblinear', tol=0.0001,\n",
       "          verbose=0, warm_start=False),\n",
       "       fit_params=None, iid=True, n_jobs=1,\n",
       "       param_grid={'C': [0.001, 0.01, 0.1, 1, 10, 100, 1000]},\n",
       "       pre_dispatch='2*n_jobs', refit=True, return_train_score=True,\n",
       "       scoring='roc_auc', verbose=0)"
      ]
     },
     "execution_count": 18,
     "metadata": {},
     "output_type": "execute_result"
    }
   ],
   "source": [
    "# Fit the model and model parameters\n",
    "classifier = LogisticRegression()\n",
    "classifier.fit(X_train, y_train.ravel())\n",
    "param_grid = {'C': [0.001, 0.01, 0.1, 1, 10, 100, 1000] }\n",
    "\n",
    "# Set default metric to optimize over grid parameters: accuracy\n",
    "opt = GridSearchCV(classifier, param_grid = param_grid, scoring = 'roc_auc')\n",
    "opt.fit(X_train, y_train.ravel())"
   ]
  },
  {
   "cell_type": "code",
   "execution_count": 19,
   "metadata": {},
   "outputs": [
    {
     "name": "stdout",
     "output_type": "stream",
     "text": [
      "Grid best parameter (max. accuracy):  {'C': 1000}\n",
      "Grid best score (AUC_ROC):  0.630136469541\n",
      "Test score (accuracy):  0.70546375588\n"
     ]
    }
   ],
   "source": [
    "# Create array with 1 and 0 for the prediction\n",
    "y_pred = opt.predict(X_test)  \n",
    "print('Grid best parameter (max. accuracy): ', opt.best_params_)\n",
    "print('Grid best score (AUC_ROC): ', opt.best_score_)\n",
    "print('Test score (accuracy): ', (y_pred == y_test).mean())"
   ]
  },
  {
   "cell_type": "code",
   "execution_count": 20,
   "metadata": {},
   "outputs": [
    {
     "name": "stdout",
     "output_type": "stream",
     "text": [
      "             precision    recall  f1-score   support\n",
      "\n",
      "          0       0.71      0.97      0.82     17447\n",
      "          1       0.54      0.08      0.15      7426\n",
      "\n",
      "avg / total       0.66      0.71      0.62     24873\n",
      "\n"
     ]
    }
   ],
   "source": [
    "# Classification report\n",
    "print(classification_report(y_test, y_pred))"
   ]
  },
  {
   "cell_type": "markdown",
   "metadata": {},
   "source": [
    "Overall, model accuracy is roughly 70%, although the f1-score is rather low. This is most likely due to the minimal variation covered by the few attributes given. See next steps for further suggestions to improve model fit."
   ]
  },
  {
   "cell_type": "markdown",
   "metadata": {
    "collapsed": true
   },
   "source": [
    "## Prediction"
   ]
  },
  {
   "cell_type": "code",
   "execution_count": 21,
   "metadata": {},
   "outputs": [
    {
     "data": {
      "text/html": [
       "<div>\n",
       "<style>\n",
       "    .dataframe thead tr:only-child th {\n",
       "        text-align: right;\n",
       "    }\n",
       "\n",
       "    .dataframe thead th {\n",
       "        text-align: left;\n",
       "    }\n",
       "\n",
       "    .dataframe tbody tr th {\n",
       "        vertical-align: top;\n",
       "    }\n",
       "</style>\n",
       "<table border=\"1\" class=\"dataframe\">\n",
       "  <thead>\n",
       "    <tr style=\"text-align: right;\">\n",
       "      <th></th>\n",
       "      <th>user_id</th>\n",
       "      <th>channel</th>\n",
       "      <th>age</th>\n",
       "      <th>os</th>\n",
       "      <th>gender</th>\n",
       "      <th>country</th>\n",
       "    </tr>\n",
       "  </thead>\n",
       "  <tbody>\n",
       "    <tr>\n",
       "      <th>0</th>\n",
       "      <td>0</td>\n",
       "      <td>42 Adcolony</td>\n",
       "      <td>32</td>\n",
       "      <td>android</td>\n",
       "      <td>female</td>\n",
       "      <td>US</td>\n",
       "    </tr>\n",
       "    <tr>\n",
       "      <th>1</th>\n",
       "      <td>1</td>\n",
       "      <td>12 PINTEREST</td>\n",
       "      <td>27</td>\n",
       "      <td>android</td>\n",
       "      <td>female</td>\n",
       "      <td>US</td>\n",
       "    </tr>\n",
       "    <tr>\n",
       "      <th>2</th>\n",
       "      <td>2</td>\n",
       "      <td>00 Organic</td>\n",
       "      <td>36</td>\n",
       "      <td>ios</td>\n",
       "      <td>male</td>\n",
       "      <td>GB</td>\n",
       "    </tr>\n",
       "    <tr>\n",
       "      <th>3</th>\n",
       "      <td>3</td>\n",
       "      <td>42 Adcolony</td>\n",
       "      <td>29</td>\n",
       "      <td>ios</td>\n",
       "      <td>female</td>\n",
       "      <td>US</td>\n",
       "    </tr>\n",
       "    <tr>\n",
       "      <th>4</th>\n",
       "      <td>4</td>\n",
       "      <td>12 PINTEREST</td>\n",
       "      <td>20</td>\n",
       "      <td>ios</td>\n",
       "      <td>female</td>\n",
       "      <td>CA</td>\n",
       "    </tr>\n",
       "  </tbody>\n",
       "</table>\n",
       "</div>"
      ],
      "text/plain": [
       "   user_id       channel  age       os  gender country\n",
       "0        0   42 Adcolony   32  android  female      US\n",
       "1        1  12 PINTEREST   27  android  female      US\n",
       "2        2    00 Organic   36      ios    male      GB\n",
       "3        3   42 Adcolony   29      ios  female      US\n",
       "4        4  12 PINTEREST   20      ios  female      CA"
      ]
     },
     "execution_count": 21,
     "metadata": {},
     "output_type": "execute_result"
    }
   ],
   "source": [
    "#Load the test_data.csv file\n",
    "df_test = pd.read_csv('/Users/wiseer85/Desktop/test_data.csv_fixed')\n",
    "df_test.head()"
   ]
  },
  {
   "cell_type": "code",
   "execution_count": 22,
   "metadata": {
    "collapsed": true
   },
   "outputs": [],
   "source": [
    "# Clean test data set\n",
    "df_test_final = cleaning(df_test)"
   ]
  },
  {
   "cell_type": "code",
   "execution_count": 23,
   "metadata": {
    "collapsed": true
   },
   "outputs": [],
   "source": [
    "# Predict y\n",
    "predict = opt.predict(df_test_final)"
   ]
  },
  {
   "cell_type": "code",
   "execution_count": 24,
   "metadata": {
    "collapsed": true
   },
   "outputs": [],
   "source": [
    "#Create a new column on the original test_data.csv file\n",
    "df_test['customer'] = predict"
   ]
  },
  {
   "cell_type": "code",
   "execution_count": 25,
   "metadata": {
    "collapsed": true
   },
   "outputs": [],
   "source": [
    "# Save the file\n",
    "df_test.to_csv('/Users/wiseer85/Desktop/wise_predictions.csv')"
   ]
  },
  {
   "cell_type": "code",
   "execution_count": 26,
   "metadata": {},
   "outputs": [
    {
     "data": {
      "text/html": [
       "<div>\n",
       "<style>\n",
       "    .dataframe thead tr:only-child th {\n",
       "        text-align: right;\n",
       "    }\n",
       "\n",
       "    .dataframe thead th {\n",
       "        text-align: left;\n",
       "    }\n",
       "\n",
       "    .dataframe tbody tr th {\n",
       "        vertical-align: top;\n",
       "    }\n",
       "</style>\n",
       "<table border=\"1\" class=\"dataframe\">\n",
       "  <thead>\n",
       "    <tr style=\"text-align: right;\">\n",
       "      <th></th>\n",
       "      <th>Unnamed: 0</th>\n",
       "      <th>user_id</th>\n",
       "      <th>channel</th>\n",
       "      <th>age</th>\n",
       "      <th>os</th>\n",
       "      <th>gender</th>\n",
       "      <th>country</th>\n",
       "      <th>customer</th>\n",
       "    </tr>\n",
       "  </thead>\n",
       "  <tbody>\n",
       "    <tr>\n",
       "      <th>0</th>\n",
       "      <td>0</td>\n",
       "      <td>0</td>\n",
       "      <td>42 Adcolony</td>\n",
       "      <td>32</td>\n",
       "      <td>android</td>\n",
       "      <td>female</td>\n",
       "      <td>US</td>\n",
       "      <td>0</td>\n",
       "    </tr>\n",
       "    <tr>\n",
       "      <th>1</th>\n",
       "      <td>1</td>\n",
       "      <td>1</td>\n",
       "      <td>12 PINTEREST</td>\n",
       "      <td>27</td>\n",
       "      <td>android</td>\n",
       "      <td>female</td>\n",
       "      <td>US</td>\n",
       "      <td>0</td>\n",
       "    </tr>\n",
       "    <tr>\n",
       "      <th>2</th>\n",
       "      <td>2</td>\n",
       "      <td>2</td>\n",
       "      <td>00 Organic</td>\n",
       "      <td>36</td>\n",
       "      <td>ios</td>\n",
       "      <td>male</td>\n",
       "      <td>GB</td>\n",
       "      <td>0</td>\n",
       "    </tr>\n",
       "    <tr>\n",
       "      <th>3</th>\n",
       "      <td>3</td>\n",
       "      <td>3</td>\n",
       "      <td>42 Adcolony</td>\n",
       "      <td>29</td>\n",
       "      <td>ios</td>\n",
       "      <td>female</td>\n",
       "      <td>US</td>\n",
       "      <td>0</td>\n",
       "    </tr>\n",
       "    <tr>\n",
       "      <th>4</th>\n",
       "      <td>4</td>\n",
       "      <td>4</td>\n",
       "      <td>12 PINTEREST</td>\n",
       "      <td>20</td>\n",
       "      <td>ios</td>\n",
       "      <td>female</td>\n",
       "      <td>CA</td>\n",
       "      <td>0</td>\n",
       "    </tr>\n",
       "  </tbody>\n",
       "</table>\n",
       "</div>"
      ],
      "text/plain": [
       "   Unnamed: 0  user_id       channel  age       os  gender country  customer\n",
       "0           0        0   42 Adcolony   32  android  female      US         0\n",
       "1           1        1  12 PINTEREST   27  android  female      US         0\n",
       "2           2        2    00 Organic   36      ios    male      GB         0\n",
       "3           3        3   42 Adcolony   29      ios  female      US         0\n",
       "4           4        4  12 PINTEREST   20      ios  female      CA         0"
      ]
     },
     "execution_count": 26,
     "metadata": {},
     "output_type": "execute_result"
    }
   ],
   "source": [
    "# Check saved file\n",
    "pd.read_csv('/Users/wiseer85/Desktop/wise_predictions.csv').head(5)"
   ]
  },
  {
   "cell_type": "markdown",
   "metadata": {
    "collapsed": true
   },
   "source": [
    "## Next Steps"
   ]
  },
  {
   "cell_type": "markdown",
   "metadata": {
    "collapsed": true
   },
   "source": [
    "- Apply sampling techique\n",
    "- Consider additional features \n",
    "- Explore possible interactions between features\n",
    "- Use alternative classifiers for model fit comparison \n",
    "- Try other tools for optimizing hyperparameters\n",
    "- Explore coefficients for further understanding of features"
   ]
  }
 ],
 "metadata": {
  "kernelspec": {
   "display_name": "Python 3",
   "language": "python",
   "name": "python3"
  },
  "language_info": {
   "codemirror_mode": {
    "name": "ipython",
    "version": 3
   },
   "file_extension": ".py",
   "mimetype": "text/x-python",
   "name": "python",
   "nbconvert_exporter": "python",
   "pygments_lexer": "ipython3",
   "version": "3.6.2"
  }
 },
 "nbformat": 4,
 "nbformat_minor": 2
}
