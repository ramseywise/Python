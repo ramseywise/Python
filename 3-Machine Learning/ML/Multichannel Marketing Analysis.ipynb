{
 "cells": [
  {
   "cell_type": "markdown",
   "metadata": {},
   "source": [
    "# Marketing Analytics"
   ]
  },
  {
   "cell_type": "code",
   "execution_count": 1,
   "metadata": {},
   "outputs": [
    {
     "name": "stderr",
     "output_type": "stream",
     "text": [
      "/anaconda3/lib/python3.6/site-packages/statsmodels/compat/pandas.py:56: FutureWarning: The pandas.core.datetools module is deprecated and will be removed in a future version. Please use the pandas.tseries module instead.\n",
      "  from pandas.core import datetools\n"
     ]
    }
   ],
   "source": [
    "# Import libraries\n",
    "import numpy as np\n",
    "import pandas as pd\n",
    "import seaborn as sns\n",
    "import numpy as np\n",
    "import matplotlib.pyplot as plt\n",
    "import statsmodels.api as sm\n",
    "from pandas import Series\n",
    "from statsmodels.tsa.stattools import acf\n",
    "from sklearn.linear_model import LinearRegression\n",
    "%matplotlib inline"
   ]
  },
  {
   "cell_type": "markdown",
   "metadata": {},
   "source": [
    "## Data Preparation\n",
    "\n",
    "### Task 1. Give an overview of our channels and how they contribute to user acquisition.\n",
    "\n",
    "Two datasets were provided to assess the relationship between tv campagins and user acquisition across channels. One dataset contained information on tv-spending campaign dates (df2), while the other included dates of user acquisition with 4 interactive marketing channels prior to user acquisition (df1):\n",
    "\n",
    "* `cpc`: cost-per-click marketing channel\n",
    "* `organic`: organic marketing channel\n",
    "* `affiliate`: affiliate marketing channel\n",
    "* `social`: social marketing chanel\n",
    "\n",
    "As part of data preparation, I first reviewed the data's structure and attributes. I checked for missings, but there was not much to be done to prepare this data. Often I would also normalize the data, but because there is such low variability in the data, I did not expect normalization to change results. For confirmation, I later compared the  distribution of each channel, which is already quite normalized."
   ]
  },
  {
   "cell_type": "code",
   "execution_count": 2,
   "metadata": {},
   "outputs": [
    {
     "data": {
      "text/html": [
       "<div>\n",
       "<style scoped>\n",
       "    .dataframe tbody tr th:only-of-type {\n",
       "        vertical-align: middle;\n",
       "    }\n",
       "\n",
       "    .dataframe tbody tr th {\n",
       "        vertical-align: top;\n",
       "    }\n",
       "\n",
       "    .dataframe thead th {\n",
       "        text-align: right;\n",
       "    }\n",
       "</style>\n",
       "<table border=\"1\" class=\"dataframe\">\n",
       "  <thead>\n",
       "    <tr style=\"text-align: right;\">\n",
       "      <th></th>\n",
       "      <th>userid</th>\n",
       "      <th>cpc</th>\n",
       "      <th>organic</th>\n",
       "      <th>affiliate</th>\n",
       "      <th>social</th>\n",
       "      <th>signup_date</th>\n",
       "    </tr>\n",
       "  </thead>\n",
       "  <tbody>\n",
       "    <tr>\n",
       "      <th>0</th>\n",
       "      <td>e0912256-b48a-45c0-afec-23350d341abd</td>\n",
       "      <td>1</td>\n",
       "      <td>0</td>\n",
       "      <td>0</td>\n",
       "      <td>1</td>\n",
       "      <td>2017-02-01</td>\n",
       "    </tr>\n",
       "    <tr>\n",
       "      <th>1</th>\n",
       "      <td>321c18f1-c58e-488d-a60a-462dfc9d38aa</td>\n",
       "      <td>1</td>\n",
       "      <td>0</td>\n",
       "      <td>1</td>\n",
       "      <td>0</td>\n",
       "      <td>2017-01-10</td>\n",
       "    </tr>\n",
       "    <tr>\n",
       "      <th>2</th>\n",
       "      <td>3d03c163-d14b-49da-873a-a54cc3b400e3</td>\n",
       "      <td>0</td>\n",
       "      <td>0</td>\n",
       "      <td>1</td>\n",
       "      <td>1</td>\n",
       "      <td>2017-03-24</td>\n",
       "    </tr>\n",
       "    <tr>\n",
       "      <th>3</th>\n",
       "      <td>3acb5a84-4375-405b-9a8b-bfb8979ab9bc</td>\n",
       "      <td>1</td>\n",
       "      <td>0</td>\n",
       "      <td>0</td>\n",
       "      <td>0</td>\n",
       "      <td>2017-03-06</td>\n",
       "    </tr>\n",
       "    <tr>\n",
       "      <th>4</th>\n",
       "      <td>1b488764-6874-4483-8e70-815feb07b154</td>\n",
       "      <td>1</td>\n",
       "      <td>0</td>\n",
       "      <td>0</td>\n",
       "      <td>0</td>\n",
       "      <td>2017-03-03</td>\n",
       "    </tr>\n",
       "  </tbody>\n",
       "</table>\n",
       "</div>"
      ],
      "text/plain": [
       "                                 userid  cpc  organic  affiliate  social  \\\n",
       "0  e0912256-b48a-45c0-afec-23350d341abd    1        0          0       1   \n",
       "1  321c18f1-c58e-488d-a60a-462dfc9d38aa    1        0          1       0   \n",
       "2  3d03c163-d14b-49da-873a-a54cc3b400e3    0        0          1       1   \n",
       "3  3acb5a84-4375-405b-9a8b-bfb8979ab9bc    1        0          0       0   \n",
       "4  1b488764-6874-4483-8e70-815feb07b154    1        0          0       0   \n",
       "\n",
       "  signup_date  \n",
       "0  2017-02-01  \n",
       "1  2017-01-10  \n",
       "2  2017-03-24  \n",
       "3  2017-03-06  \n",
       "4  2017-03-03  "
      ]
     },
     "execution_count": 2,
     "metadata": {},
     "output_type": "execute_result"
    }
   ],
   "source": [
    "# Load user-signup as df1 \n",
    "df1 = pd.read_csv(\"/Users/wiseer85/Desktop/Case/user_signup_data.csv\")\n",
    "df1.head()"
   ]
  },
  {
   "cell_type": "code",
   "execution_count": 3,
   "metadata": {},
   "outputs": [
    {
     "data": {
      "text/html": [
       "<div>\n",
       "<style scoped>\n",
       "    .dataframe tbody tr th:only-of-type {\n",
       "        vertical-align: middle;\n",
       "    }\n",
       "\n",
       "    .dataframe tbody tr th {\n",
       "        vertical-align: top;\n",
       "    }\n",
       "\n",
       "    .dataframe thead th {\n",
       "        text-align: right;\n",
       "    }\n",
       "</style>\n",
       "<table border=\"1\" class=\"dataframe\">\n",
       "  <thead>\n",
       "    <tr style=\"text-align: right;\">\n",
       "      <th></th>\n",
       "      <th>date</th>\n",
       "      <th>campaign</th>\n",
       "    </tr>\n",
       "  </thead>\n",
       "  <tbody>\n",
       "    <tr>\n",
       "      <th>0</th>\n",
       "      <td>2017-01-24</td>\n",
       "      <td>tv campaign</td>\n",
       "    </tr>\n",
       "    <tr>\n",
       "      <th>1</th>\n",
       "      <td>2017-02-26</td>\n",
       "      <td>tv campaign</td>\n",
       "    </tr>\n",
       "    <tr>\n",
       "      <th>2</th>\n",
       "      <td>2017-03-26</td>\n",
       "      <td>tv campaign</td>\n",
       "    </tr>\n",
       "    <tr>\n",
       "      <th>3</th>\n",
       "      <td>2017-03-05</td>\n",
       "      <td>tv campaign</td>\n",
       "    </tr>\n",
       "    <tr>\n",
       "      <th>4</th>\n",
       "      <td>2017-03-14</td>\n",
       "      <td>tv campaign</td>\n",
       "    </tr>\n",
       "  </tbody>\n",
       "</table>\n",
       "</div>"
      ],
      "text/plain": [
       "         date     campaign\n",
       "0  2017-01-24  tv campaign\n",
       "1  2017-02-26  tv campaign\n",
       "2  2017-03-26  tv campaign\n",
       "3  2017-03-05  tv campaign\n",
       "4  2017-03-14  tv campaign"
      ]
     },
     "execution_count": 3,
     "metadata": {},
     "output_type": "execute_result"
    }
   ],
   "source": [
    "# Load tv_campaigns as df2\n",
    "df2 = pd.read_csv(\"/Users/wiseer85/Desktop/Case/tv_campaigns.csv\")\n",
    "df2.head()"
   ]
  },
  {
   "cell_type": "markdown",
   "metadata": {},
   "source": [
    "## Data Exploration and Visualization\n",
    "\n",
    "For this task, my initial focus is the impact of tv spending campaigns on user acquisitions. To estimate impact, I first observed the continuous attributes' descriptive stats. The mean of each attribute (or the share of acquisitions associated with respective multichannel attributes) provides a first look into which of the channels are more highly associated with user acquisition. \n",
    "\n",
    "As I'm also interested in the relationship between tv campaigns and other channels, I further considered a few question of interest: \n",
    "\n",
    "### 1. Which of the channels had the strongest relationship to user acquisition? \n",
    "\n",
    "From the descriptive statistics below, majority of user acquisition occured through the `affiliate` and `social` channels (78% and 60%), whereas `cpc` and `organic` channels appear to have a weak relationship with user acquisition (33% and 10%) are are expected to contribute least to user acquisition.\n",
    "\n",
    "### 1.1. How many of these are unique channels versus mutichannel attributes?    \n",
    "\n",
    "Only 26% of acquisitions are unique. "
   ]
  },
  {
   "cell_type": "code",
   "execution_count": 4,
   "metadata": {},
   "outputs": [],
   "source": [
    "# Add column for tv spending campaign\n",
    "df1['tv'] = df1['signup_date'].isin(df2['date']).astype(int)"
   ]
  },
  {
   "cell_type": "code",
   "execution_count": 5,
   "metadata": {},
   "outputs": [],
   "source": [
    "# Add column for the sum of the different channels\n",
    "df1['multi'] = df1['cpc'] + df1['organic'] + df1['affiliate'] + df1['social']"
   ]
  },
  {
   "cell_type": "code",
   "execution_count": 6,
   "metadata": {
    "scrolled": false
   },
   "outputs": [
    {
     "data": {
      "text/html": [
       "<div>\n",
       "<style scoped>\n",
       "    .dataframe tbody tr th:only-of-type {\n",
       "        vertical-align: middle;\n",
       "    }\n",
       "\n",
       "    .dataframe tbody tr th {\n",
       "        vertical-align: top;\n",
       "    }\n",
       "\n",
       "    .dataframe thead th {\n",
       "        text-align: right;\n",
       "    }\n",
       "</style>\n",
       "<table border=\"1\" class=\"dataframe\">\n",
       "  <thead>\n",
       "    <tr style=\"text-align: right;\">\n",
       "      <th></th>\n",
       "      <th>cpc</th>\n",
       "      <th>organic</th>\n",
       "      <th>affiliate</th>\n",
       "      <th>social</th>\n",
       "      <th>tv</th>\n",
       "      <th>multi</th>\n",
       "      <th>unique</th>\n",
       "    </tr>\n",
       "  </thead>\n",
       "  <tbody>\n",
       "    <tr>\n",
       "      <th>count</th>\n",
       "      <td>5000.000000</td>\n",
       "      <td>5000.000000</td>\n",
       "      <td>5000.000000</td>\n",
       "      <td>5000.00000</td>\n",
       "      <td>5000.000000</td>\n",
       "      <td>5000.00000</td>\n",
       "      <td>5000.000000</td>\n",
       "    </tr>\n",
       "    <tr>\n",
       "      <th>mean</th>\n",
       "      <td>0.331600</td>\n",
       "      <td>0.103800</td>\n",
       "      <td>0.779400</td>\n",
       "      <td>0.59700</td>\n",
       "      <td>0.110000</td>\n",
       "      <td>1.81180</td>\n",
       "      <td>0.259400</td>\n",
       "    </tr>\n",
       "    <tr>\n",
       "      <th>std</th>\n",
       "      <td>0.470835</td>\n",
       "      <td>0.305031</td>\n",
       "      <td>0.414693</td>\n",
       "      <td>0.49055</td>\n",
       "      <td>0.312921</td>\n",
       "      <td>0.54336</td>\n",
       "      <td>0.438349</td>\n",
       "    </tr>\n",
       "    <tr>\n",
       "      <th>min</th>\n",
       "      <td>0.000000</td>\n",
       "      <td>0.000000</td>\n",
       "      <td>0.000000</td>\n",
       "      <td>0.00000</td>\n",
       "      <td>0.000000</td>\n",
       "      <td>1.00000</td>\n",
       "      <td>0.000000</td>\n",
       "    </tr>\n",
       "    <tr>\n",
       "      <th>25%</th>\n",
       "      <td>0.000000</td>\n",
       "      <td>0.000000</td>\n",
       "      <td>1.000000</td>\n",
       "      <td>0.00000</td>\n",
       "      <td>0.000000</td>\n",
       "      <td>1.00000</td>\n",
       "      <td>0.000000</td>\n",
       "    </tr>\n",
       "    <tr>\n",
       "      <th>50%</th>\n",
       "      <td>0.000000</td>\n",
       "      <td>0.000000</td>\n",
       "      <td>1.000000</td>\n",
       "      <td>1.00000</td>\n",
       "      <td>0.000000</td>\n",
       "      <td>2.00000</td>\n",
       "      <td>0.000000</td>\n",
       "    </tr>\n",
       "    <tr>\n",
       "      <th>75%</th>\n",
       "      <td>1.000000</td>\n",
       "      <td>0.000000</td>\n",
       "      <td>1.000000</td>\n",
       "      <td>1.00000</td>\n",
       "      <td>0.000000</td>\n",
       "      <td>2.00000</td>\n",
       "      <td>1.000000</td>\n",
       "    </tr>\n",
       "    <tr>\n",
       "      <th>max</th>\n",
       "      <td>1.000000</td>\n",
       "      <td>1.000000</td>\n",
       "      <td>1.000000</td>\n",
       "      <td>1.00000</td>\n",
       "      <td>1.000000</td>\n",
       "      <td>3.00000</td>\n",
       "      <td>1.000000</td>\n",
       "    </tr>\n",
       "  </tbody>\n",
       "</table>\n",
       "</div>"
      ],
      "text/plain": [
       "               cpc      organic    affiliate      social           tv  \\\n",
       "count  5000.000000  5000.000000  5000.000000  5000.00000  5000.000000   \n",
       "mean      0.331600     0.103800     0.779400     0.59700     0.110000   \n",
       "std       0.470835     0.305031     0.414693     0.49055     0.312921   \n",
       "min       0.000000     0.000000     0.000000     0.00000     0.000000   \n",
       "25%       0.000000     0.000000     1.000000     0.00000     0.000000   \n",
       "50%       0.000000     0.000000     1.000000     1.00000     0.000000   \n",
       "75%       1.000000     0.000000     1.000000     1.00000     0.000000   \n",
       "max       1.000000     1.000000     1.000000     1.00000     1.000000   \n",
       "\n",
       "            multi       unique  \n",
       "count  5000.00000  5000.000000  \n",
       "mean      1.81180     0.259400  \n",
       "std       0.54336     0.438349  \n",
       "min       1.00000     0.000000  \n",
       "25%       1.00000     0.000000  \n",
       "50%       2.00000     0.000000  \n",
       "75%       2.00000     1.000000  \n",
       "max       3.00000     1.000000  "
      ]
     },
     "execution_count": 6,
     "metadata": {},
     "output_type": "execute_result"
    }
   ],
   "source": [
    "# Create a dummy for unique channels\n",
    "df1['unique'] = np.where(df1['multi']==1, 1, 0)\n",
    "df1.describe()"
   ]
  },
  {
   "cell_type": "markdown",
   "metadata": {},
   "source": [
    "### 2. What share of user acquisations is associated with tv campaigns? Does this association differ across channels?\n",
    "\n",
    "To answer these questions, I first split the datasets into two groups: a) acquisitions on tv campaigns dates and 2) acquisitions on non-tv campaign dates. I summarized frequencies of acquisitions by channel (df). Next, I calculated the ratio (`%TV`) of acquisitions associated with a tv campaign dates or not. In addition, I calculated the share of `unique` attributes. \n",
    "\n",
    "Whereas `TV` measures the ratio of attributes signed up on a TV campaign date to those that were not, `unique` measures the % of total acquisitions (n=5000) that were unique versus multichannel attributes. Because channels are not exculsive (as with the unique score), I took a ratio instead of a percentage in order to isolating the effect of tv across channels.  \n",
    "\n",
    "The second table shows the count of acquisitions grouped by channels. Overall tv campaigns contribute roughly 10% of acquisitions across channels. As the impact of tv campaigns do not differentiate substantively across channels, this suggests that user acquisition can be increased by tv campaigns, although the size of impact is moderated by the relationship of that campaign to respective channels."
   ]
  },
  {
   "cell_type": "code",
   "execution_count": 7,
   "metadata": {},
   "outputs": [],
   "source": [
    "# Split dataframes by dates that correspond to tv-spending campaigns \n",
    "df_tv = df1.loc[df1['signup_date'].isin(df2['date'])]\n",
    "df_notv = df1.loc[~df1['signup_date'].isin(df2['date'])]"
   ]
  },
  {
   "cell_type": "code",
   "execution_count": 8,
   "metadata": {},
   "outputs": [],
   "source": [
    "# Count user acquisition by channel \n",
    "df_tv = pd.melt(df_tv[['cpc','organic','affiliate','social']], var_name=\"channel\", value_name=\"TV\").groupby(['channel']).sum().reset_index()\n",
    "df_notv = pd.melt(df_notv[['cpc','organic','affiliate','social','unique']], var_name=\"channel\", value_name=\"NoTV\").groupby(['channel']).sum().reset_index()"
   ]
  },
  {
   "cell_type": "code",
   "execution_count": 9,
   "metadata": {},
   "outputs": [],
   "source": [
    "# Count share of unique channels\n",
    "df_uni = df1.loc[df1['unique']]\n",
    "df_uni = pd.melt(df_uni[['cpc','organic','affiliate','social']], var_name=\"channel\", value_name=\"unique\").groupby(['channel']).sum().reset_index()"
   ]
  },
  {
   "cell_type": "code",
   "execution_count": 10,
   "metadata": {},
   "outputs": [],
   "source": [
    "# Merge dataframes as one\n",
    "df = df_tv.merge(df_notv,on='channel').merge(df_uni,on='channel')"
   ]
  },
  {
   "cell_type": "code",
   "execution_count": 11,
   "metadata": {},
   "outputs": [],
   "source": [
    "# Add column for share of channel that is unique \n",
    "df['%U'] = df['unique'] / 5000"
   ]
  },
  {
   "cell_type": "code",
   "execution_count": 12,
   "metadata": {},
   "outputs": [
    {
     "data": {
      "text/html": [
       "<div>\n",
       "<style scoped>\n",
       "    .dataframe tbody tr th:only-of-type {\n",
       "        vertical-align: middle;\n",
       "    }\n",
       "\n",
       "    .dataframe tbody tr th {\n",
       "        vertical-align: top;\n",
       "    }\n",
       "\n",
       "    .dataframe thead th {\n",
       "        text-align: right;\n",
       "    }\n",
       "</style>\n",
       "<table border=\"1\" class=\"dataframe\">\n",
       "  <thead>\n",
       "    <tr style=\"text-align: right;\">\n",
       "      <th></th>\n",
       "      <th>channel</th>\n",
       "      <th>TV</th>\n",
       "      <th>NoTV</th>\n",
       "      <th>unique</th>\n",
       "      <th>%U</th>\n",
       "      <th>%TV</th>\n",
       "    </tr>\n",
       "  </thead>\n",
       "  <tbody>\n",
       "    <tr>\n",
       "      <th>0</th>\n",
       "      <td>affiliate</td>\n",
       "      <td>421</td>\n",
       "      <td>3476</td>\n",
       "      <td>1297</td>\n",
       "      <td>0.2594</td>\n",
       "      <td>0.121116</td>\n",
       "    </tr>\n",
       "    <tr>\n",
       "      <th>1</th>\n",
       "      <td>cpc</td>\n",
       "      <td>191</td>\n",
       "      <td>1467</td>\n",
       "      <td>5000</td>\n",
       "      <td>1.0000</td>\n",
       "      <td>0.130198</td>\n",
       "    </tr>\n",
       "    <tr>\n",
       "      <th>2</th>\n",
       "      <td>organic</td>\n",
       "      <td>59</td>\n",
       "      <td>460</td>\n",
       "      <td>0</td>\n",
       "      <td>0.0000</td>\n",
       "      <td>0.128261</td>\n",
       "    </tr>\n",
       "    <tr>\n",
       "      <th>3</th>\n",
       "      <td>social</td>\n",
       "      <td>323</td>\n",
       "      <td>2662</td>\n",
       "      <td>3703</td>\n",
       "      <td>0.7406</td>\n",
       "      <td>0.121337</td>\n",
       "    </tr>\n",
       "  </tbody>\n",
       "</table>\n",
       "</div>"
      ],
      "text/plain": [
       "     channel   TV  NoTV  unique      %U       %TV\n",
       "0  affiliate  421  3476    1297  0.2594  0.121116\n",
       "1        cpc  191  1467    5000  1.0000  0.130198\n",
       "2    organic   59   460       0  0.0000  0.128261\n",
       "3     social  323  2662    3703  0.7406  0.121337"
      ]
     },
     "execution_count": 12,
     "metadata": {},
     "output_type": "execute_result"
    }
   ],
   "source": [
    "# Add column for share of channels that are associated with TV campaign \n",
    "df['%TV'] = df['TV'] / df['NoTV'] \n",
    "df"
   ]
  },
  {
   "cell_type": "code",
   "execution_count": 13,
   "metadata": {},
   "outputs": [
    {
     "data": {
      "image/png": "[encoded data removed]",
      "text/plain": [
       "<matplotlib.figure.Figure at 0x10ff6dbe0>"
      ]
     },
     "metadata": {},
     "output_type": "display_data"
    }
   ],
   "source": [
    "# Add column for channel total\n",
    "df['chncnt'] = df['TV'] + df['NoTV'] \n",
    "\n",
    "# Plot channel counts\n",
    "objects = df['channel']\n",
    "y_pos = np.arange(len(objects))\n",
    "performance = df['chncnt']\n",
    " \n",
    "plt.bar(y_pos, performance, align='center', alpha=0.5)\n",
    "plt.xticks(y_pos, objects)\n",
    "plt.ylabel('Acquisition Counts by Channel')\n",
    " \n",
    "plt.show()"
   ]
  },
  {
   "cell_type": "markdown",
   "metadata": {},
   "source": [
    "### 3) Is there a lag/residual effect or do we see changes over time?\n",
    "\n",
    "To answer this question, I reorganized my data as time-series data (y = acquisitions per diem). As shown in figure from df3, there is an increase in acquisitions overall on days that tv campaigns were made. Because there doesn't appear to be any lag-effect, it seems that tv campaigns are more the last push for people to sign up. I could do further analysis to compare average changes over adjusted periods of time, but at this point, we do not know the counterfactual (i.e would these users have signed up if there was no tv campaign?)."
   ]
  },
  {
   "cell_type": "code",
   "execution_count": 14,
   "metadata": {},
   "outputs": [
    {
     "data": {
      "text/html": [
       "<div>\n",
       "<style scoped>\n",
       "    .dataframe tbody tr th:only-of-type {\n",
       "        vertical-align: middle;\n",
       "    }\n",
       "\n",
       "    .dataframe tbody tr th {\n",
       "        vertical-align: top;\n",
       "    }\n",
       "\n",
       "    .dataframe thead th {\n",
       "        text-align: right;\n",
       "    }\n",
       "</style>\n",
       "<table border=\"1\" class=\"dataframe\">\n",
       "  <thead>\n",
       "    <tr style=\"text-align: right;\">\n",
       "      <th></th>\n",
       "      <th>signup_date</th>\n",
       "      <th>tv</th>\n",
       "      <th>total</th>\n",
       "    </tr>\n",
       "  </thead>\n",
       "  <tbody>\n",
       "    <tr>\n",
       "      <th>0</th>\n",
       "      <td>2017-01-01</td>\n",
       "      <td>1</td>\n",
       "      <td>67</td>\n",
       "    </tr>\n",
       "    <tr>\n",
       "      <th>1</th>\n",
       "      <td>2017-01-02</td>\n",
       "      <td>0</td>\n",
       "      <td>56</td>\n",
       "    </tr>\n",
       "    <tr>\n",
       "      <th>2</th>\n",
       "      <td>2017-01-03</td>\n",
       "      <td>0</td>\n",
       "      <td>47</td>\n",
       "    </tr>\n",
       "    <tr>\n",
       "      <th>3</th>\n",
       "      <td>2017-01-04</td>\n",
       "      <td>0</td>\n",
       "      <td>54</td>\n",
       "    </tr>\n",
       "    <tr>\n",
       "      <th>4</th>\n",
       "      <td>2017-01-05</td>\n",
       "      <td>0</td>\n",
       "      <td>50</td>\n",
       "    </tr>\n",
       "  </tbody>\n",
       "</table>\n",
       "</div>"
      ],
      "text/plain": [
       "  signup_date  tv  total\n",
       "0  2017-01-01   1     67\n",
       "1  2017-01-02   0     56\n",
       "2  2017-01-03   0     47\n",
       "3  2017-01-04   0     54\n",
       "4  2017-01-05   0     50"
      ]
     },
     "execution_count": 14,
     "metadata": {},
     "output_type": "execute_result"
    }
   ],
   "source": [
    "# Count user acquisition by date  \n",
    "df3 = df1.groupby(['signup_date', 'tv']).size().reset_index(name='total')\n",
    "df3.head()"
   ]
  },
  {
   "cell_type": "code",
   "execution_count": 15,
   "metadata": {
    "scrolled": true
   },
   "outputs": [
    {
     "data": {
      "image/png": "[encoded data removed]",
      "text/plain": [
       "<matplotlib.figure.Figure at 0x10a4a6390>"
      ]
     },
     "metadata": {},
     "output_type": "display_data"
    }
   ],
   "source": [
    "# Plot total user acquisition beside tv campaigns\n",
    "df3.plot(figsize=(18, 6))\n",
    "plt.show()"
   ]
  },
  {
   "cell_type": "markdown",
   "metadata": {},
   "source": [
    "### 4) To what extent do the channels correlate user acquisitions?\n",
    "\n",
    "To answer this question, I similarly reorganized my covariate data (x = total acquisitions by channel per diem). As shown in figure from df4, all of the channels are relatively distributed. `Oganic` and `CPC` channels have the greatest spread and least correlation with the other channels. In contrast, there is a positive relationship between `affiliate`and `social`, which suggests correlation data points (i.e. multichannel touchpoint). This is further supported by looking at the % of `unique` acquisitions."
   ]
  },
  {
   "cell_type": "code",
   "execution_count": 16,
   "metadata": {},
   "outputs": [
    {
     "data": {
      "text/html": [
       "<div>\n",
       "<style scoped>\n",
       "    .dataframe tbody tr th:only-of-type {\n",
       "        vertical-align: middle;\n",
       "    }\n",
       "\n",
       "    .dataframe tbody tr th {\n",
       "        vertical-align: top;\n",
       "    }\n",
       "\n",
       "    .dataframe thead th {\n",
       "        text-align: right;\n",
       "    }\n",
       "</style>\n",
       "<table border=\"1\" class=\"dataframe\">\n",
       "  <thead>\n",
       "    <tr style=\"text-align: right;\">\n",
       "      <th></th>\n",
       "      <th>signup_date</th>\n",
       "      <th>cpc</th>\n",
       "      <th>organic</th>\n",
       "      <th>affiliate</th>\n",
       "      <th>social</th>\n",
       "    </tr>\n",
       "  </thead>\n",
       "  <tbody>\n",
       "    <tr>\n",
       "      <th>0</th>\n",
       "      <td>2017-01-01</td>\n",
       "      <td>24</td>\n",
       "      <td>10</td>\n",
       "      <td>45</td>\n",
       "      <td>36</td>\n",
       "    </tr>\n",
       "    <tr>\n",
       "      <th>1</th>\n",
       "      <td>2017-01-02</td>\n",
       "      <td>17</td>\n",
       "      <td>3</td>\n",
       "      <td>46</td>\n",
       "      <td>31</td>\n",
       "    </tr>\n",
       "    <tr>\n",
       "      <th>2</th>\n",
       "      <td>2017-01-03</td>\n",
       "      <td>11</td>\n",
       "      <td>6</td>\n",
       "      <td>37</td>\n",
       "      <td>26</td>\n",
       "    </tr>\n",
       "    <tr>\n",
       "      <th>3</th>\n",
       "      <td>2017-01-04</td>\n",
       "      <td>20</td>\n",
       "      <td>5</td>\n",
       "      <td>39</td>\n",
       "      <td>33</td>\n",
       "    </tr>\n",
       "    <tr>\n",
       "      <th>4</th>\n",
       "      <td>2017-01-05</td>\n",
       "      <td>14</td>\n",
       "      <td>6</td>\n",
       "      <td>36</td>\n",
       "      <td>30</td>\n",
       "    </tr>\n",
       "  </tbody>\n",
       "</table>\n",
       "</div>"
      ],
      "text/plain": [
       "  signup_date  cpc  organic  affiliate  social\n",
       "0  2017-01-01   24       10         45      36\n",
       "1  2017-01-02   17        3         46      31\n",
       "2  2017-01-03   11        6         37      26\n",
       "3  2017-01-04   20        5         39      33\n",
       "4  2017-01-05   14        6         36      30"
      ]
     },
     "execution_count": 16,
     "metadata": {},
     "output_type": "execute_result"
    }
   ],
   "source": [
    "# Count user acquisition by date and channels\n",
    "df4 = df1.groupby(['signup_date'])['cpc','organic','affiliate','social'].sum()\n",
    "df4 = df4.reset_index()\n",
    "df4.head()"
   ]
  },
  {
   "cell_type": "code",
   "execution_count": 17,
   "metadata": {},
   "outputs": [
    {
     "data": {
      "image/png": "[encoded data removed]",
      "text/plain": [
       "<matplotlib.figure.Figure at 0x1116eb358>"
      ]
     },
     "metadata": {},
     "output_type": "display_data"
    }
   ],
   "source": [
    "# Produce a scatter matrix for each pair of features in the data\n",
    "pd.plotting.scatter_matrix(df4, alpha = 0.3, figsize = (14,8), diagonal = 'kde');"
   ]
  },
  {
   "cell_type": "code",
   "execution_count": 18,
   "metadata": {},
   "outputs": [
    {
     "data": {
      "text/html": [
       "<div>\n",
       "<style scoped>\n",
       "    .dataframe tbody tr th:only-of-type {\n",
       "        vertical-align: middle;\n",
       "    }\n",
       "\n",
       "    .dataframe tbody tr th {\n",
       "        vertical-align: top;\n",
       "    }\n",
       "\n",
       "    .dataframe thead th {\n",
       "        text-align: right;\n",
       "    }\n",
       "</style>\n",
       "<table border=\"1\" class=\"dataframe\">\n",
       "  <thead>\n",
       "    <tr style=\"text-align: right;\">\n",
       "      <th></th>\n",
       "      <th>signup_date</th>\n",
       "      <th>tv</th>\n",
       "      <th>total</th>\n",
       "      <th>cpc</th>\n",
       "      <th>organic</th>\n",
       "      <th>affiliate</th>\n",
       "      <th>social</th>\n",
       "    </tr>\n",
       "  </thead>\n",
       "  <tbody>\n",
       "    <tr>\n",
       "      <th>0</th>\n",
       "      <td>2017-01-01</td>\n",
       "      <td>1</td>\n",
       "      <td>67</td>\n",
       "      <td>24</td>\n",
       "      <td>10</td>\n",
       "      <td>45</td>\n",
       "      <td>36</td>\n",
       "    </tr>\n",
       "    <tr>\n",
       "      <th>1</th>\n",
       "      <td>2017-01-02</td>\n",
       "      <td>0</td>\n",
       "      <td>56</td>\n",
       "      <td>17</td>\n",
       "      <td>3</td>\n",
       "      <td>46</td>\n",
       "      <td>31</td>\n",
       "    </tr>\n",
       "    <tr>\n",
       "      <th>2</th>\n",
       "      <td>2017-01-03</td>\n",
       "      <td>0</td>\n",
       "      <td>47</td>\n",
       "      <td>11</td>\n",
       "      <td>6</td>\n",
       "      <td>37</td>\n",
       "      <td>26</td>\n",
       "    </tr>\n",
       "    <tr>\n",
       "      <th>3</th>\n",
       "      <td>2017-01-04</td>\n",
       "      <td>0</td>\n",
       "      <td>54</td>\n",
       "      <td>20</td>\n",
       "      <td>5</td>\n",
       "      <td>39</td>\n",
       "      <td>33</td>\n",
       "    </tr>\n",
       "    <tr>\n",
       "      <th>4</th>\n",
       "      <td>2017-01-05</td>\n",
       "      <td>0</td>\n",
       "      <td>50</td>\n",
       "      <td>14</td>\n",
       "      <td>6</td>\n",
       "      <td>36</td>\n",
       "      <td>30</td>\n",
       "    </tr>\n",
       "  </tbody>\n",
       "</table>\n",
       "</div>"
      ],
      "text/plain": [
       "  signup_date  tv  total  cpc  organic  affiliate  social\n",
       "0  2017-01-01   1     67   24       10         45      36\n",
       "1  2017-01-02   0     56   17        3         46      31\n",
       "2  2017-01-03   0     47   11        6         37      26\n",
       "3  2017-01-04   0     54   20        5         39      33\n",
       "4  2017-01-05   0     50   14        6         36      30"
      ]
     },
     "execution_count": 18,
     "metadata": {},
     "output_type": "execute_result"
    }
   ],
   "source": [
    "df5 = pd.merge(df3, df4,  how='left', on='signup_date')\n",
    "df5.head()"
   ]
  },
  {
   "cell_type": "code",
   "execution_count": 19,
   "metadata": {},
   "outputs": [
    {
     "data": {
      "text/html": [
       "<div>\n",
       "<style scoped>\n",
       "    .dataframe tbody tr th:only-of-type {\n",
       "        vertical-align: middle;\n",
       "    }\n",
       "\n",
       "    .dataframe tbody tr th {\n",
       "        vertical-align: top;\n",
       "    }\n",
       "\n",
       "    .dataframe thead th {\n",
       "        text-align: right;\n",
       "    }\n",
       "</style>\n",
       "<table border=\"1\" class=\"dataframe\">\n",
       "  <thead>\n",
       "    <tr style=\"text-align: right;\">\n",
       "      <th></th>\n",
       "      <th>signup_date</th>\n",
       "      <th>tv</th>\n",
       "      <th>total</th>\n",
       "      <th>cpc</th>\n",
       "      <th>organic</th>\n",
       "      <th>affiliate</th>\n",
       "      <th>social</th>\n",
       "    </tr>\n",
       "  </thead>\n",
       "  <tbody>\n",
       "    <tr>\n",
       "      <th>0</th>\n",
       "      <td>2017-01-01</td>\n",
       "      <td>1</td>\n",
       "      <td>67</td>\n",
       "      <td>24</td>\n",
       "      <td>10</td>\n",
       "      <td>45</td>\n",
       "      <td>36</td>\n",
       "    </tr>\n",
       "    <tr>\n",
       "      <th>1</th>\n",
       "      <td>2017-01-02</td>\n",
       "      <td>0</td>\n",
       "      <td>56</td>\n",
       "      <td>17</td>\n",
       "      <td>3</td>\n",
       "      <td>46</td>\n",
       "      <td>31</td>\n",
       "    </tr>\n",
       "    <tr>\n",
       "      <th>2</th>\n",
       "      <td>2017-01-03</td>\n",
       "      <td>0</td>\n",
       "      <td>47</td>\n",
       "      <td>11</td>\n",
       "      <td>6</td>\n",
       "      <td>37</td>\n",
       "      <td>26</td>\n",
       "    </tr>\n",
       "    <tr>\n",
       "      <th>3</th>\n",
       "      <td>2017-01-04</td>\n",
       "      <td>0</td>\n",
       "      <td>54</td>\n",
       "      <td>20</td>\n",
       "      <td>5</td>\n",
       "      <td>39</td>\n",
       "      <td>33</td>\n",
       "    </tr>\n",
       "    <tr>\n",
       "      <th>4</th>\n",
       "      <td>2017-01-05</td>\n",
       "      <td>0</td>\n",
       "      <td>50</td>\n",
       "      <td>14</td>\n",
       "      <td>6</td>\n",
       "      <td>36</td>\n",
       "      <td>30</td>\n",
       "    </tr>\n",
       "  </tbody>\n",
       "</table>\n",
       "</div>"
      ],
      "text/plain": [
       "  signup_date  tv  total  cpc  organic  affiliate  social\n",
       "0  2017-01-01   1     67   24       10         45      36\n",
       "1  2017-01-02   0     56   17        3         46      31\n",
       "2  2017-01-03   0     47   11        6         37      26\n",
       "3  2017-01-04   0     54   20        5         39      33\n",
       "4  2017-01-05   0     50   14        6         36      30"
      ]
     },
     "execution_count": 19,
     "metadata": {},
     "output_type": "execute_result"
    }
   ],
   "source": [
    "df5.head()"
   ]
  },
  {
   "cell_type": "markdown",
   "metadata": {},
   "source": [
    "## Prediction\n",
    "\n",
    "### Task 2. Estimate the impact of doubling TV spending\n",
    "\n",
    "After merging dataframes by acquisition dates, we can estimate the average difference in user acquisition on dates aired or not in order to isolate the impact of tv campaigns. This is done using a simple linear regression, where y = `total` acquisitions and x according to user aquisition date (df3). \n",
    "\n",
    "On the one hand, this is a straight forward model, but it calculates a naive, black-box estimate, where the effect represents not only the independent tv effect, but also any confounding effects from the channel access points. Alternatively, a multivariate regression would show how much of the effect from M1 is explained by the channels (see further steps).\n",
    "\n",
    "Once I have calculated the slope (m = 15 users per diem), I can calculate the predicted y on days tv campaigns were run or not (y-intercept = 53). This suggests that 120 of the 5000 acquisitions (i.e. 15 users per diem for 8 tv campaigns) were attributed to tv campaigns (2% increase). If tv campaigns were doubled (i.e. 16 tv campaigns), this would hypothetically increase user acquisition by an additional 2%, estimating a total of 5120 user acquisitions instead of 5000.\n",
    "\n",
    "However, this model is based on linear assumptions. Therefore, I have to ask: \n",
    "* How constant are my assumptions in reality (i.e. are there are season or annual changes that might influence the predicted return over time?) \n",
    "* How complete is this information (i.e. does it include information from all devices or log-ins) or is there concern for omitted variable bias or confounding variables?"
   ]
  },
  {
   "cell_type": "code",
   "execution_count": 20,
   "metadata": {},
   "outputs": [
    {
     "name": "stdout",
     "output_type": "stream",
     "text": [
      "Model slope: 15.1355421686747\n",
      "Model intercept: 53.614457831325296\n",
      "Model R2 score: 0.29856128709671115\n"
     ]
    }
   ],
   "source": [
    "# Fit linear regression model\n",
    "y = np.array(df3['total'])\n",
    "X = np.array(df3.drop(['total','signup_date'], axis=1, inplace=False))\n",
    "\n",
    "model = LinearRegression(fit_intercept=True)\n",
    "model.fit(X, y)\n",
    "\n",
    "print(\"Model slope:\", model.coef_[0])\n",
    "print(\"Model intercept:\", model.intercept_)\n",
    "print(\"Model R2 score:\", model.score(X,y))"
   ]
  },
  {
   "cell_type": "code",
   "execution_count": 21,
   "metadata": {},
   "outputs": [
    {
     "data": {
      "text/plain": [
       "array([53.61445783, 53.92334645, 54.23223506, 54.54112368, 54.85001229,\n",
       "       55.15890091, 55.46778953, 55.77667814, 56.08556676, 56.39445537,\n",
       "       56.70334399, 57.0122326 , 57.32112122, 57.63000984, 57.93889845,\n",
       "       58.24778707, 58.55667568, 58.8655643 , 59.17445291, 59.48334153,\n",
       "       59.79223015, 60.10111876, 60.41000738, 60.71889599, 61.02778461,\n",
       "       61.33667322, 61.64556184, 61.95445045, 62.26333907, 62.57222769,\n",
       "       62.8811163 , 63.19000492, 63.49889353, 63.80778215, 64.11667076,\n",
       "       64.42555938, 64.734448  , 65.04333661, 65.35222523, 65.66111384,\n",
       "       65.97000246, 66.27889107, 66.58777969, 66.89666831, 67.20555692,\n",
       "       67.51444554, 67.82333415, 68.13222277, 68.44111138, 68.75      ])"
      ]
     },
     "execution_count": 21,
     "metadata": {},
     "output_type": "execute_result"
    }
   ],
   "source": [
    "# Predict y\n",
    "xfit = np.linspace(0,1)\n",
    "yfit = model.predict(xfit[:, np.newaxis])\n",
    "yfit"
   ]
  },
  {
   "cell_type": "code",
   "execution_count": 22,
   "metadata": {},
   "outputs": [
    {
     "data": {
      "image/png": "[encoded data removed]",
      "text/plain": [
       "<matplotlib.figure.Figure at 0x1115d4da0>"
      ]
     },
     "metadata": {},
     "output_type": "display_data"
    }
   ],
   "source": [
    "# Plot regression values\n",
    "plt.scatter(X, y)\n",
    "plt.plot(xfit,yfit)\n",
    "plt.show()"
   ]
  },
  {
   "cell_type": "markdown",
   "metadata": {},
   "source": [
    "### Task 3. Make assumptions for the channel touchpoint cost and give recommendations how to change the budget allocation to maximize user acquisition with a constant budget\n",
    "\n",
    "See presentation\n",
    "\n",
    "### Next Steps\n",
    "* change figure df3 x-axis to dates to show period changes (ie compare seasonal or annual trends)\n",
    "* add lines for channels to compare spikes across channels\n",
    "* compare average acquisition 5 day +/- tv campaigns\n",
    "* use demographic information for segmentation profiles using supervised classification\n",
    "* M2 - multivariate model with channel covariates OR separate models for each channel if (n>25)\n",
    "* include a graph of regression fitted over data plot with confidence intervals\n",
    "* M3 - multivariate model with interaction effect between tv campaign and channels\n",
    "* M4 - time series model\n",
    "* Use predictive analysis to optimize budget allocation (with weights for unique acquisitions)"
   ]
  },
  {
   "cell_type": "code",
   "execution_count": null,
   "metadata": {},
   "outputs": [],
   "source": []
  }
 ],
 "metadata": {
  "kernelspec": {
   "display_name": "Python 3",
   "language": "python",
   "name": "python3"
  },
  "language_info": {
   "codemirror_mode": {
    "name": "ipython",
    "version": 3
   },
   "file_extension": ".py",
   "mimetype": "text/x-python",
   "name": "python",
   "nbconvert_exporter": "python",
   "pygments_lexer": "ipython3",
   "version": "3.6.4"
  }
 },
 "nbformat": 4,
 "nbformat_minor": 2
}
