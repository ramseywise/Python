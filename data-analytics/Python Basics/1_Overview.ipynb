{
 "cells": [
  {
   "cell_type": "markdown",
   "id": "dd32427f",
   "metadata": {},
   "source": [
    "# 1    | Introduction to Python\n",
    "\n",
    "    - Basic Operations: \n",
    "        - variables, expressions\n",
    "        - libraries (math, random)\n",
    "        - functions, conditional statements, iteration, list comprehension\n",
    "    - Data Structures: \n",
    "        - Read and write text files from local env and url\n",
    "        - Array (see numpy)  \n",
    "        - Dataframe (see pandas)\n",
    "    - Data Types: lists, tuples, dictionaries, strings\n",
    "    \n",
    "*Resources*: \n",
    "- **Coursera Python for Informatics** (University of Michigan)\n",
    "- **Python for Data Analytics** - Mckinney (O'Reilly)"
   ]
  },
  {
   "cell_type": "markdown",
   "id": "52655fcd",
   "metadata": {},
   "source": [
    "## Basic Operations\n",
    "### Expressions"
   ]
  },
  {
   "cell_type": "code",
   "execution_count": 61,
   "id": "2fff3a9e",
   "metadata": {},
   "outputs": [
    {
     "name": "stdout",
     "output_type": "stream",
     "text": [
      "Hello world!\n"
     ]
    }
   ],
   "source": [
    "# assigning variable\n",
    "string = \"Hello world!\"\n",
    "print(string)"
   ]
  },
  {
   "cell_type": "code",
   "execution_count": 2,
   "id": "c0a86e76",
   "metadata": {},
   "outputs": [
    {
     "name": "stdout",
     "output_type": "stream",
     "text": [
      "type:  <class 'int'> answer:  4\n"
     ]
    }
   ],
   "source": [
    "# basic expression with integers\n",
    "var=2\n",
    "print('type: ', type(var),'answer: ', var+2)"
   ]
  },
  {
   "cell_type": "markdown",
   "id": "da9a8786",
   "metadata": {},
   "source": [
    "### Libraries"
   ]
  },
  {
   "cell_type": "code",
   "execution_count": 3,
   "id": "385ef634",
   "metadata": {},
   "outputs": [
    {
     "name": "stdout",
     "output_type": "stream",
     "text": [
      "random:  0.42885509465825344\n",
      "randint:  1\n",
      "choice:  d\n"
     ]
    }
   ],
   "source": [
    "# random library\n",
    "import random\n",
    "for i in range(10):\n",
    "    x = random.random() \n",
    "print('random: ',x)\n",
    "\n",
    "# also with random.randint\n",
    "print('randint: ',random.randint(1,10))\n",
    "\n",
    "# or choice using strings in a list\n",
    "t=['a','b','c','d'] \n",
    "print('choice: ',random.choice(t))"
   ]
  },
  {
   "cell_type": "code",
   "execution_count": 4,
   "id": "783efb7f",
   "metadata": {},
   "outputs": [
    {
     "name": "stdout",
     "output_type": "stream",
     "text": [
      "log 2.0\n",
      "pi 3.141592653589793\n",
      "sqrt 0.7071067811865476\n",
      "trig 0.28366218546322625\n"
     ]
    }
   ],
   "source": [
    "# math library\n",
    "import math\n",
    "print('log',math.log10(100))\n",
    "print('pi', math.pi)\n",
    "print('sqrt', math.sqrt(2)/2)\n",
    "print('trig', math.cos(5))"
   ]
  },
  {
   "cell_type": "markdown",
   "id": "a08b1f31",
   "metadata": {},
   "source": [
    "### Condition and Iteration"
   ]
  },
  {
   "cell_type": "code",
   "execution_count": 7,
   "id": "73d1d8b2",
   "metadata": {},
   "outputs": [
    {
     "name": "stdout",
     "output_type": "stream",
     "text": [
      "x is odd\n"
     ]
    }
   ],
   "source": [
    "# if-else conditional statement\n",
    "x=5\n",
    "if x%2==0:\n",
    "    print(\"x is even\")\n",
    "else:\n",
    "    print(\"x is odd\")"
   ]
  },
  {
   "cell_type": "code",
   "execution_count": 8,
   "id": "94c59080",
   "metadata": {},
   "outputs": [
    {
     "name": "stdout",
     "output_type": "stream",
     "text": [
      "5\n",
      "4\n",
      "3\n",
      "2\n",
      "1\n",
      "Blastoff!\n"
     ]
    }
   ],
   "source": [
    "# iteration updates a variable so that the new value depends on the old \n",
    "n=5 \n",
    "while n>0:\n",
    "    print(n)\n",
    "    n=n-1\n",
    "print(\"Blastoff!\")"
   ]
  },
  {
   "cell_type": "code",
   "execution_count": 9,
   "id": "461c685a",
   "metadata": {},
   "outputs": [
    {
     "name": "stdout",
     "output_type": "stream",
     "text": [
      "Happy New Year: Joseph\n",
      "Happy New Year: Glenn\n",
      "Happy New Year: Sally\n"
     ]
    }
   ],
   "source": [
    "# iterate strings as part of a list\n",
    "friends = ['Joseph', 'Glenn', 'Sally'] \n",
    "for friend in friends:\n",
    "    print(\"Happy New Year:\", friend) \n"
   ]
  },
  {
   "cell_type": "code",
   "execution_count": 10,
   "id": "58370cb4",
   "metadata": {},
   "outputs": [
    {
     "name": "stdout",
     "output_type": "stream",
     "text": [
      "Count:  6\n"
     ]
    }
   ],
   "source": [
    "# to calculate count in sequence\n",
    "count = 0\n",
    "for itervar in [3, 41, 12, 9, 74, 15]:\n",
    "    count = count + 1 \n",
    "print(\"Count: \", count)"
   ]
  },
  {
   "cell_type": "code",
   "execution_count": 11,
   "id": "614cff99",
   "metadata": {},
   "outputs": [
    {
     "name": "stdout",
     "output_type": "stream",
     "text": [
      "Total:  154\n"
     ]
    }
   ],
   "source": [
    "#Calculate sum with total\n",
    "total=0\n",
    "for itervar in [3, 41, 12, 9, 74, 15]:\n",
    "    total = total + itervar \n",
    "print(\"Total: \", total)"
   ]
  },
  {
   "cell_type": "code",
   "execution_count": 12,
   "id": "6ab2d032",
   "metadata": {},
   "outputs": [
    {
     "name": "stdout",
     "output_type": "stream",
     "text": [
      "Before: None\n",
      "Loop: 3 3\n",
      "Loop: 41 41\n",
      "Loop: 12 41\n",
      "Loop: 9 41\n",
      "Loop: 74 74\n",
      "Loop: 15 74\n",
      "Largest: 74\n"
     ]
    }
   ],
   "source": [
    "#Identify the largest number in a sequence\n",
    "largest = None\n",
    "print(\"Before:\", largest)\n",
    "for itervar in [3, 41, 12, 9, 74, 15]:\n",
    "    if largest is None or itervar > largest : \n",
    "        largest = itervar\n",
    "    print(\"Loop:\", itervar, largest)\n",
    "print(\"Largest:\", largest)"
   ]
  },
  {
   "cell_type": "code",
   "execution_count": 6,
   "id": "7df7f77d",
   "metadata": {},
   "outputs": [
    {
     "name": "stdout",
     "output_type": "stream",
     "text": [
      "1 4 9 16 25 36 49 64 81 100 "
     ]
    }
   ],
   "source": [
    "# generator expressions\n",
    "def squares(n=10):\n",
    "    for i in range(1, n + 1):\n",
    "        yield i ** 2\n",
    "        \n",
    "gen = squares()\n",
    "for x in gen:\n",
    "    print(x, end=' ')"
   ]
  },
  {
   "cell_type": "code",
   "execution_count": 14,
   "id": "88146c04",
   "metadata": {
    "collapsed": false,
    "editable": true,
    "jupyter": {
     "outputs_hidden": false
    }
   },
   "outputs": [
    {
     "name": "stdout",
     "output_type": "stream",
     "text": [
      "1.0\n",
      "Error\n"
     ]
    }
   ],
   "source": [
    "# errors and exception handling\n",
    "def attempt_float(x):\n",
    "    try:\n",
    "        return float(x)\n",
    "    except ValueError:\n",
    "        return \"Error\"\n",
    "\n",
    "print(attempt_float(1))\n",
    "print(attempt_float('something'))"
   ]
  },
  {
   "cell_type": "markdown",
   "id": "e8f45bfe",
   "metadata": {},
   "source": [
    "## Data Types\n",
    "### Strings"
   ]
  },
  {
   "cell_type": "code",
   "execution_count": 1,
   "id": "f5438c64",
   "metadata": {},
   "outputs": [
    {
     "name": "stdout",
     "output_type": "stream",
     "text": [
      "b\n",
      "a\n",
      "n\n",
      "a\n",
      "n\n",
      "a\n"
     ]
    }
   ],
   "source": [
    "# identify characters in a sequence\n",
    "fruit = 'banana' \n",
    "for char in fruit:\n",
    "    print(char)"
   ]
  },
  {
   "cell_type": "code",
   "execution_count": 2,
   "id": "25f09c5f",
   "metadata": {},
   "outputs": [
    {
     "name": "stdout",
     "output_type": "stream",
     "text": [
      "a\n"
     ]
    }
   ],
   "source": [
    "#use len function to identify last item in sequence\n",
    "length=len(fruit)\n",
    "last=fruit[length-1]\n",
    "print(last)"
   ]
  },
  {
   "cell_type": "code",
   "execution_count": 3,
   "id": "f9a198f5",
   "metadata": {},
   "outputs": [
    {
     "name": "stdout",
     "output_type": "stream",
     "text": [
      "ban\n",
      "ana\n",
      "banana\n"
     ]
    }
   ],
   "source": [
    "#specify item from left or right with the first character as [0]    \n",
    "print(fruit[:3])\n",
    "print(fruit[3:])\n",
    "print(fruit[:])"
   ]
  },
  {
   "cell_type": "code",
   "execution_count": 4,
   "id": "d8586a0e",
   "metadata": {},
   "outputs": [
    {
     "name": "stdout",
     "output_type": "stream",
     "text": [
      "3\n"
     ]
    }
   ],
   "source": [
    "#Use a loop to count items in sequence\n",
    "count = 0\n",
    "for letter in fruit:\n",
    "    if letter == 'a': \n",
    "        count = count + 1\n",
    "print(count)"
   ]
  },
  {
   "cell_type": "code",
   "execution_count": 5,
   "id": "6a9b4514",
   "metadata": {},
   "outputs": [
    {
     "name": "stdout",
     "output_type": "stream",
     "text": [
      "BANANA\n"
     ]
    }
   ],
   "source": [
    "#change to uppercase\n",
    "\"a\" in fruit\n",
    "\"seed\" in fruit\n",
    "FRUIT=fruit.upper()\n",
    "print(FRUIT)"
   ]
  },
  {
   "cell_type": "code",
   "execution_count": 6,
   "id": "dbba03e5",
   "metadata": {},
   "outputs": [
    {
     "data": {
      "text/plain": [
       "2"
      ]
     },
     "execution_count": 6,
     "metadata": {},
     "output_type": "execute_result"
    }
   ],
   "source": [
    "#use find to find characters in a string\n",
    "fruit.find(\"na\")"
   ]
  },
  {
   "cell_type": "code",
   "execution_count": 7,
   "id": "8f8ad7d9",
   "metadata": {},
   "outputs": [
    {
     "data": {
      "text/plain": [
       "'Here we go!'"
      ]
     },
     "execution_count": 7,
     "metadata": {},
     "output_type": "execute_result"
    }
   ],
   "source": [
    "#strip spaces from text between quotations\n",
    "line=\" Here we go! \"\n",
    "line.strip()"
   ]
  },
  {
   "cell_type": "code",
   "execution_count": 10,
   "id": "8a3ef57c",
   "metadata": {},
   "outputs": [
    {
     "name": "stdout",
     "output_type": "stream",
     "text": [
      "line starts with Please:  True\n",
      "line starts with p:  False\n"
     ]
    }
   ],
   "source": [
    "#write conditional statements about text\n",
    "line = 'Please have a nice day' \n",
    "print('line starts with Please: ', line.startswith('Please'))\n",
    "print('line starts with p: ', line.startswith('p'))"
   ]
  },
  {
   "cell_type": "code",
   "execution_count": 11,
   "id": "4488042c",
   "metadata": {},
   "outputs": [
    {
     "name": "stdout",
     "output_type": "stream",
     "text": [
      "X\n",
      "Y\n"
     ]
    }
   ],
   "source": [
    "#use \\n to return output lines\n",
    "nextline = 'X\\nY' \n",
    "print(nextline)"
   ]
  },
  {
   "cell_type": "code",
   "execution_count": 13,
   "id": "fba4845d",
   "metadata": {},
   "outputs": [
    {
     "data": {
      "text/plain": [
       "'In 3 years I have spotted 0.1 camels.'"
      ]
     },
     "execution_count": 13,
     "metadata": {},
     "output_type": "execute_result"
    }
   ],
   "source": [
    "#format operator constructs strings and replaces parts stored in variables\n",
    "camels=42\n",
    "\"%d\"%camels\n",
    "\"I saw %d camels.\"%camels\n",
    "'In %d years I have spotted %g %s.' % (3, 0.1, 'camels') "
   ]
  },
  {
   "cell_type": "markdown",
   "id": "7cf7e397",
   "metadata": {},
   "source": [
    "### Lists"
   ]
  },
  {
   "cell_type": "code",
   "execution_count": 18,
   "id": "d948845a",
   "metadata": {},
   "outputs": [
    {
     "name": "stdout",
     "output_type": "stream",
     "text": [
      "second element as string:  [17, 'five']\n",
      "second element as integer:  [17, 5]\n"
     ]
    }
   ],
   "source": [
    "#unlike strings, lists are mutable because you can change the order\n",
    "numbers=[17, \"five\"]\n",
    "print('second element as string: ',numbers)\n",
    "\n",
    "# reassign items to a list\n",
    "numbers[1]=5\n",
    "print('second element as integer: ',numbers)"
   ]
  },
  {
   "cell_type": "code",
   "execution_count": 19,
   "id": "32268cab",
   "metadata": {},
   "outputs": [
    {
     "name": "stdout",
     "output_type": "stream",
     "text": [
      "[5, 17]\n"
     ]
    }
   ],
   "source": [
    "#sorting\n",
    "numbers.sort()\n",
    "print(numbers)"
   ]
  },
  {
   "cell_type": "code",
   "execution_count": 21,
   "id": "8019e776",
   "metadata": {},
   "outputs": [
    {
     "name": "stdout",
     "output_type": "stream",
     "text": [
      "max:  17\n",
      "min:  5\n",
      "sum:  22\n"
     ]
    }
   ],
   "source": [
    "#other functions with lists\n",
    "print('max: ',max(numbers))\n",
    "print('min: ',min(numbers))\n",
    "print('sum: ',sum(numbers))"
   ]
  },
  {
   "cell_type": "code",
   "execution_count": 37,
   "id": "64186ee3",
   "metadata": {},
   "outputs": [
    {
     "name": "stdout",
     "output_type": "stream",
     "text": [
      "[1, 2, 3, 4, 5, 6]\n"
     ]
    }
   ],
   "source": [
    "#like strings, lists can also be concatenated\n",
    "a=[1,2,3]\n",
    "b=[4,5,6]\n",
    "c=a+b\n",
    "print(c)"
   ]
  },
  {
   "cell_type": "code",
   "execution_count": 39,
   "id": "fd5e46e7",
   "metadata": {},
   "outputs": [
    {
     "data": {
      "text/plain": [
       "[1, 2, 3, 4, 5, 6, 7, 8]"
      ]
     },
     "execution_count": 39,
     "metadata": {},
     "output_type": "execute_result"
    }
   ],
   "source": [
    "# concat with .extend\n",
    "c.extend([7, 8])\n",
    "c"
   ]
  },
  {
   "cell_type": "code",
   "execution_count": 23,
   "id": "b64eccff",
   "metadata": {},
   "outputs": [
    {
     "data": {
      "text/plain": [
       "[2, 3]"
      ]
     },
     "execution_count": 23,
     "metadata": {},
     "output_type": "execute_result"
    }
   ],
   "source": [
    "# slicing to show only specific items in the list\n",
    "#second parameter is \"up to but not including\" (remember starts at [0])\n",
    "c[1:3]"
   ]
  },
  {
   "cell_type": "code",
   "execution_count": 50,
   "id": "a4fc17f8",
   "metadata": {
    "collapsed": false,
    "editable": true,
    "jupyter": {
     "outputs_hidden": false
    }
   },
   "outputs": [
    {
     "data": {
      "text/plain": [
       "[1, 3, 5, 7]"
      ]
     },
     "execution_count": 50,
     "metadata": {},
     "output_type": "execute_result"
    }
   ],
   "source": [
    "# take only even numbers\n",
    "c[::2]"
   ]
  },
  {
   "cell_type": "code",
   "execution_count": 51,
   "id": "b142fcdc",
   "metadata": {
    "collapsed": false,
    "editable": true,
    "jupyter": {
     "outputs_hidden": false
    }
   },
   "outputs": [
    {
     "data": {
      "text/plain": [
       "[8, 7, 6, 5, 4, 3, 2, 1]"
      ]
     },
     "execution_count": 51,
     "metadata": {},
     "output_type": "execute_result"
    }
   ],
   "source": [
    "# reverse number order\n",
    "c[::-1]"
   ]
  },
  {
   "cell_type": "code",
   "execution_count": 32,
   "id": "c1cb7ae3",
   "metadata": {
    "collapsed": false,
    "editable": true,
    "jupyter": {
     "outputs_hidden": false
    }
   },
   "outputs": [
    {
     "data": {
      "text/plain": [
       "['book', 'red']"
      ]
     },
     "execution_count": 32,
     "metadata": {},
     "output_type": "execute_result"
    }
   ],
   "source": [
    "# pop returns up to n ordered items in list (left-right)\n",
    "stuff.pop(2)\n",
    "stuff"
   ]
  },
  {
   "cell_type": "code",
   "execution_count": 24,
   "id": "8726e253",
   "metadata": {},
   "outputs": [
    {
     "name": "stdout",
     "output_type": "stream",
     "text": [
      "[1, 3, 4, 5, 6]\n"
     ]
    }
   ],
   "source": [
    "# delete items in a list\n",
    "del c[1]\n",
    "print(c)"
   ]
  },
  {
   "cell_type": "code",
   "execution_count": 27,
   "id": "725f475e",
   "metadata": {},
   "outputs": [
    {
     "name": "stdout",
     "output_type": "stream",
     "text": [
      "[1]\n"
     ]
    }
   ],
   "source": [
    "#to remove more than one element, you can use del with a slice index\n",
    "del c[1:5]\n",
    "print(c)"
   ]
  },
  {
   "cell_type": "code",
   "execution_count": 25,
   "id": "9761a57d",
   "metadata": {},
   "outputs": [
    {
     "name": "stdout",
     "output_type": "stream",
     "text": [
      "[1, 3, 4, 5]\n"
     ]
    }
   ],
   "source": [
    "#if you know the element you want to remove (but not the index), you can use remove:\n",
    "c.remove(6)\n",
    "print(c)"
   ]
  },
  {
   "cell_type": "code",
   "execution_count": 28,
   "id": "0a99547a",
   "metadata": {},
   "outputs": [
    {
     "name": "stdout",
     "output_type": "stream",
     "text": [
      "['book', 'movie']\n"
     ]
    }
   ],
   "source": [
    "#appending items to end of list\n",
    "stuff=list() #empty list\n",
    "stuff.append(\"book\")\n",
    "stuff.append(\"movie\")\n",
    "print(stuff)"
   ]
  },
  {
   "cell_type": "code",
   "execution_count": 31,
   "id": "36459934",
   "metadata": {},
   "outputs": [
    {
     "data": {
      "text/plain": [
       "False"
      ]
     },
     "execution_count": 31,
     "metadata": {},
     "output_type": "execute_result"
    }
   ],
   "source": [
    "#or use conditional statements to identify if a variable in a list\n",
    "\"ipod\" in stuff"
   ]
  },
  {
   "cell_type": "code",
   "execution_count": 29,
   "id": "88ca765c",
   "metadata": {
    "collapsed": false,
    "editable": true,
    "jupyter": {
     "outputs_hidden": false
    }
   },
   "outputs": [
    {
     "data": {
      "text/plain": [
       "['book', 'red', 'movie']"
      ]
     },
     "execution_count": 29,
     "metadata": {},
     "output_type": "execute_result"
    }
   ],
   "source": [
    "# add to list in specific order\n",
    "stuff.insert(1, 'red')\n",
    "stuff"
   ]
  },
  {
   "cell_type": "code",
   "execution_count": 55,
   "id": "2561fa0e",
   "metadata": {},
   "outputs": [
    {
     "name": "stdout",
     "output_type": "stream",
     "text": [
      "with integers:  [0, 1, 2, 2, 3, 6, 7]\n",
      "with strings:  [' ', 'a', 'c', 'e', 'e', 'h', 'o', 'r', 'r', 's']\n"
     ]
    }
   ],
   "source": [
    "# sort ascending (sorted or .sort())\n",
    "print('with integers: ', sorted([7, 1, 2, 6, 0, 3, 2]))\n",
    "print('with strings: ', sorted('horse race'))"
   ]
  },
  {
   "cell_type": "code",
   "execution_count": 52,
   "id": "7fbcae37",
   "metadata": {
    "collapsed": false,
    "editable": true,
    "jupyter": {
     "outputs_hidden": false
    }
   },
   "outputs": [
    {
     "data": {
      "text/plain": [
       "[9, 8, 7, 6, 5, 4, 3, 2, 1, 0]"
      ]
     },
     "execution_count": 52,
     "metadata": {},
     "output_type": "execute_result"
    }
   ],
   "source": [
    "# sort descending\n",
    "list(reversed(range(10)))"
   ]
  },
  {
   "cell_type": "code",
   "execution_count": 57,
   "id": "94212931",
   "metadata": {
    "collapsed": false,
    "editable": true,
    "jupyter": {
     "outputs_hidden": false
    }
   },
   "outputs": [
    {
     "data": {
      "text/plain": [
       "['He', 'saw', 'six', 'small', 'foxes']"
      ]
     },
     "execution_count": 57,
     "metadata": {},
     "output_type": "execute_result"
    }
   ],
   "source": [
    "# sort items in list by lenth\n",
    "b = ['saw', 'small', 'He', 'foxes', 'six']\n",
    "b.sort(key=len)\n",
    "b"
   ]
  },
  {
   "cell_type": "code",
   "execution_count": 87,
   "id": "4e541bbc",
   "metadata": {},
   "outputs": [
    {
     "data": {
      "text/plain": [
       "{1, 2, 3, 4, 5, 6}"
      ]
     },
     "execution_count": 87,
     "metadata": {},
     "output_type": "execute_result"
    }
   ],
   "source": [
    "# lists concat but not with set == tuple\n",
    "l2 = [4, 4, 5, 6]\n",
    "\n",
    "set(l + l2)"
   ]
  },
  {
   "cell_type": "code",
   "execution_count": 17,
   "id": "96e17a71",
   "metadata": {},
   "outputs": [
    {
     "name": "stdout",
     "output_type": "stream",
     "text": [
      "loop:  [1, 4, 9, 16]\n",
      "list comprehension:  [1, 4, 9, 16]\n"
     ]
    }
   ],
   "source": [
    "# list comprehension\n",
    "x = [1, 2, 3, 4]\n",
    "\n",
    "squared = []\n",
    "for item in x:\n",
    "    squared.append(item**2)\n",
    "print('loop: ', squared)\n",
    "print('list comprehension: ', [item**2 for item in x])"
   ]
  },
  {
   "cell_type": "code",
   "execution_count": 106,
   "id": "445ff5f8",
   "metadata": {},
   "outputs": [
    {
     "data": {
      "text/plain": [
       "['BAT', 'CAR', 'DOVE', 'PYTHON']"
      ]
     },
     "execution_count": 106,
     "metadata": {},
     "output_type": "execute_result"
    }
   ],
   "source": [
    "# list comprehension to apply upper case to all strings in list\n",
    "strings = ['a', 'as', 'bat', 'car', 'dove', 'python']\n",
    "[x.upper() for x in strings if len(x) > 2]"
   ]
  },
  {
   "cell_type": "code",
   "execution_count": 107,
   "id": "888725ad",
   "metadata": {
    "collapsed": false,
    "editable": true,
    "jupyter": {
     "outputs_hidden": false
    }
   },
   "outputs": [
    {
     "data": {
      "text/plain": [
       "{1, 2, 3, 4, 6}"
      ]
     },
     "execution_count": 107,
     "metadata": {},
     "output_type": "execute_result"
    }
   ],
   "source": [
    "# get len for each element in list\n",
    "unique_lengths = {len(x) for x in strings}\n",
    "unique_lengths"
   ]
  },
  {
   "cell_type": "code",
   "execution_count": 108,
   "id": "7c6afaf6",
   "metadata": {
    "collapsed": false,
    "editable": true,
    "jupyter": {
     "outputs_hidden": false
    }
   },
   "outputs": [
    {
     "data": {
      "text/plain": [
       "{1, 2, 3, 4, 6}"
      ]
     },
     "execution_count": 108,
     "metadata": {},
     "output_type": "execute_result"
    }
   ],
   "source": [
    "# can also use map()\n",
    "set(map(len, strings))"
   ]
  },
  {
   "cell_type": "code",
   "execution_count": 109,
   "id": "bd04fe72",
   "metadata": {
    "collapsed": false,
    "editable": true,
    "jupyter": {
     "outputs_hidden": false
    }
   },
   "outputs": [
    {
     "data": {
      "text/plain": [
       "{'a': 0, 'as': 1, 'bat': 2, 'car': 3, 'dove': 4, 'python': 5}"
      ]
     },
     "execution_count": 109,
     "metadata": {},
     "output_type": "execute_result"
    }
   ],
   "source": [
    "# create dict with enumerated elements (ordered)\n",
    "loc_mapping = {val : index for index, val in enumerate(strings)}\n",
    "loc_mapping"
   ]
  },
  {
   "cell_type": "code",
   "execution_count": 110,
   "id": "61a2c33a",
   "metadata": {
    "collapsed": false,
    "editable": true,
    "jupyter": {
     "outputs_hidden": false
    }
   },
   "outputs": [
    {
     "data": {
      "text/plain": [
       "['Steven']"
      ]
     },
     "execution_count": 110,
     "metadata": {},
     "output_type": "execute_result"
    }
   ],
   "source": [
    "# nested list comprehension to locate element with 2 e's \n",
    "all_data = [['John', 'Emily', 'Michael', 'Mary', 'Steven'],\n",
    "            ['Maria', 'Juan', 'Javier', 'Natalia', 'Pilar']]\n",
    "\n",
    "result = [name for names in all_data for name in names\n",
    "          if name.count('e') >= 2]\n",
    "result"
   ]
  },
  {
   "cell_type": "code",
   "execution_count": 112,
   "id": "20f73b03",
   "metadata": {
    "collapsed": false,
    "editable": true,
    "jupyter": {
     "outputs_hidden": false
    }
   },
   "outputs": [
    {
     "data": {
      "text/plain": [
       "[1, 2, 2, 3, 4, 5, 6, 7, 8, 9]"
      ]
     },
     "execution_count": 112,
     "metadata": {},
     "output_type": "execute_result"
    }
   ],
   "source": [
    "# flatten nested list into single list\n",
    "some_tuples = [(1, 2, 2, 3), (4, 5, 6), (7, 8, 9)]\n",
    "flattened = [x for tup in some_tuples for x in tup]\n",
    "flattened"
   ]
  },
  {
   "cell_type": "markdown",
   "id": "bb3202ac",
   "metadata": {
    "editable": true,
    "jupyter": {
     "outputs_hidden": false
    }
   },
   "source": [
    "### Tuples"
   ]
  },
  {
   "cell_type": "code",
   "execution_count": 77,
   "id": "84172e0a",
   "metadata": {},
   "outputs": [
    {
     "name": "stdout",
     "output_type": "stream",
     "text": [
      "from (4, 5, 6) to 5\n"
     ]
    }
   ],
   "source": [
    "#like lists, tubles is a sequence of values that are immutable (like strings)\n",
    "#but they are more efficient when creating a temporary list that won't be changed\n",
    "#unpack tuples\n",
    "tup = (4, 5, 6)\n",
    "a, b, c = tup\n",
    "print('from', tup, 'to', b)"
   ]
  },
  {
   "cell_type": "code",
   "execution_count": 104,
   "id": "d126ab42",
   "metadata": {
    "collapsed": false,
    "editable": true,
    "jupyter": {
     "outputs_hidden": false
    }
   },
   "outputs": [
    {
     "name": "stdout",
     "output_type": "stream",
     "text": [
      "assert with list: False \n",
      "assert with set: True \n",
      "assert with tupl: False\n"
     ]
    }
   ],
   "source": [
    "# assert tuples do not have order\n",
    "print('assert with list:',[1, 2, 3] == [3, 2, 1],'\\nassert with set:',{1, 2, 3} == {3, 2, 1},'\\nassert with tupl:',(1, 2, 3) == (3, 2, 1))"
   ]
  },
  {
   "cell_type": "code",
   "execution_count": 70,
   "id": "cfd2814e",
   "metadata": {},
   "outputs": [
    {
     "name": "stdout",
     "output_type": "stream",
     "text": [
      "4\n"
     ]
    }
   ],
   "source": [
    "#create a tuple and print left hand side of the assignment (parentheses optional)\n",
    "(x,y)=(4,12)\n",
    "print(x)"
   ]
  },
  {
   "cell_type": "code",
   "execution_count": 71,
   "id": "60f86074",
   "metadata": {},
   "outputs": [
    {
     "name": "stdout",
     "output_type": "stream",
     "text": [
      "('L', 'u', 'p', 'i', 'n', 's')\n"
     ]
    }
   ],
   "source": [
    "#you can't modify a tuple, but you can replace it with another by identifying order in tuple\n",
    "t=(\"L\",) + t[1:]\n",
    "print(t)"
   ]
  },
  {
   "cell_type": "code",
   "execution_count": null,
   "id": "e2d350ea",
   "metadata": {},
   "outputs": [],
   "source": [
    "# list of tuple\n",
    "seq = [(1, 2, 3), (4, 5, 6), (7, 8, 9)]\n",
    "for a, b, c in seq:\n",
    "    print('a={0}, b={1}, c={2}'.format(a, b, c))"
   ]
  },
  {
   "cell_type": "markdown",
   "id": "225dcd47",
   "metadata": {
    "editable": true
   },
   "source": [
    "### Dictionaries"
   ]
  },
  {
   "cell_type": "code",
   "execution_count": 115,
   "id": "51eba263",
   "metadata": {},
   "outputs": [
    {
     "name": "stdout",
     "output_type": "stream",
     "text": [
      "a 10\n",
      "b 1\n",
      "c 22\n",
      "f 22\n"
     ]
    }
   ],
   "source": [
    "#print key-value pairs by key\n",
    "for k in sorted(c):\n",
    "    print(k, c[k])"
   ]
  },
  {
   "cell_type": "code",
   "execution_count": 114,
   "id": "2c04d425",
   "metadata": {},
   "outputs": [
    {
     "data": {
      "text/plain": [
       "['a', 'b', 'c', 'f']"
      ]
     },
     "execution_count": 114,
     "metadata": {},
     "output_type": "execute_result"
    }
   ],
   "source": [
    "#sorting dict by key\n",
    "c = {'a': 10, 'c': 22, 'b': 1, 'f': 22}\n",
    "sorted(c)"
   ]
  },
  {
   "cell_type": "code",
   "execution_count": 116,
   "id": "94bcb754",
   "metadata": {},
   "outputs": [
    {
     "name": "stdout",
     "output_type": "stream",
     "text": [
      "[(22, 'f'), (22, 'c'), (10, 'a'), (1, 'b')]\n"
     ]
    }
   ],
   "source": [
    "#create temporary list to sort by values instead of key and reverse sort\n",
    "tmp=list()\n",
    "for k,v in c.items():\n",
    "    tmp.append((v,k))\n",
    "tmp.sort(reverse=True)\n",
    "print(tmp)"
   ]
  },
  {
   "cell_type": "code",
   "execution_count": 117,
   "id": "cd9bdf50",
   "metadata": {
    "collapsed": false,
    "editable": true,
    "jupyter": {
     "outputs_hidden": false
    }
   },
   "outputs": [
    {
     "name": "stdout",
     "output_type": "stream",
     "text": [
      "[(1, 'b'), (10, 'a'), (22, 'c'), (22, 'f')]\n"
     ]
    }
   ],
   "source": [
    "#shorthand for list comprehension in ascending order\n",
    "print(sorted([(v,k) for k,v in c.items()]))"
   ]
  },
  {
   "cell_type": "code",
   "execution_count": 130,
   "id": "94fccee0",
   "metadata": {
    "collapsed": false,
    "editable": true,
    "jupyter": {
     "outputs_hidden": false
    }
   },
   "outputs": [
    {
     "name": "stdout",
     "output_type": "stream",
     "text": [
      "print dict {'money': 12, 'candy': 3, 'tissues': 75} \n",
      "assert money is in purse: True\n"
     ]
    }
   ],
   "source": [
    "#Whereas list is a linear collection of ordered values, a dictionary is an assortment of unordered labeled values, similar to a database\n",
    "#Becuase dictionaries are not ordered, they require labels (or key for values)\n",
    "# create and fillempty dict\n",
    "purse = dict()\n",
    "purse['money'] = 12\n",
    "purse['candy'] = 3\n",
    "purse['tissues'] = 75\n",
    "\n",
    "#check if key is in dictionary\n",
    "print('print dict',purse,\"\\nassert money is in purse:\", 'money' in purse)\n"
   ]
  },
  {
   "cell_type": "code",
   "execution_count": 135,
   "id": "1009fc62",
   "metadata": {
    "collapsed": false,
    "editable": true,
    "jupyter": {
     "outputs_hidden": false
    }
   },
   "outputs": [
    {
     "name": "stdout",
     "output_type": "stream",
     "text": [
      "{'csev': 2, 'owen': 1, 'zqian': 1, 'cwen': 1}\n"
     ]
    }
   ],
   "source": [
    "#use dictionaries to count items\n",
    "counts = dict()\n",
    "names = ['csev','owen','csev','zqian','cwen']\n",
    "for name in names:\n",
    "    if name not in counts:\n",
    "        counts[name]= 1\n",
    "    else: \n",
    "        counts[name] = counts[name] + 1\n",
    "print(counts) "
   ]
  },
  {
   "cell_type": "code",
   "execution_count": 132,
   "id": "20de3021",
   "metadata": {
    "collapsed": false,
    "editable": true,
    "jupyter": {
     "outputs_hidden": false
    }
   },
   "outputs": [
    {
     "name": "stdout",
     "output_type": "stream",
     "text": [
      "{'csev': 2, 'owen': 1, 'zqian': 1, 'cwen': 1}\n"
     ]
    }
   ],
   "source": [
    "#equivalent to the GET function\n",
    "for name in names:\n",
    "    counts[name]=counts.get(name,0)\n",
    "print(counts)"
   ]
  },
  {
   "cell_type": "code",
   "execution_count": 159,
   "id": "1d82ec15",
   "metadata": {},
   "outputs": [
    {
     "name": "stdout",
     "output_type": "stream",
     "text": [
      "items: dict_items([('csev', 2), ('owen', 1), ('zqian', 1), ('cwen', 1)]) \n",
      "items: dict_keys(['csev', 'owen', 'zqian', 'cwen']) \n",
      "values: dict_values([2, 1, 1, 1])\n"
     ]
    }
   ],
   "source": [
    "# unpack items, keys and values as nested list\n",
    "print('items:',counts.items(),'\\nitems:',counts.keys(),'\\nvalues:',counts.values())\n",
    "list(d1.keys())"
   ]
  },
  {
   "cell_type": "code",
   "execution_count": 138,
   "id": "edb5ac63",
   "metadata": {
    "collapsed": false,
    "editable": true,
    "jupyter": {
     "outputs_hidden": false
    }
   },
   "outputs": [
    {
     "name": "stdout",
     "output_type": "stream",
     "text": [
      "0: foo, one\n",
      "1: bar, two\n",
      "2: baz, three\n"
     ]
    }
   ],
   "source": [
    "# enumerated items in diction\n",
    "for i, (a, b) in enumerate(zip(seq1, seq2)):\n",
    "    print('{0}: {1}, {2}'.format(i, a, b))"
   ]
  },
  {
   "cell_type": "code",
   "execution_count": 136,
   "id": "82042e7b",
   "metadata": {
    "collapsed": false,
    "editable": true,
    "jupyter": {
     "outputs_hidden": false
    }
   },
   "outputs": [
    {
     "data": {
      "text/plain": [
       "[('foo', 'one'), ('bar', 'two'), ('baz', 'three')]"
      ]
     },
     "execution_count": 136,
     "metadata": {},
     "output_type": "execute_result"
    }
   ],
   "source": [
    "# use zip to create dict from list\n",
    "seq1 = ['foo', 'bar', 'baz']\n",
    "seq2 = ['one', 'two', 'three']\n",
    "zipped = zip(seq1, seq2)\n",
    "list(zipped)"
   ]
  },
  {
   "cell_type": "code",
   "execution_count": 137,
   "id": "0bbaad52",
   "metadata": {
    "collapsed": false,
    "editable": true,
    "jupyter": {
     "outputs_hidden": false
    }
   },
   "outputs": [
    {
     "data": {
      "text/plain": [
       "[('foo', 'one', False), ('bar', 'two', True)]"
      ]
     },
     "execution_count": 137,
     "metadata": {},
     "output_type": "execute_result"
    }
   ],
   "source": [
    "# add element to nested list\n",
    "seq3 = [False, True]\n",
    "list(zip(seq1, seq2, seq3))"
   ]
  },
  {
   "cell_type": "code",
   "execution_count": 139,
   "id": "2d070adf",
   "metadata": {
    "collapsed": false,
    "editable": true,
    "jupyter": {
     "outputs_hidden": false
    }
   },
   "outputs": [
    {
     "data": {
      "text/plain": [
       "('Ryan', 'Clemens', 'Curt')"
      ]
     },
     "execution_count": 139,
     "metadata": {},
     "output_type": "execute_result"
    }
   ],
   "source": [
    "# create tuple from item in nested list\n",
    "pitchers = [('Nolan', 'Ryan'), ('Roger', 'Clemens'),\n",
    "            ('Schilling', 'Curt')]\n",
    "first_names, last_names = zip(*pitchers)\n",
    "first_names\n",
    "last_names"
   ]
  },
  {
   "cell_type": "code",
   "execution_count": 169,
   "id": "d2e857a7",
   "metadata": {
    "collapsed": false,
    "editable": true,
    "jupyter": {
     "outputs_hidden": false
    }
   },
   "outputs": [
    {
     "data": {
      "text/plain": [
       "{'a': 'some value', 'b': [1, 2, 3, 4], '7': 'another value'}"
      ]
     },
     "execution_count": 169,
     "metadata": {},
     "output_type": "execute_result"
    }
   ],
   "source": [
    "# create nested list in a dictionary\n",
    "empty_dict = {}\n",
    "d1 = {'a' : 'some value', 'b' : [1, 2, 3, 4]}\n",
    "\n",
    "# add new item\n",
    "d1['7'] = 'another value'\n",
    "d1"
   ]
  },
  {
   "cell_type": "code",
   "execution_count": 172,
   "id": "e34b109e",
   "metadata": {
    "collapsed": false,
    "editable": true,
    "jupyter": {
     "outputs_hidden": false
    }
   },
   "outputs": [
    {
     "data": {
      "text/plain": [
       "{'a': 'some value', 'b': 'foo', 'c': 12}"
      ]
     },
     "execution_count": 172,
     "metadata": {},
     "output_type": "execute_result"
    }
   ],
   "source": [
    "# replace value for dict item\n",
    "d1.update({'b' : 'foo', 'c' : 12})\n",
    "d1"
   ]
  },
  {
   "cell_type": "code",
   "execution_count": 166,
   "id": "8e244e6a",
   "metadata": {},
   "outputs": [
    {
     "data": {
      "text/plain": [
       "'another value'"
      ]
     },
     "execution_count": 166,
     "metadata": {},
     "output_type": "execute_result"
    }
   ],
   "source": [
    "# use pop to return value of a key\n",
    "ret = d1.pop('7')\n",
    "ret"
   ]
  },
  {
   "cell_type": "code",
   "execution_count": 170,
   "id": "d87319e7",
   "metadata": {},
   "outputs": [
    {
     "data": {
      "text/plain": [
       "{'a': 'some value', 'b': [1, 2, 3, 4]}"
      ]
     },
     "execution_count": 170,
     "metadata": {},
     "output_type": "execute_result"
    }
   ],
   "source": [
    "# delete item in dict\n",
    "del d1['7']\n",
    "d1"
   ]
  },
  {
   "cell_type": "code",
   "execution_count": null,
   "id": "a8fe6319",
   "metadata": {
    "collapsed": false,
    "editable": true,
    "jupyter": {
     "outputs_hidden": false
    }
   },
   "outputs": [],
   "source": []
  },
  {
   "cell_type": "code",
   "execution_count": null,
   "id": "c03ce858",
   "metadata": {
    "collapsed": false,
    "editable": true,
    "jupyter": {
     "outputs_hidden": false
    }
   },
   "outputs": [],
   "source": []
  },
  {
   "cell_type": "code",
   "execution_count": null,
   "id": "11000358",
   "metadata": {
    "collapsed": false,
    "editable": true,
    "jupyter": {
     "outputs_hidden": false
    }
   },
   "outputs": [],
   "source": []
  },
  {
   "cell_type": "code",
   "execution_count": null,
   "id": "384f37cf",
   "metadata": {
    "collapsed": false,
    "editable": true,
    "jupyter": {
     "outputs_hidden": false
    }
   },
   "outputs": [],
   "source": []
  },
  {
   "cell_type": "code",
   "execution_count": null,
   "id": "1c829a82",
   "metadata": {},
   "outputs": [],
   "source": []
  },
  {
   "cell_type": "code",
   "execution_count": null,
   "id": "2c44ace3",
   "metadata": {},
   "outputs": [],
   "source": []
  },
  {
   "cell_type": "code",
   "execution_count": null,
   "id": "958484a7",
   "metadata": {},
   "outputs": [],
   "source": []
  },
  {
   "cell_type": "code",
   "execution_count": null,
   "id": "e8fb8f5d",
   "metadata": {},
   "outputs": [],
   "source": []
  }
 ],
 "metadata": {
  "kernelspec": {
   "display_name": "Python 3",
   "language": "python",
   "name": "python3"
  },
  "language_info": {
   "codemirror_mode": {
    "name": "ipython",
    "version": 3
   },
   "file_extension": ".py",
   "mimetype": "text/x-python",
   "name": "python",
   "nbconvert_exporter": "python",
   "pygments_lexer": "ipython3",
   "version": "3.7.2"
  }
 },
 "nbformat": 4,
 "nbformat_minor": 5
}
