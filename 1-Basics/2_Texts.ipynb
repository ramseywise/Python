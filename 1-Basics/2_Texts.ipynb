{
 "cells": [
  {
   "cell_type": "markdown",
   "id": "471853de",
   "metadata": {},
   "source": [
    "# 2 | Working with Text Data Files\n",
    "\n",
    "This notebook covers specific text file topics:\n",
    "- Loading and writing text files\n",
    "- Parsing texts\n",
    "\n",
    "\n",
    "Regular Expressions can be used in other programming languages as well to match and parse strings\n",
    "   - `^`   Matches the beginning of a line \n",
    "   - `$`   Matches the end of the line\n",
    "   - `.`   Matches any character\n",
    "   - `*`   Repeats a character zero or more times\n",
    "   - `\\s`    Matches whitespace\n",
    "   - `\\S`    Matches any non­whitespace character\n",
    "   - `*?`    Repeats a character zero or more times (non­greedy) + Repeats a character one or more times\n",
    "   - `+?`    Repeats a character one or more times(non­greedy) [aeiou] Matchesasinglecharacterinthelistedset [^XYZ] Matches a single character not in the listed set [a­z0­9] Thesetofcharacterscanincludearange\n",
    "   - `( `   Indicates where string extraction is to start\n",
    "   - `) `   Indicates where string extraction is to end\n",
    "\n",
    "\n",
    "*Resources*: \n",
    "- **Coursera Python for Informatics** (University of Michigan)\n"
   ]
  },
  {
   "cell_type": "markdown",
   "id": "de846f7b",
   "metadata": {
    "editable": true
   },
   "source": [
    "## Text Files and the Operating System"
   ]
  },
  {
   "cell_type": "code",
   "execution_count": 203,
   "id": "bb9969f6",
   "metadata": {},
   "outputs": [
    {
     "name": "stdout",
     "output_type": "stream",
     "text": [
      "/app/1-Basics/0-Functions\n"
     ]
    }
   ],
   "source": [
    "cd /app/1-Basics/0-Functions"
   ]
  },
  {
   "cell_type": "code",
   "execution_count": 204,
   "id": "ad1bf5b6",
   "metadata": {},
   "outputs": [
    {
     "name": "stdout",
     "output_type": "stream",
     "text": [
      "1-Python-Intro.ipynb  4-Dataframes.ipynb    advanced-pandas.ipynb\n",
      "2-Texts.ipynb         \u001b[0m\u001b[01;34mData\u001b[0m/                 numpy.ipynb\n",
      "3-Arrays.ipynb        advanced-numpy.ipynb  pandas2.ipynb\n"
     ]
    }
   ],
   "source": [
    "ls"
   ]
  },
  {
   "cell_type": "code",
   "execution_count": 210,
   "id": "fb9b5dc0",
   "metadata": {},
   "outputs": [
    {
     "data": {
      "text/plain": [
       "<_io.TextIOWrapper name='Data/examples/segismundo.txt' mode='r' encoding='UTF-8'>"
      ]
     },
     "execution_count": 210,
     "metadata": {},
     "output_type": "execute_result"
    }
   ],
   "source": [
    "# set path and open text with IO wrapper \n",
    "#use open for large files rather than reading in a file with input()\n",
    "path = 'Data/examples/segismundo.txt'\n",
    "f = open(path)\n",
    "f"
   ]
  },
  {
   "cell_type": "code",
   "execution_count": 208,
   "id": "dac23742",
   "metadata": {
    "collapsed": false,
    "editable": true,
    "jupyter": {
     "outputs_hidden": false
    }
   },
   "outputs": [
    {
     "data": {
      "text/plain": [
       "['Sueña el rico en su riqueza,',\n",
       " 'que más cuidados le ofrece;',\n",
       " '',\n",
       " 'sueña el pobre que padece',\n",
       " 'su miseria y su pobreza;',\n",
       " '',\n",
       " 'sueña el que a medrar empieza,',\n",
       " 'sueña el que afana y pretende,',\n",
       " 'sueña el que agravia y ofende,',\n",
       " '',\n",
       " 'y en el mundo, en conclusión,',\n",
       " 'todos sueñan lo que son,',\n",
       " 'aunque ninguno lo entiende.',\n",
       " '']"
      ]
     },
     "execution_count": 208,
     "metadata": {},
     "output_type": "execute_result"
    }
   ],
   "source": [
    "# strip lines from text\n",
    "with open(path) as f:\n",
    "    lines = [x.rstrip() for x in f]\n",
    "lines"
   ]
  },
  {
   "cell_type": "code",
   "execution_count": 211,
   "id": "f755854e",
   "metadata": {
    "collapsed": false,
    "editable": true,
    "jupyter": {
     "outputs_hidden": false
    }
   },
   "outputs": [
    {
     "data": {
      "text/plain": [
       "'Sueña el r'"
      ]
     },
     "execution_count": 211,
     "metadata": {},
     "output_type": "execute_result"
    }
   ],
   "source": [
    "# read first 10 char\n",
    "f.read(10)"
   ]
  },
  {
   "cell_type": "code",
   "execution_count": 213,
   "id": "afac5499",
   "metadata": {
    "collapsed": false,
    "editable": true,
    "jupyter": {
     "outputs_hidden": false
    }
   },
   "outputs": [
    {
     "data": {
      "text/plain": [
       "11"
      ]
     },
     "execution_count": 213,
     "metadata": {},
     "output_type": "execute_result"
    }
   ],
   "source": [
    "f.tell()"
   ]
  },
  {
   "cell_type": "code",
   "execution_count": 212,
   "id": "7ac12ec0",
   "metadata": {
    "collapsed": false,
    "editable": true,
    "jupyter": {
     "outputs_hidden": false
    }
   },
   "outputs": [
    {
     "data": {
      "text/plain": [
       "b'Sue\\xc3\\xb1a el '"
      ]
     },
     "execution_count": 212,
     "metadata": {},
     "output_type": "execute_result"
    }
   ],
   "source": [
    "f2 = open(path, 'rb')  # Binary mode\n",
    "f2.read(10)"
   ]
  },
  {
   "cell_type": "code",
   "execution_count": 228,
   "id": "a3120f97",
   "metadata": {},
   "outputs": [
    {
     "data": {
      "text/plain": [
       "'Sueña el '"
      ]
     },
     "execution_count": 228,
     "metadata": {},
     "output_type": "execute_result"
    }
   ],
   "source": [
    "# remove encoding\n",
    "data.decode('utf8')"
   ]
  },
  {
   "cell_type": "code",
   "execution_count": null,
   "id": "fb1b40fb",
   "metadata": {},
   "outputs": [],
   "source": [
    "f.seek(3)\n",
    "f.read(1)"
   ]
  },
  {
   "cell_type": "code",
   "execution_count": 223,
   "id": "f3240ded",
   "metadata": {
    "collapsed": false,
    "editable": true,
    "jupyter": {
     "outputs_hidden": false
    }
   },
   "outputs": [
    {
     "data": {
      "text/plain": [
       "['Sueña el rico en su riqueza,\\n',\n",
       " 'que más cuidados le ofrece;\\n',\n",
       " 'sueña el pobre que padece\\n',\n",
       " 'su miseria y su pobreza;\\n',\n",
       " 'sueña el que a medrar empieza,\\n',\n",
       " 'sueña el que afana y pretende,\\n',\n",
       " 'sueña el que agravia y ofende,\\n',\n",
       " 'y en el mundo, en conclusión,\\n',\n",
       " 'todos sueñan lo que son,\\n',\n",
       " 'aunque ninguno lo entiende.\\n']"
      ]
     },
     "execution_count": 223,
     "metadata": {},
     "output_type": "execute_result"
    }
   ],
   "source": [
    "# open and write lines without space between lines\n",
    "with open('data/tmp.txt', 'w') as handle:\n",
    "    handle.writelines(x for x in open(path) if len(x) > 1)\n",
    "with open('data/tmp.txt') as f:\n",
    "    lines = f.readlines()\n",
    "lines"
   ]
  },
  {
   "cell_type": "code",
   "execution_count": null,
   "id": "d6966139",
   "metadata": {
    "collapsed": false,
    "editable": true,
    "jupyter": {
     "outputs_hidden": false
    }
   },
   "outputs": [],
   "source": [
    "f.close()\n",
    "f2.close()"
   ]
  },
  {
   "cell_type": "markdown",
   "id": "102557e1",
   "metadata": {},
   "source": [
    "### Text Parsing"
   ]
  },
  {
   "cell_type": "code",
   "execution_count": 33,
   "id": "b7309e92",
   "metadata": {},
   "outputs": [
    {
     "data": {
      "text/plain": [
       "['the',\n",
       " 'clown',\n",
       " 'ran',\n",
       " 'after',\n",
       " 'the',\n",
       " 'car',\n",
       " 'and',\n",
       " 'the',\n",
       " 'car',\n",
       " 'ran',\n",
       " 'into',\n",
       " 'the',\n",
       " 'tent',\n",
       " 'and',\n",
       " 'the',\n",
       " 'tent',\n",
       " 'fell',\n",
       " 'down',\n",
       " 'on',\n",
       " 'the',\n",
       " 'clown',\n",
       " 'and',\n",
       " 'the',\n",
       " 'car']"
      ]
     },
     "execution_count": 33,
     "metadata": {},
     "output_type": "execute_result"
    }
   ],
   "source": [
    "#use split to split items in a sequence\n",
    "text=\"the clown ran after the car and the car ran into the tent and the tent fell down on the clown and the car\"\n",
    "words=text.split()\n",
    "words"
   ]
  },
  {
   "cell_type": "code",
   "execution_count": 35,
   "id": "c645ece0",
   "metadata": {},
   "outputs": [
    {
     "data": {
      "text/plain": [
       "{'the': 7,\n",
       " 'clown': 2,\n",
       " 'ran': 2,\n",
       " 'after': 1,\n",
       " 'car': 3,\n",
       " 'and': 3,\n",
       " 'into': 1,\n",
       " 'tent': 2,\n",
       " 'fell': 1,\n",
       " 'down': 1,\n",
       " 'on': 1}"
      ]
     },
     "execution_count": 35,
     "metadata": {},
     "output_type": "execute_result"
    }
   ],
   "source": [
    "#count word frequency with get()\n",
    "counts=dict()\n",
    "for word in words:\n",
    "    counts[word]=counts.get(word,0)+1\n",
    "counts"
   ]
  },
  {
   "cell_type": "code",
   "execution_count": 36,
   "id": "496a116d",
   "metadata": {},
   "outputs": [
    {
     "name": "stdout",
     "output_type": "stream",
     "text": [
      "the 7\n"
     ]
    }
   ],
   "source": [
    "# find most frequent word from text\n",
    "bigcount = None\n",
    "bigword = None\n",
    "for word,count in counts.items():\n",
    "    if bigcount is None or count > bigcount: \n",
    "        bigword = word\n",
    "        bigcount = count \n",
    "print(bigword, bigcount)"
   ]
  },
  {
   "cell_type": "code",
   "execution_count": 37,
   "id": "10dbc34e",
   "metadata": {},
   "outputs": [
    {
     "data": {
      "text/plain": [
       "['spam', 'spam', 'spam']"
      ]
     },
     "execution_count": 37,
     "metadata": {},
     "output_type": "execute_result"
    }
   ],
   "source": [
    "#split breaks a sequence into parts to create a list of strings\n",
    "#items based by spaces but considers multiple spaces one split\n",
    "#you can also split by defining parameter by semicolon, comma or dash etc.\n",
    "s ='spam-spam-spam' \n",
    "delimiter = '-'\n",
    "s.split(delimiter) "
   ]
  },
  {
   "cell_type": "code",
   "execution_count": 105,
   "id": "93926745",
   "metadata": {
    "collapsed": false,
    "editable": true,
    "jupyter": {
     "outputs_hidden": false
    }
   },
   "outputs": [
    {
     "data": {
      "text/plain": [
       "94626"
      ]
     },
     "execution_count": 105,
     "metadata": {},
     "output_type": "execute_result"
    }
   ],
   "source": [
    "#import files from internet using requests\n",
    "import requests\n",
    "url = \"http://www.py4inf.com/code/mbox-short.txt\"\n",
    "res = requests.get(url)\n",
    "text = res.text\n",
    "# get length of text characters\n",
    "len(text)"
   ]
  },
  {
   "cell_type": "code",
   "execution_count": 42,
   "id": "4fb933a4",
   "metadata": {},
   "outputs": [
    {
     "data": {
      "text/plain": [
       "'From stephen.marquard@uct.ac.za Sat Jan  5 09:14:16 2008\\nReturn-Path: <postmaster@collab.sakaiprojec'"
      ]
     },
     "execution_count": 42,
     "metadata": {},
     "output_type": "execute_result"
    }
   ],
   "source": [
    "# have a look at the first 100 characters from text file\n",
    "text[:100]"
   ]
  },
  {
   "cell_type": "code",
   "execution_count": 141,
   "id": "0221403f",
   "metadata": {},
   "outputs": [
    {
     "data": {
      "text/plain": [
       "['From stephen.marquard@uct.ac.za Sat Jan  5 09:14:16 2008',\n",
       " 'Return-Path: <postmaster@collab.sakaiproject.org>',\n",
       " 'Received: from murder (mail.umich.edu [141.211.14.90])',\n",
       " '\\t by frankenstein.mail.umich.edu (Cyrus v2.3.8) with LMTPA;',\n",
       " '\\t Sat, 05 Jan 2008 09:14:16 -0500',\n",
       " 'X-Sieve: CMU Sieve 2.3',\n",
       " 'Received: from murder ([unix socket])',\n",
       " '\\t by mail.umich.edu (Cyrus v2.2.12) with LMTPA;',\n",
       " '\\t Sat, 05 Jan 2008 09:14:16 -0500',\n",
       " 'Received: from holes.mr.itd.umich.edu (holes.mr.itd.umich.edu [141.211.14.79])']"
      ]
     },
     "execution_count": 141,
     "metadata": {},
     "output_type": "execute_result"
    }
   ],
   "source": [
    "lines=text.split('\\n')\n",
    "lines[:10]"
   ]
  },
  {
   "cell_type": "code",
   "execution_count": 237,
   "id": "5742b7a5",
   "metadata": {},
   "outputs": [
    {
     "name": "stdout",
     "output_type": "stream",
     "text": [
      "There were 54 subject lines\n"
     ]
    }
   ],
   "source": [
    "# count lines that start with From\n",
    "count=0\n",
    "for line in lines:\n",
    "    line = line.rstrip()\n",
    "    if line.startswith(\"From\"): \n",
    "        count=count+1\n",
    "print(\"There were\",count,\"subject lines\")"
   ]
  },
  {
   "cell_type": "code",
   "execution_count": 234,
   "id": "4fb43e44",
   "metadata": {},
   "outputs": [
    {
     "name": "stdout",
     "output_type": "stream",
     "text": [
      "{'umich.edu', 'iupui.edu', 'caret.cam.ac.uk', 'uct.ac.za', 'gmail.com', 'media.berkeley.edu'}\n"
     ]
    }
   ],
   "source": [
    "#re.findall finds and retrieves a list\n",
    "output = []\n",
    "for line in lines:\n",
    "    # strip text of trailing characters and lower case all words in text\n",
    "    line = line.rstrip().lower()\n",
    "    #remove punctuation\n",
    "    line = re.sub('[!#?]', '', line)\n",
    "    # return lines that begin with From\n",
    "    if line.find('from'): continue\n",
    "    split=line.split(\"@\")\n",
    "    # get unique domain names\n",
    "    domain = split[1].split()\n",
    "    output.append(domain[0])\n",
    "print(set(output))"
   ]
  },
  {
   "cell_type": "code",
   "execution_count": 242,
   "id": "7d19d5e7",
   "metadata": {
    "collapsed": false,
    "editable": true,
    "jupyter": {
     "outputs_hidden": false
    }
   },
   "outputs": [
    {
     "data": {
      "text/plain": [
       "['iupui.edu',\n",
       " 'uct.ac.za',\n",
       " 'umich.edu',\n",
       " 'gmail.com',\n",
       " 'caret.cam.ac.uk',\n",
       " 'media.berkeley.edu']"
      ]
     },
     "execution_count": 242,
     "metadata": {},
     "output_type": "execute_result"
    }
   ],
   "source": [
    "# sort alphabetically\n",
    "strings = list(set(output))\n",
    "strings.sort(key=lambda x: len(set(list(x))))\n",
    "strings"
   ]
  },
  {
   "cell_type": "code",
   "execution_count": null,
   "id": "0f51383e",
   "metadata": {},
   "outputs": [],
   "source": []
  },
  {
   "cell_type": "code",
   "execution_count": null,
   "id": "31d6a849",
   "metadata": {},
   "outputs": [],
   "source": []
  },
  {
   "cell_type": "code",
   "execution_count": null,
   "id": "a7e540d3",
   "metadata": {},
   "outputs": [],
   "source": []
  },
  {
   "cell_type": "code",
   "execution_count": null,
   "id": "d18316bf",
   "metadata": {},
   "outputs": [],
   "source": []
  },
  {
   "cell_type": "code",
   "execution_count": null,
   "id": "fe04ed6f",
   "metadata": {},
   "outputs": [],
   "source": []
  },
  {
   "cell_type": "code",
   "execution_count": null,
   "id": "2b6525ac",
   "metadata": {},
   "outputs": [],
   "source": []
  },
  {
   "cell_type": "code",
   "execution_count": null,
   "id": "661b2ef3",
   "metadata": {},
   "outputs": [],
   "source": []
  },
  {
   "cell_type": "code",
   "execution_count": 6,
   "id": "69ff9ce4",
   "metadata": {
    "collapsed": false,
    "editable": true,
    "jupyter": {
     "outputs_hidden": false
    }
   },
   "outputs": [],
   "source": []
  },
  {
   "cell_type": "code",
   "execution_count": null,
   "id": "7fe13085",
   "metadata": {
    "collapsed": false,
    "editable": true,
    "jupyter": {
     "outputs_hidden": false
    }
   },
   "outputs": [],
   "source": []
  },
  {
   "cell_type": "code",
   "execution_count": 16,
   "id": "3d3828af",
   "metadata": {},
   "outputs": [],
   "source": []
  },
  {
   "cell_type": "code",
   "execution_count": null,
   "id": "c43502ad",
   "metadata": {},
   "outputs": [],
   "source": []
  }
 ],
 "metadata": {
  "kernelspec": {
   "display_name": "Python 3",
   "language": "python",
   "name": "python3"
  },
  "language_info": {
   "codemirror_mode": {
    "name": "ipython",
    "version": 3
   },
   "file_extension": ".py",
   "mimetype": "text/x-python",
   "name": "python",
   "nbconvert_exporter": "python",
   "pygments_lexer": "ipython3",
   "version": "3.7.2"
  }
 },
 "nbformat": 4,
 "nbformat_minor": 5
}
