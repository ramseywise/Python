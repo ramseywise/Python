{
 "cells": [
  {
   "cell_type": "markdown",
   "id": "a8ae1cd0",
   "metadata": {},
   "source": [
    "# 1    | Introduction to Python\n",
    "\n",
    "    - Basic Operations: variables, expressions, libraries (math, random)\n",
    "    - Functions: conditional statements, iteration, list comprehension\n",
    "    - Data Types: lists, tuples, dictionaries, strings\n",
    "    \n",
    "*Resources from Coursera*: **Python for Informatics (University of Michigan)**\n"
   ]
  },
  {
   "cell_type": "markdown",
   "id": "fb351f11",
   "metadata": {},
   "source": [
    "## Basic Operations and Libraries"
   ]
  },
  {
   "cell_type": "code",
   "execution_count": 61,
   "id": "01df014f",
   "metadata": {},
   "outputs": [
    {
     "name": "stdout",
     "output_type": "stream",
     "text": [
      "Hello world!\n"
     ]
    }
   ],
   "source": [
    "# assigning variable\n",
    "string = \"Hello world!\"\n",
    "print(string)"
   ]
  },
  {
   "cell_type": "code",
   "execution_count": 2,
   "id": "540fba23",
   "metadata": {},
   "outputs": [
    {
     "name": "stdout",
     "output_type": "stream",
     "text": [
      "type:  <class 'int'> answer:  4\n"
     ]
    }
   ],
   "source": [
    "# basic expression with integers\n",
    "var=2\n",
    "print('type: ', type(var),'answer: ', var+2)"
   ]
  },
  {
   "cell_type": "code",
   "execution_count": 3,
   "id": "c0583e5d",
   "metadata": {},
   "outputs": [
    {
     "name": "stdout",
     "output_type": "stream",
     "text": [
      "random:  0.42885509465825344\n",
      "randint:  1\n",
      "choice:  d\n"
     ]
    }
   ],
   "source": [
    "# random library\n",
    "import random\n",
    "for i in range(10):\n",
    "    x = random.random() \n",
    "print('random: ',x)\n",
    "\n",
    "# also with random.randint\n",
    "print('randint: ',random.randint(1,10))\n",
    "\n",
    "# or choice using strings in a list\n",
    "t=['a','b','c','d'] \n",
    "print('choice: ',random.choice(t))"
   ]
  },
  {
   "cell_type": "code",
   "execution_count": 4,
   "id": "e361b483",
   "metadata": {},
   "outputs": [
    {
     "name": "stdout",
     "output_type": "stream",
     "text": [
      "log 2.0\n",
      "pi 3.141592653589793\n",
      "sqrt 0.7071067811865476\n",
      "trig 0.28366218546322625\n"
     ]
    }
   ],
   "source": [
    "# math library\n",
    "import math\n",
    "print('log',math.log10(100))\n",
    "print('pi', math.pi)\n",
    "print('sqrt', math.sqrt(2)/2)\n",
    "print('trig', math.cos(5))"
   ]
  },
  {
   "cell_type": "markdown",
   "id": "78f92c5e",
   "metadata": {
    "editable": true
   },
   "source": [
    "## Files and the Operating System"
   ]
  },
  {
   "cell_type": "code",
   "execution_count": 203,
   "id": "b8b01b5a",
   "metadata": {},
   "outputs": [
    {
     "name": "stdout",
     "output_type": "stream",
     "text": [
      "/app/1-Basics/0-Functions\n"
     ]
    }
   ],
   "source": [
    "cd /app/1-Basics/0-Functions"
   ]
  },
  {
   "cell_type": "code",
   "execution_count": 204,
   "id": "d246f8a9",
   "metadata": {},
   "outputs": [
    {
     "name": "stdout",
     "output_type": "stream",
     "text": [
      "1-Python-Intro.ipynb  4-Dataframes.ipynb    advanced-pandas.ipynb\n",
      "2-Texts.ipynb         \u001b[0m\u001b[01;34mData\u001b[0m/                 numpy.ipynb\n",
      "3-Arrays.ipynb        advanced-numpy.ipynb  pandas2.ipynb\n"
     ]
    }
   ],
   "source": [
    "ls"
   ]
  },
  {
   "cell_type": "code",
   "execution_count": 210,
   "id": "f229ffea",
   "metadata": {},
   "outputs": [
    {
     "data": {
      "text/plain": [
       "<_io.TextIOWrapper name='Data/examples/segismundo.txt' mode='r' encoding='UTF-8'>"
      ]
     },
     "execution_count": 210,
     "metadata": {},
     "output_type": "execute_result"
    }
   ],
   "source": [
    "# set path and open text with IO wrapper \n",
    "path = 'Data/examples/segismundo.txt'\n",
    "f = open(path)\n",
    "f"
   ]
  },
  {
   "cell_type": "code",
   "execution_count": 208,
   "id": "a253bbda",
   "metadata": {
    "collapsed": false,
    "editable": true,
    "jupyter": {
     "outputs_hidden": false
    }
   },
   "outputs": [
    {
     "data": {
      "text/plain": [
       "['Sueña el rico en su riqueza,',\n",
       " 'que más cuidados le ofrece;',\n",
       " '',\n",
       " 'sueña el pobre que padece',\n",
       " 'su miseria y su pobreza;',\n",
       " '',\n",
       " 'sueña el que a medrar empieza,',\n",
       " 'sueña el que afana y pretende,',\n",
       " 'sueña el que agravia y ofende,',\n",
       " '',\n",
       " 'y en el mundo, en conclusión,',\n",
       " 'todos sueñan lo que son,',\n",
       " 'aunque ninguno lo entiende.',\n",
       " '']"
      ]
     },
     "execution_count": 208,
     "metadata": {},
     "output_type": "execute_result"
    }
   ],
   "source": [
    "# strip lines from text\n",
    "with open(path) as f:\n",
    "    lines = [x.rstrip() for x in f]\n",
    "lines"
   ]
  },
  {
   "cell_type": "code",
   "execution_count": 211,
   "id": "bfad5c56",
   "metadata": {
    "collapsed": false,
    "editable": true,
    "jupyter": {
     "outputs_hidden": false
    }
   },
   "outputs": [
    {
     "data": {
      "text/plain": [
       "'Sueña el r'"
      ]
     },
     "execution_count": 211,
     "metadata": {},
     "output_type": "execute_result"
    }
   ],
   "source": [
    "# read first 10 char\n",
    "f.read(10)"
   ]
  },
  {
   "cell_type": "code",
   "execution_count": 213,
   "id": "e1c2a27a",
   "metadata": {
    "collapsed": false,
    "editable": true,
    "jupyter": {
     "outputs_hidden": false
    }
   },
   "outputs": [
    {
     "data": {
      "text/plain": [
       "11"
      ]
     },
     "execution_count": 213,
     "metadata": {},
     "output_type": "execute_result"
    }
   ],
   "source": [
    "f.tell()"
   ]
  },
  {
   "cell_type": "code",
   "execution_count": 212,
   "id": "d05376c9",
   "metadata": {
    "collapsed": false,
    "editable": true,
    "jupyter": {
     "outputs_hidden": false
    }
   },
   "outputs": [
    {
     "data": {
      "text/plain": [
       "b'Sue\\xc3\\xb1a el '"
      ]
     },
     "execution_count": 212,
     "metadata": {},
     "output_type": "execute_result"
    }
   ],
   "source": [
    "f2 = open(path, 'rb')  # Binary mode\n",
    "f2.read(10)"
   ]
  },
  {
   "cell_type": "code",
   "execution_count": 228,
   "id": "821413b7",
   "metadata": {},
   "outputs": [
    {
     "data": {
      "text/plain": [
       "'Sueña el '"
      ]
     },
     "execution_count": 228,
     "metadata": {},
     "output_type": "execute_result"
    }
   ],
   "source": [
    "# remove encoding\n",
    "data.decode('utf8')"
   ]
  },
  {
   "cell_type": "code",
   "execution_count": null,
   "id": "39c9c7d3",
   "metadata": {},
   "outputs": [],
   "source": [
    "f.seek(3)\n",
    "f.read(1)"
   ]
  },
  {
   "cell_type": "code",
   "execution_count": 223,
   "id": "5c689650",
   "metadata": {
    "collapsed": false,
    "editable": true,
    "jupyter": {
     "outputs_hidden": false
    }
   },
   "outputs": [
    {
     "data": {
      "text/plain": [
       "['Sueña el rico en su riqueza,\\n',\n",
       " 'que más cuidados le ofrece;\\n',\n",
       " 'sueña el pobre que padece\\n',\n",
       " 'su miseria y su pobreza;\\n',\n",
       " 'sueña el que a medrar empieza,\\n',\n",
       " 'sueña el que afana y pretende,\\n',\n",
       " 'sueña el que agravia y ofende,\\n',\n",
       " 'y en el mundo, en conclusión,\\n',\n",
       " 'todos sueñan lo que son,\\n',\n",
       " 'aunque ninguno lo entiende.\\n']"
      ]
     },
     "execution_count": 223,
     "metadata": {},
     "output_type": "execute_result"
    }
   ],
   "source": [
    "# open and write lines without space between lines\n",
    "with open('tmp.txt', 'w') as handle:\n",
    "    handle.writelines(x for x in open(path) if len(x) > 1)\n",
    "with open('tmp.txt') as f:\n",
    "    lines = f.readlines()\n",
    "lines"
   ]
  },
  {
   "cell_type": "code",
   "execution_count": null,
   "id": "dbef2501",
   "metadata": {
    "collapsed": false,
    "editable": true,
    "jupyter": {
     "outputs_hidden": false
    }
   },
   "outputs": [],
   "source": [
    "f.close()\n",
    "f2.close()"
   ]
  },
  {
   "cell_type": "markdown",
   "id": "e787b52d",
   "metadata": {},
   "source": [
    "### Data Retrieval"
   ]
  },
  {
   "cell_type": "code",
   "execution_count": null,
   "id": "7c563eae",
   "metadata": {
    "collapsed": false,
    "editable": true,
    "jupyter": {
     "outputs_hidden": false
    }
   },
   "outputs": [],
   "source": [
    "import sys\n",
    "import os"
   ]
  },
  {
   "cell_type": "code",
   "execution_count": null,
   "id": "4d0c8e17",
   "metadata": {
    "collapsed": false,
    "editable": true,
    "jupyter": {
     "outputs_hidden": false
    }
   },
   "outputs": [],
   "source": []
  },
  {
   "cell_type": "code",
   "execution_count": null,
   "id": "20fc64ff",
   "metadata": {
    "collapsed": false,
    "editable": true,
    "jupyter": {
     "outputs_hidden": false
    }
   },
   "outputs": [],
   "source": []
  },
  {
   "cell_type": "code",
   "execution_count": null,
   "id": "8a811b23",
   "metadata": {
    "collapsed": false,
    "editable": true,
    "jupyter": {
     "outputs_hidden": false
    }
   },
   "outputs": [],
   "source": []
  },
  {
   "cell_type": "code",
   "execution_count": 224,
   "id": "b109b977",
   "metadata": {
    "collapsed": false,
    "editable": true,
    "jupyter": {
     "outputs_hidden": false
    }
   },
   "outputs": [],
   "source": []
  },
  {
   "cell_type": "code",
   "execution_count": 221,
   "id": "c4415a24",
   "metadata": {
    "collapsed": false,
    "editable": true,
    "jupyter": {
     "outputs_hidden": false
    }
   },
   "outputs": [],
   "source": []
  },
  {
   "cell_type": "code",
   "execution_count": null,
   "id": "9d971a7b",
   "metadata": {
    "collapsed": false,
    "editable": true,
    "jupyter": {
     "outputs_hidden": false
    }
   },
   "outputs": [],
   "source": []
  },
  {
   "cell_type": "code",
   "execution_count": null,
   "id": "601d594c",
   "metadata": {
    "collapsed": false,
    "editable": true,
    "jupyter": {
     "outputs_hidden": false
    }
   },
   "outputs": [],
   "source": []
  },
  {
   "cell_type": "code",
   "execution_count": null,
   "id": "7e94a1cb",
   "metadata": {
    "collapsed": false,
    "editable": true,
    "jupyter": {
     "outputs_hidden": false
    }
   },
   "outputs": [],
   "source": []
  },
  {
   "cell_type": "code",
   "execution_count": 42,
   "id": "69eb0019",
   "metadata": {},
   "outputs": [
    {
     "ename": "FileNotFoundError",
     "evalue": "[Errno 2] No such file or directory: '/Users/wiseer85/Desktop/mbox.txt'",
     "output_type": "error",
     "traceback": [
      "\u001b[0;31m---------------------------------------------------------------------------\u001b[0m",
      "\u001b[0;31mFileNotFoundError\u001b[0m                         Traceback (most recent call last)",
      "\u001b[0;32m<ipython-input-42-6d10415b988e>\u001b[0m in \u001b[0;36m<module>\u001b[0;34m\u001b[0m\n\u001b[1;32m      1\u001b[0m \u001b[0;31m#use open for large files rather than reading in a file with input()\u001b[0m\u001b[0;34m\u001b[0m\u001b[0;34m\u001b[0m\u001b[0;34m\u001b[0m\u001b[0m\n\u001b[0;32m----> 2\u001b[0;31m \u001b[0mdata_long\u001b[0m \u001b[0;34m=\u001b[0m \u001b[0mopen\u001b[0m\u001b[0;34m(\u001b[0m\u001b[0;34m\"/Users/wiseer85/Desktop/mbox.txt\"\u001b[0m\u001b[0;34m)\u001b[0m\u001b[0;34m\u001b[0m\u001b[0;34m\u001b[0m\u001b[0m\n\u001b[0m\u001b[1;32m      3\u001b[0m \u001b[0mcount\u001b[0m \u001b[0;34m=\u001b[0m \u001b[0;36m0\u001b[0m\u001b[0;34m\u001b[0m\u001b[0;34m\u001b[0m\u001b[0m\n\u001b[1;32m      4\u001b[0m \u001b[0;32mfor\u001b[0m \u001b[0mline\u001b[0m \u001b[0;32min\u001b[0m \u001b[0mdata_long\u001b[0m\u001b[0;34m:\u001b[0m\u001b[0;34m\u001b[0m\u001b[0;34m\u001b[0m\u001b[0m\n\u001b[1;32m      5\u001b[0m     \u001b[0mcount\u001b[0m \u001b[0;34m=\u001b[0m \u001b[0mcount\u001b[0m \u001b[0;34m+\u001b[0m \u001b[0;36m1\u001b[0m\u001b[0;34m\u001b[0m\u001b[0;34m\u001b[0m\u001b[0m\n",
      "\u001b[0;31mFileNotFoundError\u001b[0m: [Errno 2] No such file or directory: '/Users/wiseer85/Desktop/mbox.txt'"
     ]
    }
   ],
   "source": [
    "#use open for large files rather than reading in a file with input()\n",
    "data_long = open(\"/Users/wiseer85/Desktop/mbox.txt\")\n",
    "count = 0\n",
    "for line in data_long:\n",
    "    count = count + 1 \n",
    "print('Line Count:', count)"
   ]
  },
  {
   "cell_type": "code",
   "execution_count": null,
   "id": "6a9dba86",
   "metadata": {},
   "outputs": [],
   "source": [
    "# get first/last line of file\n",
    "one\n",
    "two"
   ]
  },
  {
   "cell_type": "code",
   "execution_count": null,
   "id": "abcb4ccf",
   "metadata": {},
   "outputs": [],
   "source": [
    "#save short files\n",
    "with open(\"/Users/wiseer85/Desktop/mbox-short.txt\", 'r') as infile:\n",
    "    #NOTE: r is standard, rU is universal, rB is binary code, rT is text\n",
    "    data = infile.read()\n",
    "print(data)\n",
    "len(data)"
   ]
  },
  {
   "cell_type": "code",
   "execution_count": null,
   "id": "a776a055",
   "metadata": {},
   "outputs": [],
   "source": [
    "#import files from internet using requests\n",
    "import requests\n",
    "url = \"http://www.py4inf.com/code/mbox-short.txt\"\n",
    "res = requests.get(url)\n",
    "text = res.text\n",
    "len(text)\n",
    "print(text)"
   ]
  },
  {
   "cell_type": "markdown",
   "id": "7999b2c2",
   "metadata": {},
   "source": [
    "## Functions, Iteration and List Comprehension"
   ]
  },
  {
   "cell_type": "code",
   "execution_count": 7,
   "id": "d7d64c82",
   "metadata": {},
   "outputs": [
    {
     "name": "stdout",
     "output_type": "stream",
     "text": [
      "x is odd\n"
     ]
    }
   ],
   "source": [
    "# if-else conditional statement\n",
    "x=5\n",
    "if x%2==0:\n",
    "    print(\"x is even\")\n",
    "else:\n",
    "    print(\"x is odd\")"
   ]
  },
  {
   "cell_type": "code",
   "execution_count": 8,
   "id": "699e3e6f",
   "metadata": {},
   "outputs": [
    {
     "name": "stdout",
     "output_type": "stream",
     "text": [
      "5\n",
      "4\n",
      "3\n",
      "2\n",
      "1\n",
      "Blastoff!\n"
     ]
    }
   ],
   "source": [
    "# iteration updates a variable so that the new value depends on the old \n",
    "n=5 \n",
    "while n>0:\n",
    "    print(n)\n",
    "    n=n-1\n",
    "print(\"Blastoff!\")"
   ]
  },
  {
   "cell_type": "code",
   "execution_count": 9,
   "id": "2b24884b",
   "metadata": {},
   "outputs": [
    {
     "name": "stdout",
     "output_type": "stream",
     "text": [
      "Happy New Year: Joseph\n",
      "Happy New Year: Glenn\n",
      "Happy New Year: Sally\n"
     ]
    }
   ],
   "source": [
    "# iterate strings as part of a list\n",
    "friends = ['Joseph', 'Glenn', 'Sally'] \n",
    "for friend in friends:\n",
    "    print(\"Happy New Year:\", friend) \n"
   ]
  },
  {
   "cell_type": "code",
   "execution_count": 10,
   "id": "26f8d293",
   "metadata": {},
   "outputs": [
    {
     "name": "stdout",
     "output_type": "stream",
     "text": [
      "Count:  6\n"
     ]
    }
   ],
   "source": [
    "# to calculate count in sequence\n",
    "count = 0\n",
    "for itervar in [3, 41, 12, 9, 74, 15]:\n",
    "    count = count + 1 \n",
    "print(\"Count: \", count)"
   ]
  },
  {
   "cell_type": "code",
   "execution_count": 11,
   "id": "26603da2",
   "metadata": {},
   "outputs": [
    {
     "name": "stdout",
     "output_type": "stream",
     "text": [
      "Total:  154\n"
     ]
    }
   ],
   "source": [
    "#Calculate sum with total\n",
    "total=0\n",
    "for itervar in [3, 41, 12, 9, 74, 15]:\n",
    "    total = total + itervar \n",
    "print(\"Total: \", total)"
   ]
  },
  {
   "cell_type": "code",
   "execution_count": 12,
   "id": "e443826e",
   "metadata": {},
   "outputs": [
    {
     "name": "stdout",
     "output_type": "stream",
     "text": [
      "Before: None\n",
      "Loop: 3 3\n",
      "Loop: 41 41\n",
      "Loop: 12 41\n",
      "Loop: 9 41\n",
      "Loop: 74 74\n",
      "Loop: 15 74\n",
      "Largest: 74\n"
     ]
    }
   ],
   "source": [
    "#Identify the largest number in a sequence\n",
    "largest = None\n",
    "print(\"Before:\", largest)\n",
    "for itervar in [3, 41, 12, 9, 74, 15]:\n",
    "    if largest is None or itervar > largest : \n",
    "        largest = itervar\n",
    "    print(\"Loop:\", itervar, largest)\n",
    "print(\"Largest:\", largest)"
   ]
  },
  {
   "cell_type": "code",
   "execution_count": 6,
   "id": "90c3d0dc",
   "metadata": {},
   "outputs": [
    {
     "name": "stdout",
     "output_type": "stream",
     "text": [
      "1 4 9 16 25 36 49 64 81 100 "
     ]
    }
   ],
   "source": [
    "# generator expressions\n",
    "def squares(n=10):\n",
    "    for i in range(1, n + 1):\n",
    "        yield i ** 2\n",
    "        \n",
    "gen = squares()\n",
    "for x in gen:\n",
    "    print(x, end=' ')"
   ]
  },
  {
   "cell_type": "code",
   "execution_count": 17,
   "id": "6b115a51",
   "metadata": {},
   "outputs": [
    {
     "name": "stdout",
     "output_type": "stream",
     "text": [
      "loop:  [1, 4, 9, 16]\n",
      "list comprehension:  [1, 4, 9, 16]\n"
     ]
    }
   ],
   "source": [
    "# list comprehension\n",
    "x = [1, 2, 3, 4]\n",
    "\n",
    "squared = []\n",
    "for item in x:\n",
    "    squared.append(item**2)\n",
    "print('loop: ', squared)\n",
    "print('list comprehension: ', [item**2 for item in x])"
   ]
  },
  {
   "cell_type": "code",
   "execution_count": 14,
   "id": "15b0ba60",
   "metadata": {
    "collapsed": false,
    "editable": true,
    "jupyter": {
     "outputs_hidden": false
    }
   },
   "outputs": [
    {
     "name": "stdout",
     "output_type": "stream",
     "text": [
      "1.0\n",
      "Error\n"
     ]
    }
   ],
   "source": [
    "# errors and exception handling\n",
    "def attempt_float(x):\n",
    "    try:\n",
    "        return float(x)\n",
    "    except ValueError:\n",
    "        return \"Error\"\n",
    "\n",
    "print(attempt_float(1))\n",
    "print(attempt_float('something'))"
   ]
  },
  {
   "cell_type": "markdown",
   "id": "3d290deb",
   "metadata": {},
   "source": [
    "## Data Types\n",
    "### Strings"
   ]
  },
  {
   "cell_type": "code",
   "execution_count": 1,
   "id": "e4f71d10",
   "metadata": {},
   "outputs": [
    {
     "name": "stdout",
     "output_type": "stream",
     "text": [
      "b\n",
      "a\n",
      "n\n",
      "a\n",
      "n\n",
      "a\n"
     ]
    }
   ],
   "source": [
    "# identify characters in a sequence\n",
    "fruit = 'banana' \n",
    "for char in fruit:\n",
    "    print(char)"
   ]
  },
  {
   "cell_type": "code",
   "execution_count": 2,
   "id": "2e6bd196",
   "metadata": {},
   "outputs": [
    {
     "name": "stdout",
     "output_type": "stream",
     "text": [
      "a\n"
     ]
    }
   ],
   "source": [
    "#use len function to identify last item in sequence\n",
    "length=len(fruit)\n",
    "last=fruit[length-1]\n",
    "print(last)"
   ]
  },
  {
   "cell_type": "code",
   "execution_count": 3,
   "id": "41fad729",
   "metadata": {},
   "outputs": [
    {
     "name": "stdout",
     "output_type": "stream",
     "text": [
      "ban\n",
      "ana\n",
      "banana\n"
     ]
    }
   ],
   "source": [
    "#specify item from left or right with the first character as [0]    \n",
    "print(fruit[:3])\n",
    "print(fruit[3:])\n",
    "print(fruit[:])"
   ]
  },
  {
   "cell_type": "code",
   "execution_count": 4,
   "id": "5ffa3651",
   "metadata": {},
   "outputs": [
    {
     "name": "stdout",
     "output_type": "stream",
     "text": [
      "3\n"
     ]
    }
   ],
   "source": [
    "#Use a loop to count items in sequence\n",
    "count = 0\n",
    "for letter in fruit:\n",
    "    if letter == 'a': \n",
    "        count = count + 1\n",
    "print(count)"
   ]
  },
  {
   "cell_type": "code",
   "execution_count": 5,
   "id": "f96265e6",
   "metadata": {},
   "outputs": [
    {
     "name": "stdout",
     "output_type": "stream",
     "text": [
      "BANANA\n"
     ]
    }
   ],
   "source": [
    "#change to uppercase\n",
    "\"a\" in fruit\n",
    "\"seed\" in fruit\n",
    "FRUIT=fruit.upper()\n",
    "print(FRUIT)"
   ]
  },
  {
   "cell_type": "code",
   "execution_count": 6,
   "id": "0e3db284",
   "metadata": {},
   "outputs": [
    {
     "data": {
      "text/plain": [
       "2"
      ]
     },
     "execution_count": 6,
     "metadata": {},
     "output_type": "execute_result"
    }
   ],
   "source": [
    "#use find to find characters in a string\n",
    "fruit.find(\"na\")"
   ]
  },
  {
   "cell_type": "code",
   "execution_count": 7,
   "id": "ffef8963",
   "metadata": {},
   "outputs": [
    {
     "data": {
      "text/plain": [
       "'Here we go!'"
      ]
     },
     "execution_count": 7,
     "metadata": {},
     "output_type": "execute_result"
    }
   ],
   "source": [
    "#strip spaces from text between quotations\n",
    "line=\" Here we go! \"\n",
    "line.strip()"
   ]
  },
  {
   "cell_type": "code",
   "execution_count": 10,
   "id": "0e24efb6",
   "metadata": {},
   "outputs": [
    {
     "name": "stdout",
     "output_type": "stream",
     "text": [
      "line starts with Please:  True\n",
      "line starts with p:  False\n"
     ]
    }
   ],
   "source": [
    "#write conditional statements about text\n",
    "line = 'Please have a nice day' \n",
    "print('line starts with Please: ', line.startswith('Please'))\n",
    "print('line starts with p: ', line.startswith('p'))"
   ]
  },
  {
   "cell_type": "code",
   "execution_count": 11,
   "id": "4ba82ded",
   "metadata": {},
   "outputs": [
    {
     "name": "stdout",
     "output_type": "stream",
     "text": [
      "X\n",
      "Y\n"
     ]
    }
   ],
   "source": [
    "#use \\n to return output lines\n",
    "nextline = 'X\\nY' \n",
    "print(nextline)"
   ]
  },
  {
   "cell_type": "code",
   "execution_count": 13,
   "id": "65489f28",
   "metadata": {},
   "outputs": [
    {
     "data": {
      "text/plain": [
       "'In 3 years I have spotted 0.1 camels.'"
      ]
     },
     "execution_count": 13,
     "metadata": {},
     "output_type": "execute_result"
    }
   ],
   "source": [
    "#format operator constructs strings and replaces parts stored in variables\n",
    "camels=42\n",
    "\"%d\"%camels\n",
    "\"I saw %d camels.\"%camels\n",
    "'In %d years I have spotted %g %s.' % (3, 0.1, 'camels') "
   ]
  },
  {
   "cell_type": "markdown",
   "id": "528b64f0",
   "metadata": {},
   "source": [
    "### Lists"
   ]
  },
  {
   "cell_type": "code",
   "execution_count": 18,
   "id": "122221e6",
   "metadata": {},
   "outputs": [
    {
     "name": "stdout",
     "output_type": "stream",
     "text": [
      "second element as string:  [17, 'five']\n",
      "second element as integer:  [17, 5]\n"
     ]
    }
   ],
   "source": [
    "#unlike strings, lists are mutable because you can change the order or \n",
    "numbers=[17, \"five\"]\n",
    "print('second element as string: ',numbers)\n",
    "\n",
    "# reassign items to a list\n",
    "numbers[1]=5\n",
    "print('second element as integer: ',numbers)"
   ]
  },
  {
   "cell_type": "code",
   "execution_count": 19,
   "id": "a25abf33",
   "metadata": {},
   "outputs": [
    {
     "name": "stdout",
     "output_type": "stream",
     "text": [
      "[5, 17]\n"
     ]
    }
   ],
   "source": [
    "#sorting\n",
    "numbers.sort()\n",
    "print(numbers)"
   ]
  },
  {
   "cell_type": "code",
   "execution_count": 21,
   "id": "1b4dfacf",
   "metadata": {},
   "outputs": [
    {
     "name": "stdout",
     "output_type": "stream",
     "text": [
      "max:  17\n",
      "min:  5\n",
      "sum:  22\n"
     ]
    }
   ],
   "source": [
    "#other functions with lists\n",
    "print('max: ',max(numbers))\n",
    "print('min: ',min(numbers))\n",
    "print('sum: ',sum(numbers))"
   ]
  },
  {
   "cell_type": "code",
   "execution_count": 37,
   "id": "8c587a4d",
   "metadata": {},
   "outputs": [
    {
     "name": "stdout",
     "output_type": "stream",
     "text": [
      "[1, 2, 3, 4, 5, 6]\n"
     ]
    }
   ],
   "source": [
    "#like strings, lists can also be concatenated\n",
    "a=[1,2,3]\n",
    "b=[4,5,6]\n",
    "c=a+b\n",
    "print(c)"
   ]
  },
  {
   "cell_type": "code",
   "execution_count": 39,
   "id": "bd9eca4b",
   "metadata": {},
   "outputs": [
    {
     "data": {
      "text/plain": [
       "[1, 2, 3, 4, 5, 6, 7, 8]"
      ]
     },
     "execution_count": 39,
     "metadata": {},
     "output_type": "execute_result"
    }
   ],
   "source": [
    "# concat with .extend\n",
    "c.extend([7, 8])\n",
    "c"
   ]
  },
  {
   "cell_type": "code",
   "execution_count": 23,
   "id": "1c28cf2f",
   "metadata": {},
   "outputs": [
    {
     "data": {
      "text/plain": [
       "[2, 3]"
      ]
     },
     "execution_count": 23,
     "metadata": {},
     "output_type": "execute_result"
    }
   ],
   "source": [
    "# slicing to show only specific items in the list\n",
    "#second parameter is \"up to but not including\" (remember starts at [0])\n",
    "c[1:3]"
   ]
  },
  {
   "cell_type": "code",
   "execution_count": 50,
   "id": "cbedc3aa",
   "metadata": {
    "collapsed": false,
    "editable": true,
    "jupyter": {
     "outputs_hidden": false
    }
   },
   "outputs": [
    {
     "data": {
      "text/plain": [
       "[1, 3, 5, 7]"
      ]
     },
     "execution_count": 50,
     "metadata": {},
     "output_type": "execute_result"
    }
   ],
   "source": [
    "# take only even numbers\n",
    "c[::2]"
   ]
  },
  {
   "cell_type": "code",
   "execution_count": 51,
   "id": "1cf21618",
   "metadata": {
    "collapsed": false,
    "editable": true,
    "jupyter": {
     "outputs_hidden": false
    }
   },
   "outputs": [
    {
     "data": {
      "text/plain": [
       "[8, 7, 6, 5, 4, 3, 2, 1]"
      ]
     },
     "execution_count": 51,
     "metadata": {},
     "output_type": "execute_result"
    }
   ],
   "source": [
    "# reverse number order\n",
    "c[::-1]"
   ]
  },
  {
   "cell_type": "code",
   "execution_count": 32,
   "id": "6d59b0da",
   "metadata": {
    "collapsed": false,
    "editable": true,
    "jupyter": {
     "outputs_hidden": false
    }
   },
   "outputs": [
    {
     "data": {
      "text/plain": [
       "['book', 'red']"
      ]
     },
     "execution_count": 32,
     "metadata": {},
     "output_type": "execute_result"
    }
   ],
   "source": [
    "# pop returns up to n ordered items in list (left-right)\n",
    "stuff.pop(2)\n",
    "stuff"
   ]
  },
  {
   "cell_type": "code",
   "execution_count": 24,
   "id": "6a914a7f",
   "metadata": {},
   "outputs": [
    {
     "name": "stdout",
     "output_type": "stream",
     "text": [
      "[1, 3, 4, 5, 6]\n"
     ]
    }
   ],
   "source": [
    "# delete items in a list\n",
    "del c[1]\n",
    "print(c)"
   ]
  },
  {
   "cell_type": "code",
   "execution_count": 27,
   "id": "10f9ed3c",
   "metadata": {},
   "outputs": [
    {
     "name": "stdout",
     "output_type": "stream",
     "text": [
      "[1]\n"
     ]
    }
   ],
   "source": [
    "#to remove more than one element, you can use del with a slice index\n",
    "del c[1:5]\n",
    "print(c)"
   ]
  },
  {
   "cell_type": "code",
   "execution_count": 25,
   "id": "660be9c1",
   "metadata": {},
   "outputs": [
    {
     "name": "stdout",
     "output_type": "stream",
     "text": [
      "[1, 3, 4, 5]\n"
     ]
    }
   ],
   "source": [
    "#if you know the element you want to remove (but not the index), you can use remove:\n",
    "c.remove(6)\n",
    "print(c)"
   ]
  },
  {
   "cell_type": "code",
   "execution_count": 28,
   "id": "3261a51f",
   "metadata": {},
   "outputs": [
    {
     "name": "stdout",
     "output_type": "stream",
     "text": [
      "['book', 'movie']\n"
     ]
    }
   ],
   "source": [
    "#appending items to end of list\n",
    "stuff=list() #empty list\n",
    "stuff.append(\"book\")\n",
    "stuff.append(\"movie\")\n",
    "print(stuff)"
   ]
  },
  {
   "cell_type": "code",
   "execution_count": 31,
   "id": "f0221dae",
   "metadata": {},
   "outputs": [
    {
     "data": {
      "text/plain": [
       "False"
      ]
     },
     "execution_count": 31,
     "metadata": {},
     "output_type": "execute_result"
    }
   ],
   "source": [
    "#or use conditional statements to identify if a variable in a list\n",
    "\"ipod\" in stuff"
   ]
  },
  {
   "cell_type": "code",
   "execution_count": 29,
   "id": "b8805c66",
   "metadata": {
    "collapsed": false,
    "editable": true,
    "jupyter": {
     "outputs_hidden": false
    }
   },
   "outputs": [
    {
     "data": {
      "text/plain": [
       "['book', 'red', 'movie']"
      ]
     },
     "execution_count": 29,
     "metadata": {},
     "output_type": "execute_result"
    }
   ],
   "source": [
    "# add to list in specific order\n",
    "stuff.insert(1, 'red')\n",
    "stuff"
   ]
  },
  {
   "cell_type": "code",
   "execution_count": 55,
   "id": "a614f8d4",
   "metadata": {},
   "outputs": [
    {
     "name": "stdout",
     "output_type": "stream",
     "text": [
      "with integers:  [0, 1, 2, 2, 3, 6, 7]\n",
      "with strings:  [' ', 'a', 'c', 'e', 'e', 'h', 'o', 'r', 'r', 's']\n"
     ]
    }
   ],
   "source": [
    "# sort ascending (sorted or .sort())\n",
    "print('with integers: ', sorted([7, 1, 2, 6, 0, 3, 2]))\n",
    "print('with strings: ', sorted('horse race'))"
   ]
  },
  {
   "cell_type": "code",
   "execution_count": 52,
   "id": "acfa3d34",
   "metadata": {
    "collapsed": false,
    "editable": true,
    "jupyter": {
     "outputs_hidden": false
    }
   },
   "outputs": [
    {
     "data": {
      "text/plain": [
       "[9, 8, 7, 6, 5, 4, 3, 2, 1, 0]"
      ]
     },
     "execution_count": 52,
     "metadata": {},
     "output_type": "execute_result"
    }
   ],
   "source": [
    "# sort descending\n",
    "list(reversed(range(10)))"
   ]
  },
  {
   "cell_type": "code",
   "execution_count": 57,
   "id": "421ac05a",
   "metadata": {
    "collapsed": false,
    "editable": true,
    "jupyter": {
     "outputs_hidden": false
    }
   },
   "outputs": [
    {
     "data": {
      "text/plain": [
       "['He', 'saw', 'six', 'small', 'foxes']"
      ]
     },
     "execution_count": 57,
     "metadata": {},
     "output_type": "execute_result"
    }
   ],
   "source": [
    "# sort items in list by lenth\n",
    "b = ['saw', 'small', 'He', 'foxes', 'six']\n",
    "b.sort(key=len)\n",
    "b"
   ]
  },
  {
   "cell_type": "code",
   "execution_count": 87,
   "id": "1e8326d2",
   "metadata": {},
   "outputs": [
    {
     "data": {
      "text/plain": [
       "{1, 2, 3, 4, 5, 6}"
      ]
     },
     "execution_count": 87,
     "metadata": {},
     "output_type": "execute_result"
    }
   ],
   "source": [
    "# lists concat but not with set == tuple\n",
    "l2 = [4, 4, 5, 6]\n",
    "\n",
    "set(l + l2)"
   ]
  },
  {
   "cell_type": "code",
   "execution_count": 106,
   "id": "7d2f3ac7",
   "metadata": {},
   "outputs": [
    {
     "data": {
      "text/plain": [
       "['BAT', 'CAR', 'DOVE', 'PYTHON']"
      ]
     },
     "execution_count": 106,
     "metadata": {},
     "output_type": "execute_result"
    }
   ],
   "source": [
    "# list comprehension to apply upper case to all strings in list\n",
    "strings = ['a', 'as', 'bat', 'car', 'dove', 'python']\n",
    "[x.upper() for x in strings if len(x) > 2]"
   ]
  },
  {
   "cell_type": "code",
   "execution_count": 107,
   "id": "a00ee200",
   "metadata": {
    "collapsed": false,
    "editable": true,
    "jupyter": {
     "outputs_hidden": false
    }
   },
   "outputs": [
    {
     "data": {
      "text/plain": [
       "{1, 2, 3, 4, 6}"
      ]
     },
     "execution_count": 107,
     "metadata": {},
     "output_type": "execute_result"
    }
   ],
   "source": [
    "# get len for each element in list\n",
    "unique_lengths = {len(x) for x in strings}\n",
    "unique_lengths"
   ]
  },
  {
   "cell_type": "code",
   "execution_count": 108,
   "id": "b7e359fa",
   "metadata": {
    "collapsed": false,
    "editable": true,
    "jupyter": {
     "outputs_hidden": false
    }
   },
   "outputs": [
    {
     "data": {
      "text/plain": [
       "{1, 2, 3, 4, 6}"
      ]
     },
     "execution_count": 108,
     "metadata": {},
     "output_type": "execute_result"
    }
   ],
   "source": [
    "# can also use map()\n",
    "set(map(len, strings))"
   ]
  },
  {
   "cell_type": "code",
   "execution_count": 109,
   "id": "866c8c37",
   "metadata": {
    "collapsed": false,
    "editable": true,
    "jupyter": {
     "outputs_hidden": false
    }
   },
   "outputs": [
    {
     "data": {
      "text/plain": [
       "{'a': 0, 'as': 1, 'bat': 2, 'car': 3, 'dove': 4, 'python': 5}"
      ]
     },
     "execution_count": 109,
     "metadata": {},
     "output_type": "execute_result"
    }
   ],
   "source": [
    "# create dict with enumerated elements (ordered)\n",
    "loc_mapping = {val : index for index, val in enumerate(strings)}\n",
    "loc_mapping"
   ]
  },
  {
   "cell_type": "code",
   "execution_count": 110,
   "id": "2e02c313",
   "metadata": {
    "collapsed": false,
    "editable": true,
    "jupyter": {
     "outputs_hidden": false
    }
   },
   "outputs": [
    {
     "data": {
      "text/plain": [
       "['Steven']"
      ]
     },
     "execution_count": 110,
     "metadata": {},
     "output_type": "execute_result"
    }
   ],
   "source": [
    "# nested list comprehension to locate element with 2 e's \n",
    "all_data = [['John', 'Emily', 'Michael', 'Mary', 'Steven'],\n",
    "            ['Maria', 'Juan', 'Javier', 'Natalia', 'Pilar']]\n",
    "\n",
    "result = [name for names in all_data for name in names\n",
    "          if name.count('e') >= 2]\n",
    "result"
   ]
  },
  {
   "cell_type": "code",
   "execution_count": 112,
   "id": "aeaaf92e",
   "metadata": {
    "collapsed": false,
    "editable": true,
    "jupyter": {
     "outputs_hidden": false
    }
   },
   "outputs": [
    {
     "data": {
      "text/plain": [
       "[1, 2, 2, 3, 4, 5, 6, 7, 8, 9]"
      ]
     },
     "execution_count": 112,
     "metadata": {},
     "output_type": "execute_result"
    }
   ],
   "source": [
    "# flatten nested list into single list\n",
    "some_tuples = [(1, 2, 2, 3), (4, 5, 6), (7, 8, 9)]\n",
    "flattened = [x for tup in some_tuples for x in tup]\n",
    "flattened"
   ]
  },
  {
   "cell_type": "markdown",
   "id": "85a5a0fc",
   "metadata": {
    "editable": true,
    "jupyter": {
     "outputs_hidden": false
    }
   },
   "source": [
    "### Tuples"
   ]
  },
  {
   "cell_type": "code",
   "execution_count": 77,
   "id": "cfcbca0f",
   "metadata": {},
   "outputs": [
    {
     "name": "stdout",
     "output_type": "stream",
     "text": [
      "from (4, 5, 6) to 5\n"
     ]
    }
   ],
   "source": [
    "#like lists, tubles is a sequence of values that are immutable (like strings)\n",
    "#but they are more efficient when creating a temporary list that won't be changed\n",
    "#unpack tuples\n",
    "tup = (4, 5, 6)\n",
    "a, b, c = tup\n",
    "print('from', tup, 'to', b)"
   ]
  },
  {
   "cell_type": "code",
   "execution_count": 104,
   "id": "f080af3a",
   "metadata": {
    "collapsed": false,
    "editable": true,
    "jupyter": {
     "outputs_hidden": false
    }
   },
   "outputs": [
    {
     "name": "stdout",
     "output_type": "stream",
     "text": [
      "assert with list: False \n",
      "assert with set: True \n",
      "assert with tupl: False\n"
     ]
    }
   ],
   "source": [
    "# assert tuples do not have order\n",
    "print('assert with list:',[1, 2, 3] == [3, 2, 1],'\\nassert with set:',{1, 2, 3} == {3, 2, 1},'\\nassert with tupl:',(1, 2, 3) == (3, 2, 1))"
   ]
  },
  {
   "cell_type": "code",
   "execution_count": 70,
   "id": "13baf174",
   "metadata": {},
   "outputs": [
    {
     "name": "stdout",
     "output_type": "stream",
     "text": [
      "4\n"
     ]
    }
   ],
   "source": [
    "#create a tuple and print left hand side of the assignment (parentheses optional)\n",
    "(x,y)=(4,12)\n",
    "print(x)"
   ]
  },
  {
   "cell_type": "code",
   "execution_count": 71,
   "id": "0ff14d67",
   "metadata": {},
   "outputs": [
    {
     "name": "stdout",
     "output_type": "stream",
     "text": [
      "('L', 'u', 'p', 'i', 'n', 's')\n"
     ]
    }
   ],
   "source": [
    "#you can't modify a tuple, but you can replace it with another by identifying order in tuple\n",
    "t=(\"L\",) + t[1:]\n",
    "print(t)"
   ]
  },
  {
   "cell_type": "code",
   "execution_count": null,
   "id": "a27c2649",
   "metadata": {},
   "outputs": [],
   "source": [
    "# list of tuple\n",
    "seq = [(1, 2, 3), (4, 5, 6), (7, 8, 9)]\n",
    "for a, b, c in seq:\n",
    "    print('a={0}, b={1}, c={2}'.format(a, b, c))"
   ]
  },
  {
   "cell_type": "markdown",
   "id": "e0042066",
   "metadata": {
    "editable": true
   },
   "source": [
    "### Dictionaries"
   ]
  },
  {
   "cell_type": "code",
   "execution_count": 115,
   "id": "26597e82",
   "metadata": {},
   "outputs": [
    {
     "name": "stdout",
     "output_type": "stream",
     "text": [
      "a 10\n",
      "b 1\n",
      "c 22\n",
      "f 22\n"
     ]
    }
   ],
   "source": [
    "#print key-value pairs by key\n",
    "for k in sorted(c):\n",
    "    print(k, c[k])"
   ]
  },
  {
   "cell_type": "code",
   "execution_count": 114,
   "id": "c69af215",
   "metadata": {},
   "outputs": [
    {
     "data": {
      "text/plain": [
       "['a', 'b', 'c', 'f']"
      ]
     },
     "execution_count": 114,
     "metadata": {},
     "output_type": "execute_result"
    }
   ],
   "source": [
    "#sorting dict by key\n",
    "c = {'a': 10, 'c': 22, 'b': 1, 'f': 22}\n",
    "sorted(c)"
   ]
  },
  {
   "cell_type": "code",
   "execution_count": 116,
   "id": "459a04ed",
   "metadata": {},
   "outputs": [
    {
     "name": "stdout",
     "output_type": "stream",
     "text": [
      "[(22, 'f'), (22, 'c'), (10, 'a'), (1, 'b')]\n"
     ]
    }
   ],
   "source": [
    "#create temporary list to sort by values instead of key and reverse sort\n",
    "tmp=list()\n",
    "for k,v in c.items():\n",
    "    tmp.append((v,k))\n",
    "tmp.sort(reverse=True)\n",
    "print(tmp)"
   ]
  },
  {
   "cell_type": "code",
   "execution_count": 117,
   "id": "9ab02b3d",
   "metadata": {
    "collapsed": false,
    "editable": true,
    "jupyter": {
     "outputs_hidden": false
    }
   },
   "outputs": [
    {
     "name": "stdout",
     "output_type": "stream",
     "text": [
      "[(1, 'b'), (10, 'a'), (22, 'c'), (22, 'f')]\n"
     ]
    }
   ],
   "source": [
    "#shorthand for list comprehension in ascending order\n",
    "print(sorted([(v,k) for k,v in c.items()]))"
   ]
  },
  {
   "cell_type": "code",
   "execution_count": 130,
   "id": "0b216109",
   "metadata": {
    "collapsed": false,
    "editable": true,
    "jupyter": {
     "outputs_hidden": false
    }
   },
   "outputs": [
    {
     "name": "stdout",
     "output_type": "stream",
     "text": [
      "print dict {'money': 12, 'candy': 3, 'tissues': 75} \n",
      "assert money is in purse: True\n"
     ]
    }
   ],
   "source": [
    "#Whereas list is a linear collection of ordered values, a dictionary is an assortment of unordered labeled values, similar to a database\n",
    "#Becuase dictionaries are not ordered, they require labels (or key for values)\n",
    "# create and fillempty dict\n",
    "purse = dict()\n",
    "purse['money'] = 12\n",
    "purse['candy'] = 3\n",
    "purse['tissues'] = 75\n",
    "\n",
    "#check if key is in dictionary\n",
    "print('print dict',purse,\"\\nassert money is in purse:\", 'money' in purse)\n"
   ]
  },
  {
   "cell_type": "code",
   "execution_count": 135,
   "id": "75a2307b",
   "metadata": {
    "collapsed": false,
    "editable": true,
    "jupyter": {
     "outputs_hidden": false
    }
   },
   "outputs": [
    {
     "name": "stdout",
     "output_type": "stream",
     "text": [
      "{'csev': 2, 'owen': 1, 'zqian': 1, 'cwen': 1}\n"
     ]
    }
   ],
   "source": [
    "#use dictionaries to count items\n",
    "counts = dict()\n",
    "names = ['csev','owen','csev','zqian','cwen']\n",
    "for name in names:\n",
    "    if name not in counts:\n",
    "        counts[name]= 1\n",
    "    else: \n",
    "        counts[name] = counts[name] + 1\n",
    "print(counts) "
   ]
  },
  {
   "cell_type": "code",
   "execution_count": 132,
   "id": "be9c5f86",
   "metadata": {
    "collapsed": false,
    "editable": true,
    "jupyter": {
     "outputs_hidden": false
    }
   },
   "outputs": [
    {
     "name": "stdout",
     "output_type": "stream",
     "text": [
      "{'csev': 2, 'owen': 1, 'zqian': 1, 'cwen': 1}\n"
     ]
    }
   ],
   "source": [
    "#equivalent to the GET function\n",
    "for name in names:\n",
    "    counts[name]=counts.get(name,0)\n",
    "print(counts)"
   ]
  },
  {
   "cell_type": "code",
   "execution_count": 159,
   "id": "db29f1c2",
   "metadata": {},
   "outputs": [
    {
     "name": "stdout",
     "output_type": "stream",
     "text": [
      "items: dict_items([('csev', 2), ('owen', 1), ('zqian', 1), ('cwen', 1)]) \n",
      "items: dict_keys(['csev', 'owen', 'zqian', 'cwen']) \n",
      "values: dict_values([2, 1, 1, 1])\n"
     ]
    }
   ],
   "source": [
    "# unpack items, keys and values as nested list\n",
    "print('items:',counts.items(),'\\nitems:',counts.keys(),'\\nvalues:',counts.values())\n",
    "list(d1.keys())"
   ]
  },
  {
   "cell_type": "code",
   "execution_count": 138,
   "id": "e3154527",
   "metadata": {
    "collapsed": false,
    "editable": true,
    "jupyter": {
     "outputs_hidden": false
    }
   },
   "outputs": [
    {
     "name": "stdout",
     "output_type": "stream",
     "text": [
      "0: foo, one\n",
      "1: bar, two\n",
      "2: baz, three\n"
     ]
    }
   ],
   "source": [
    "# enumerated items in diction\n",
    "for i, (a, b) in enumerate(zip(seq1, seq2)):\n",
    "    print('{0}: {1}, {2}'.format(i, a, b))"
   ]
  },
  {
   "cell_type": "code",
   "execution_count": 136,
   "id": "8aa98666",
   "metadata": {
    "collapsed": false,
    "editable": true,
    "jupyter": {
     "outputs_hidden": false
    }
   },
   "outputs": [
    {
     "data": {
      "text/plain": [
       "[('foo', 'one'), ('bar', 'two'), ('baz', 'three')]"
      ]
     },
     "execution_count": 136,
     "metadata": {},
     "output_type": "execute_result"
    }
   ],
   "source": [
    "# use zip to create dict from list\n",
    "seq1 = ['foo', 'bar', 'baz']\n",
    "seq2 = ['one', 'two', 'three']\n",
    "zipped = zip(seq1, seq2)\n",
    "list(zipped)"
   ]
  },
  {
   "cell_type": "code",
   "execution_count": 137,
   "id": "0b5d93b3",
   "metadata": {
    "collapsed": false,
    "editable": true,
    "jupyter": {
     "outputs_hidden": false
    }
   },
   "outputs": [
    {
     "data": {
      "text/plain": [
       "[('foo', 'one', False), ('bar', 'two', True)]"
      ]
     },
     "execution_count": 137,
     "metadata": {},
     "output_type": "execute_result"
    }
   ],
   "source": [
    "# add element to nested list\n",
    "seq3 = [False, True]\n",
    "list(zip(seq1, seq2, seq3))"
   ]
  },
  {
   "cell_type": "code",
   "execution_count": 139,
   "id": "a4d387b2",
   "metadata": {
    "collapsed": false,
    "editable": true,
    "jupyter": {
     "outputs_hidden": false
    }
   },
   "outputs": [
    {
     "data": {
      "text/plain": [
       "('Ryan', 'Clemens', 'Curt')"
      ]
     },
     "execution_count": 139,
     "metadata": {},
     "output_type": "execute_result"
    }
   ],
   "source": [
    "# create tuple from item in nested list\n",
    "pitchers = [('Nolan', 'Ryan'), ('Roger', 'Clemens'),\n",
    "            ('Schilling', 'Curt')]\n",
    "first_names, last_names = zip(*pitchers)\n",
    "first_names\n",
    "last_names"
   ]
  },
  {
   "cell_type": "code",
   "execution_count": 169,
   "id": "605bb527",
   "metadata": {
    "collapsed": false,
    "editable": true,
    "jupyter": {
     "outputs_hidden": false
    }
   },
   "outputs": [
    {
     "data": {
      "text/plain": [
       "{'a': 'some value', 'b': [1, 2, 3, 4], '7': 'another value'}"
      ]
     },
     "execution_count": 169,
     "metadata": {},
     "output_type": "execute_result"
    }
   ],
   "source": [
    "# create nested list in a dictionary\n",
    "empty_dict = {}\n",
    "d1 = {'a' : 'some value', 'b' : [1, 2, 3, 4]}\n",
    "\n",
    "# add new item\n",
    "d1['7'] = 'another value'\n",
    "d1"
   ]
  },
  {
   "cell_type": "code",
   "execution_count": 172,
   "id": "76d206d3",
   "metadata": {
    "collapsed": false,
    "editable": true,
    "jupyter": {
     "outputs_hidden": false
    }
   },
   "outputs": [
    {
     "data": {
      "text/plain": [
       "{'a': 'some value', 'b': 'foo', 'c': 12}"
      ]
     },
     "execution_count": 172,
     "metadata": {},
     "output_type": "execute_result"
    }
   ],
   "source": [
    "# replace value for dict item\n",
    "d1.update({'b' : 'foo', 'c' : 12})\n",
    "d1"
   ]
  },
  {
   "cell_type": "code",
   "execution_count": 166,
   "id": "d2f70ce3",
   "metadata": {},
   "outputs": [
    {
     "data": {
      "text/plain": [
       "'another value'"
      ]
     },
     "execution_count": 166,
     "metadata": {},
     "output_type": "execute_result"
    }
   ],
   "source": [
    "# use pop to return value of a key\n",
    "ret = d1.pop('7')\n",
    "ret"
   ]
  },
  {
   "cell_type": "code",
   "execution_count": 170,
   "id": "ace3bab1",
   "metadata": {},
   "outputs": [
    {
     "data": {
      "text/plain": [
       "{'a': 'some value', 'b': [1, 2, 3, 4]}"
      ]
     },
     "execution_count": 170,
     "metadata": {},
     "output_type": "execute_result"
    }
   ],
   "source": [
    "# delete item in dict\n",
    "del d1['7']\n",
    "d1"
   ]
  },
  {
   "cell_type": "code",
   "execution_count": null,
   "id": "2e9f2368",
   "metadata": {
    "collapsed": false,
    "editable": true,
    "jupyter": {
     "outputs_hidden": false
    }
   },
   "outputs": [],
   "source": []
  },
  {
   "cell_type": "code",
   "execution_count": null,
   "id": "c5e7a772",
   "metadata": {
    "collapsed": false,
    "editable": true,
    "jupyter": {
     "outputs_hidden": false
    }
   },
   "outputs": [],
   "source": []
  },
  {
   "cell_type": "code",
   "execution_count": null,
   "id": "1a1dc5a6",
   "metadata": {
    "collapsed": false,
    "editable": true,
    "jupyter": {
     "outputs_hidden": false
    }
   },
   "outputs": [],
   "source": []
  },
  {
   "cell_type": "code",
   "execution_count": null,
   "id": "1df1817a",
   "metadata": {
    "collapsed": false,
    "editable": true,
    "jupyter": {
     "outputs_hidden": false
    }
   },
   "outputs": [],
   "source": []
  },
  {
   "cell_type": "code",
   "execution_count": null,
   "id": "2cc270d8",
   "metadata": {},
   "outputs": [],
   "source": []
  },
  {
   "cell_type": "code",
   "execution_count": null,
   "id": "ee055ee2",
   "metadata": {},
   "outputs": [],
   "source": []
  },
  {
   "cell_type": "code",
   "execution_count": null,
   "id": "eb3cf5c2",
   "metadata": {},
   "outputs": [],
   "source": []
  },
  {
   "cell_type": "code",
   "execution_count": null,
   "id": "b262c5e7",
   "metadata": {},
   "outputs": [],
   "source": []
  }
 ],
 "metadata": {
  "kernelspec": {
   "display_name": "Python 3",
   "language": "python",
   "name": "python3"
  },
  "language_info": {
   "codemirror_mode": {
    "name": "ipython",
    "version": 3
   },
   "file_extension": ".py",
   "mimetype": "text/x-python",
   "name": "python",
   "nbconvert_exporter": "python",
   "pygments_lexer": "ipython3",
   "version": "3.7.2"
  }
 },
 "nbformat": 4,
 "nbformat_minor": 5
}
