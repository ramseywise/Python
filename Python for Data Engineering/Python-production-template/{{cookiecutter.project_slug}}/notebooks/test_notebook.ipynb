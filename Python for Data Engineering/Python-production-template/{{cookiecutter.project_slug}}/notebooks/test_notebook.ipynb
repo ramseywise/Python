{
 "cells": [
  {
   "cell_type": "code",
   "execution_count": null,
   "metadata": {},
   "outputs": [],
   "source": [
    "### Select your recently created Conda env as a kernel ↗️↗️↗️↗️↗️\n"
   ]
  }
 ],
 "metadata": {
  "language_info": {
   "name": "python"
  }
 },
 "nbformat": 4,
 "nbformat_minor": 2
}
